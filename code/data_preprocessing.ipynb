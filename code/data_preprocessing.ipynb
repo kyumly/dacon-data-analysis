{
 "cells": [
  {
   "cell_type": "code",
   "execution_count": 2,
   "metadata": {
    "collapsed": true
   },
   "outputs": [],
   "source": [
    "import pandas as pd\n",
    "import numpy as np\n",
    "import math\n",
    "from sklearn import model_selection\n",
    "import platform\n",
    "import seaborn as sns\n",
    "import matplotlib.pyplot as plt\n",
    "import matplotlib\n",
    "from matplotlib import font_manager, rc\n",
    "\n",
    "#연습경기 성정\n",
    "pre_season = pd.read_csv('../data/Pre_Season_Batter2.csv')\n",
    "\n",
    "#정규시즌 성적을 포함하여 개인정보\n",
    "regular_season = pd.read_csv('../data/Regular_Season_Batter2.csv')\n",
    "\n",
    "day_by_day_of = pd.read_csv('../data/Regular_Season_Batter_Day_by_Day_b42.csv')\n",
    "\n",
    "\n",
    "\n",
    "# 타자들의 일자 별 정규시즌 성적\n",
    "regular_season_batter = pd.read_csv('../data/Regular_Season_Batter_Day_by_Day_b42.csv')\n",
    "if platform.system() == 'Windows':\n",
    "    font_name = font_manager.FontProperties(fname=\"C:\\Windows\\Fonts\\malgun.ttf\").get_name()\n",
    "matplotlib.rcParams['axes.unicode_minus'] = False"
   ]
  },
  {
   "cell_type": "code",
   "execution_count": 3,
   "outputs": [],
   "source": [
    "regular_season=regular_season.drop(columns=['Unnamed: 0'],axis=1)\n",
    "\n",
    "\n",
    "pre_season=pre_season.drop(columns=['Unnamed: 0'],axis=1)\n",
    "\n",
    "day_by_day_of=day_by_day_of.drop(columns=['Unnamed: 0'],axis=1)\n"
   ],
   "metadata": {
    "collapsed": false,
    "pycharm": {
     "name": "#%%\n"
    }
   }
  },
  {
   "cell_type": "code",
   "execution_count": 4,
   "outputs": [
    {
     "data": {
      "text/plain": "batter_id                  0\nbatter_name                0\nyear                       0\nteam                       0\navg                       26\nG                          0\nAB                         0\nR                          0\nH                          0\n2B                         0\n3B                         0\nHR                         0\nTB                         0\nRBI                        0\nSB                         0\nCS                         0\nBB                         0\nHBP                        0\nSO                         0\nGDP                        0\nSLG                       26\nOBP                       24\nE                          0\nheight/weight            802\nyear_born                  0\nposition                 802\ncareer                     0\nstarting_salary         1067\nOPS                       26\nweight                   802\nheight                   802\nweight_per_height        802\nhit_way                  802\npos                      802\ncountry                    0\nstarting_salary_list    1076\ndtype: int64"
     },
     "execution_count": 4,
     "metadata": {},
     "output_type": "execute_result"
    }
   ],
   "source": [
    "regular_season.isnull().sum(axis=0)"
   ],
   "metadata": {
    "collapsed": false,
    "pycharm": {
     "name": "#%%\n"
    }
   }
  },
  {
   "cell_type": "markdown",
   "source": [
    "# 결측치 처리 및 데이터 오류 처리\n",
    "## 수치형 데이터 변경"
   ],
   "metadata": {
    "collapsed": false
   }
  },
  {
   "cell_type": "code",
   "execution_count": 5,
   "outputs": [],
   "source": [
    "numerics = ['int16', 'int32', 'int64', 'float16', 'float32', 'float64']\n",
    "num_col = regular_season.select_dtypes(include=numerics).columns"
   ],
   "metadata": {
    "collapsed": false,
    "pycharm": {
     "name": "#%%\n"
    }
   }
  },
  {
   "cell_type": "code",
   "execution_count": 6,
   "outputs": [
    {
     "data": {
      "text/plain": "Index(['batter_id', 'year', 'avg', 'G', 'AB', 'R', 'H', '2B', '3B', 'HR', 'TB',\n       'RBI', 'SB', 'CS', 'BB', 'HBP', 'SO', 'GDP', 'SLG', 'OBP', 'E', 'OPS',\n       'weight', 'height', 'weight_per_height', 'starting_salary_list'],\n      dtype='object')"
     },
     "execution_count": 6,
     "metadata": {},
     "output_type": "execute_result"
    }
   ],
   "source": [
    "num_col"
   ],
   "metadata": {
    "collapsed": false,
    "pycharm": {
     "name": "#%%\n"
    }
   }
  },
  {
   "cell_type": "code",
   "execution_count": 7,
   "outputs": [
    {
     "data": {
      "text/plain": "    batter_id  year    avg   G   AB   R   H  2B  3B  HR  ...  SO  GDP  \\\n0           0  2018  0.339  50  183  27  62   9   0   8  ...  25    3   \n12        138  2005  0.127  39   63   9   8   2   0   0  ...  15    1   \n13        138  2006  0.139  37   36   6   5   2   0   0  ...  14    0   \n14        138  2007  0.000   8    4   3   0   0   0   0  ...   2    1   \n15        138  2008  0.000   2    1   0   0   0   0   0  ...   0    0   \n\n         SLG       OBP  E       OPS  weight  height  weight_per_height  \\\n0   0.519000  0.383000  9  0.902000    93.0   177.0           0.525424   \n12  0.158730  0.256757  3  0.415487     NaN     NaN                NaN   \n13  0.194444  0.326087  4  0.520531     NaN     NaN                NaN   \n14  0.000000  0.000000  0  0.000000     NaN     NaN                NaN   \n15  0.000000  0.000000  0  0.000000     NaN     NaN                NaN   \n\n    starting_salary_list  \n0                    NaN  \n12                   NaN  \n13                   NaN  \n14                   NaN  \n15                   NaN  \n\n[5 rows x 26 columns]",
      "text/html": "<div>\n<style scoped>\n    .dataframe tbody tr th:only-of-type {\n        vertical-align: middle;\n    }\n\n    .dataframe tbody tr th {\n        vertical-align: top;\n    }\n\n    .dataframe thead th {\n        text-align: right;\n    }\n</style>\n<table border=\"1\" class=\"dataframe\">\n  <thead>\n    <tr style=\"text-align: right;\">\n      <th></th>\n      <th>batter_id</th>\n      <th>year</th>\n      <th>avg</th>\n      <th>G</th>\n      <th>AB</th>\n      <th>R</th>\n      <th>H</th>\n      <th>2B</th>\n      <th>3B</th>\n      <th>HR</th>\n      <th>...</th>\n      <th>SO</th>\n      <th>GDP</th>\n      <th>SLG</th>\n      <th>OBP</th>\n      <th>E</th>\n      <th>OPS</th>\n      <th>weight</th>\n      <th>height</th>\n      <th>weight_per_height</th>\n      <th>starting_salary_list</th>\n    </tr>\n  </thead>\n  <tbody>\n    <tr>\n      <th>0</th>\n      <td>0</td>\n      <td>2018</td>\n      <td>0.339</td>\n      <td>50</td>\n      <td>183</td>\n      <td>27</td>\n      <td>62</td>\n      <td>9</td>\n      <td>0</td>\n      <td>8</td>\n      <td>...</td>\n      <td>25</td>\n      <td>3</td>\n      <td>0.519000</td>\n      <td>0.383000</td>\n      <td>9</td>\n      <td>0.902000</td>\n      <td>93.0</td>\n      <td>177.0</td>\n      <td>0.525424</td>\n      <td>NaN</td>\n    </tr>\n    <tr>\n      <th>12</th>\n      <td>138</td>\n      <td>2005</td>\n      <td>0.127</td>\n      <td>39</td>\n      <td>63</td>\n      <td>9</td>\n      <td>8</td>\n      <td>2</td>\n      <td>0</td>\n      <td>0</td>\n      <td>...</td>\n      <td>15</td>\n      <td>1</td>\n      <td>0.158730</td>\n      <td>0.256757</td>\n      <td>3</td>\n      <td>0.415487</td>\n      <td>NaN</td>\n      <td>NaN</td>\n      <td>NaN</td>\n      <td>NaN</td>\n    </tr>\n    <tr>\n      <th>13</th>\n      <td>138</td>\n      <td>2006</td>\n      <td>0.139</td>\n      <td>37</td>\n      <td>36</td>\n      <td>6</td>\n      <td>5</td>\n      <td>2</td>\n      <td>0</td>\n      <td>0</td>\n      <td>...</td>\n      <td>14</td>\n      <td>0</td>\n      <td>0.194444</td>\n      <td>0.326087</td>\n      <td>4</td>\n      <td>0.520531</td>\n      <td>NaN</td>\n      <td>NaN</td>\n      <td>NaN</td>\n      <td>NaN</td>\n    </tr>\n    <tr>\n      <th>14</th>\n      <td>138</td>\n      <td>2007</td>\n      <td>0.000</td>\n      <td>8</td>\n      <td>4</td>\n      <td>3</td>\n      <td>0</td>\n      <td>0</td>\n      <td>0</td>\n      <td>0</td>\n      <td>...</td>\n      <td>2</td>\n      <td>1</td>\n      <td>0.000000</td>\n      <td>0.000000</td>\n      <td>0</td>\n      <td>0.000000</td>\n      <td>NaN</td>\n      <td>NaN</td>\n      <td>NaN</td>\n      <td>NaN</td>\n    </tr>\n    <tr>\n      <th>15</th>\n      <td>138</td>\n      <td>2008</td>\n      <td>0.000</td>\n      <td>2</td>\n      <td>1</td>\n      <td>0</td>\n      <td>0</td>\n      <td>0</td>\n      <td>0</td>\n      <td>0</td>\n      <td>...</td>\n      <td>0</td>\n      <td>0</td>\n      <td>0.000000</td>\n      <td>0.000000</td>\n      <td>0</td>\n      <td>0.000000</td>\n      <td>NaN</td>\n      <td>NaN</td>\n      <td>NaN</td>\n      <td>NaN</td>\n    </tr>\n  </tbody>\n</table>\n<p>5 rows × 26 columns</p>\n</div>"
     },
     "execution_count": 7,
     "metadata": {},
     "output_type": "execute_result"
    }
   ],
   "source": [
    "#regular_season.isnull() == regular_season.isna() 같은거\n",
    "regular_season.loc[regular_season.isnull().sum(axis=1)> 0, num_col].head()\n",
    "\n"
   ],
   "metadata": {
    "collapsed": false,
    "pycharm": {
     "name": "#%%\n"
    }
   }
  },
  {
   "cell_type": "code",
   "execution_count": 8,
   "outputs": [],
   "source": [
    "regular_season[regular_season.select_dtypes(include=numerics).columns] = regular_season[regular_season.select_dtypes(include=numerics).columns].fillna(0)"
   ],
   "metadata": {
    "collapsed": false,
    "pycharm": {
     "name": "#%%\n"
    }
   }
  },
  {
   "cell_type": "code",
   "execution_count": 9,
   "outputs": [
    {
     "data": {
      "text/plain": "      batter_id batter_name  year team    avg    G   AB   R   H  2B  ...  \\\n0             0        가르시아  2018   LG  0.339   50  183  27  62   9  ...   \n1             1         강경학  2011   한화  0.000    2    1   0   0   0  ...   \n2             1         강경학  2014   한화  0.221   41   86  11  19   2  ...   \n3             1         강경학  2015   한화  0.257  120  311  50  80   7  ...   \n4             1         강경학  2016   한화  0.158   46  101  16  16   3  ...   \n...         ...         ...   ...  ...    ...  ...  ...  ..  ..  ..  ...   \n2449        344         황진수  2014   롯데  0.000    5    5   0   0   0  ...   \n2450        344         황진수  2015   롯데  0.000    2    2   0   0   0  ...   \n2451        344         황진수  2016   롯데  0.000   11   10   2   0   0  ...   \n2452        344         황진수  2017   롯데  0.291   60  117  18  34   6  ...   \n2453        344         황진수  2018   롯데  0.167   18   24   6   4   1  ...   \n\n                                      career  starting_salary    OPS  weight  \\\n0     쿠바 Ciego de Avila Maximo Gomez Baez(대)              NaN  0.902    93.0   \n1                          광주대성초-광주동성중-광주동성고          10000만원  0.000    72.0   \n2                          광주대성초-광주동성중-광주동성고          10000만원  0.686    72.0   \n3                          광주대성초-광주동성중-광주동성고          10000만원  0.673    72.0   \n4                          광주대성초-광주동성중-광주동성고          10000만원  0.489    72.0   \n...                                      ...              ...    ...     ...   \n2449                             석천초-대헌중-공주고           4000만원  0.000    82.0   \n2450                             석천초-대헌중-공주고           4000만원  0.000    82.0   \n2451                             석천초-대헌중-공주고           4000만원  0.000    82.0   \n2452                             석천초-대헌중-공주고           4000만원  0.761    82.0   \n2453                             석천초-대헌중-공주고           4000만원  0.564    82.0   \n\n      height  weight_per_height  hit_way  pos  country  starting_salary_list  \n0      177.0           0.525424       우타  내야수  foreign                   0.0  \n1      180.0           0.400000       좌타  내야수    korea               10000.0  \n2      180.0           0.400000       좌타  내야수    korea               10000.0  \n3      180.0           0.400000       좌타  내야수    korea               10000.0  \n4      180.0           0.400000       좌타  내야수    korea               10000.0  \n...      ...                ...      ...  ...      ...                   ...  \n2449   181.0           0.453039       양타  내야수    korea                4000.0  \n2450   181.0           0.453039       양타  내야수    korea                4000.0  \n2451   181.0           0.453039       양타  내야수    korea                4000.0  \n2452   181.0           0.453039       양타  내야수    korea                4000.0  \n2453   181.0           0.453039       양타  내야수    korea                4000.0  \n\n[2454 rows x 36 columns]",
      "text/html": "<div>\n<style scoped>\n    .dataframe tbody tr th:only-of-type {\n        vertical-align: middle;\n    }\n\n    .dataframe tbody tr th {\n        vertical-align: top;\n    }\n\n    .dataframe thead th {\n        text-align: right;\n    }\n</style>\n<table border=\"1\" class=\"dataframe\">\n  <thead>\n    <tr style=\"text-align: right;\">\n      <th></th>\n      <th>batter_id</th>\n      <th>batter_name</th>\n      <th>year</th>\n      <th>team</th>\n      <th>avg</th>\n      <th>G</th>\n      <th>AB</th>\n      <th>R</th>\n      <th>H</th>\n      <th>2B</th>\n      <th>...</th>\n      <th>career</th>\n      <th>starting_salary</th>\n      <th>OPS</th>\n      <th>weight</th>\n      <th>height</th>\n      <th>weight_per_height</th>\n      <th>hit_way</th>\n      <th>pos</th>\n      <th>country</th>\n      <th>starting_salary_list</th>\n    </tr>\n  </thead>\n  <tbody>\n    <tr>\n      <th>0</th>\n      <td>0</td>\n      <td>가르시아</td>\n      <td>2018</td>\n      <td>LG</td>\n      <td>0.339</td>\n      <td>50</td>\n      <td>183</td>\n      <td>27</td>\n      <td>62</td>\n      <td>9</td>\n      <td>...</td>\n      <td>쿠바 Ciego de Avila Maximo Gomez Baez(대)</td>\n      <td>NaN</td>\n      <td>0.902</td>\n      <td>93.0</td>\n      <td>177.0</td>\n      <td>0.525424</td>\n      <td>우타</td>\n      <td>내야수</td>\n      <td>foreign</td>\n      <td>0.0</td>\n    </tr>\n    <tr>\n      <th>1</th>\n      <td>1</td>\n      <td>강경학</td>\n      <td>2011</td>\n      <td>한화</td>\n      <td>0.000</td>\n      <td>2</td>\n      <td>1</td>\n      <td>0</td>\n      <td>0</td>\n      <td>0</td>\n      <td>...</td>\n      <td>광주대성초-광주동성중-광주동성고</td>\n      <td>10000만원</td>\n      <td>0.000</td>\n      <td>72.0</td>\n      <td>180.0</td>\n      <td>0.400000</td>\n      <td>좌타</td>\n      <td>내야수</td>\n      <td>korea</td>\n      <td>10000.0</td>\n    </tr>\n    <tr>\n      <th>2</th>\n      <td>1</td>\n      <td>강경학</td>\n      <td>2014</td>\n      <td>한화</td>\n      <td>0.221</td>\n      <td>41</td>\n      <td>86</td>\n      <td>11</td>\n      <td>19</td>\n      <td>2</td>\n      <td>...</td>\n      <td>광주대성초-광주동성중-광주동성고</td>\n      <td>10000만원</td>\n      <td>0.686</td>\n      <td>72.0</td>\n      <td>180.0</td>\n      <td>0.400000</td>\n      <td>좌타</td>\n      <td>내야수</td>\n      <td>korea</td>\n      <td>10000.0</td>\n    </tr>\n    <tr>\n      <th>3</th>\n      <td>1</td>\n      <td>강경학</td>\n      <td>2015</td>\n      <td>한화</td>\n      <td>0.257</td>\n      <td>120</td>\n      <td>311</td>\n      <td>50</td>\n      <td>80</td>\n      <td>7</td>\n      <td>...</td>\n      <td>광주대성초-광주동성중-광주동성고</td>\n      <td>10000만원</td>\n      <td>0.673</td>\n      <td>72.0</td>\n      <td>180.0</td>\n      <td>0.400000</td>\n      <td>좌타</td>\n      <td>내야수</td>\n      <td>korea</td>\n      <td>10000.0</td>\n    </tr>\n    <tr>\n      <th>4</th>\n      <td>1</td>\n      <td>강경학</td>\n      <td>2016</td>\n      <td>한화</td>\n      <td>0.158</td>\n      <td>46</td>\n      <td>101</td>\n      <td>16</td>\n      <td>16</td>\n      <td>3</td>\n      <td>...</td>\n      <td>광주대성초-광주동성중-광주동성고</td>\n      <td>10000만원</td>\n      <td>0.489</td>\n      <td>72.0</td>\n      <td>180.0</td>\n      <td>0.400000</td>\n      <td>좌타</td>\n      <td>내야수</td>\n      <td>korea</td>\n      <td>10000.0</td>\n    </tr>\n    <tr>\n      <th>...</th>\n      <td>...</td>\n      <td>...</td>\n      <td>...</td>\n      <td>...</td>\n      <td>...</td>\n      <td>...</td>\n      <td>...</td>\n      <td>...</td>\n      <td>...</td>\n      <td>...</td>\n      <td>...</td>\n      <td>...</td>\n      <td>...</td>\n      <td>...</td>\n      <td>...</td>\n      <td>...</td>\n      <td>...</td>\n      <td>...</td>\n      <td>...</td>\n      <td>...</td>\n      <td>...</td>\n    </tr>\n    <tr>\n      <th>2449</th>\n      <td>344</td>\n      <td>황진수</td>\n      <td>2014</td>\n      <td>롯데</td>\n      <td>0.000</td>\n      <td>5</td>\n      <td>5</td>\n      <td>0</td>\n      <td>0</td>\n      <td>0</td>\n      <td>...</td>\n      <td>석천초-대헌중-공주고</td>\n      <td>4000만원</td>\n      <td>0.000</td>\n      <td>82.0</td>\n      <td>181.0</td>\n      <td>0.453039</td>\n      <td>양타</td>\n      <td>내야수</td>\n      <td>korea</td>\n      <td>4000.0</td>\n    </tr>\n    <tr>\n      <th>2450</th>\n      <td>344</td>\n      <td>황진수</td>\n      <td>2015</td>\n      <td>롯데</td>\n      <td>0.000</td>\n      <td>2</td>\n      <td>2</td>\n      <td>0</td>\n      <td>0</td>\n      <td>0</td>\n      <td>...</td>\n      <td>석천초-대헌중-공주고</td>\n      <td>4000만원</td>\n      <td>0.000</td>\n      <td>82.0</td>\n      <td>181.0</td>\n      <td>0.453039</td>\n      <td>양타</td>\n      <td>내야수</td>\n      <td>korea</td>\n      <td>4000.0</td>\n    </tr>\n    <tr>\n      <th>2451</th>\n      <td>344</td>\n      <td>황진수</td>\n      <td>2016</td>\n      <td>롯데</td>\n      <td>0.000</td>\n      <td>11</td>\n      <td>10</td>\n      <td>2</td>\n      <td>0</td>\n      <td>0</td>\n      <td>...</td>\n      <td>석천초-대헌중-공주고</td>\n      <td>4000만원</td>\n      <td>0.000</td>\n      <td>82.0</td>\n      <td>181.0</td>\n      <td>0.453039</td>\n      <td>양타</td>\n      <td>내야수</td>\n      <td>korea</td>\n      <td>4000.0</td>\n    </tr>\n    <tr>\n      <th>2452</th>\n      <td>344</td>\n      <td>황진수</td>\n      <td>2017</td>\n      <td>롯데</td>\n      <td>0.291</td>\n      <td>60</td>\n      <td>117</td>\n      <td>18</td>\n      <td>34</td>\n      <td>6</td>\n      <td>...</td>\n      <td>석천초-대헌중-공주고</td>\n      <td>4000만원</td>\n      <td>0.761</td>\n      <td>82.0</td>\n      <td>181.0</td>\n      <td>0.453039</td>\n      <td>양타</td>\n      <td>내야수</td>\n      <td>korea</td>\n      <td>4000.0</td>\n    </tr>\n    <tr>\n      <th>2453</th>\n      <td>344</td>\n      <td>황진수</td>\n      <td>2018</td>\n      <td>롯데</td>\n      <td>0.167</td>\n      <td>18</td>\n      <td>24</td>\n      <td>6</td>\n      <td>4</td>\n      <td>1</td>\n      <td>...</td>\n      <td>석천초-대헌중-공주고</td>\n      <td>4000만원</td>\n      <td>0.564</td>\n      <td>82.0</td>\n      <td>181.0</td>\n      <td>0.453039</td>\n      <td>양타</td>\n      <td>내야수</td>\n      <td>korea</td>\n      <td>4000.0</td>\n    </tr>\n  </tbody>\n</table>\n<p>2454 rows × 36 columns</p>\n</div>"
     },
     "execution_count": 9,
     "metadata": {},
     "output_type": "execute_result"
    }
   ],
   "source": [
    "regular_season"
   ],
   "metadata": {
    "collapsed": false,
    "pycharm": {
     "name": "#%%\n"
    }
   }
  },
  {
   "cell_type": "code",
   "execution_count": 10,
   "outputs": [
    {
     "data": {
      "text/plain": "        batter_id batter_name  date opposing_team   avg1  AB  R  H  2B  3B  \\\n0               0        가르시아  3.24            NC  0.333   3  1  1   0   0   \n1               0        가르시아  3.25            NC  0.000   4  0  0   0   0   \n2               0        가르시아  3.27            넥센  0.200   5  0  1   0   0   \n3               0        가르시아  3.28            넥센  0.200   5  1  1   0   0   \n4               0        가르시아  3.29            넥센  0.250   4  0  1   0   0   \n...           ...         ...   ...           ...    ...  .. .. ..  ..  ..   \n112268        344         황진수  6.23            LG      -   0  0  0   0   0   \n112269        344         황진수  6.26            넥센  0.000   1  0  0   0   0   \n112270        344         황진수  6.27            넥센  0.500   2  1  1   1   0   \n112271        344         황진수  6.28            넥센      -   0  0  0   0   0   \n112272        344         황진수  6.30            한화  0.000   2  0  0   0   0   \n\n        ...  RBI  SB  CS  BB  HBP  SO  GDP   avg2  year  month  \n0       ...    0   0   0   1    0   1    0  0.333  2018      3  \n1       ...    0   0   0   0    0   1    0  0.143  2018      3  \n2       ...    0   0   0   0    0   0    0  0.167  2018      3  \n3       ...    1   0   0   0    0   0    0  0.176  2018      3  \n4       ...    3   0   0   0    0   0    1  0.190  2018      3  \n...     ...  ...  ..  ..  ..  ...  ..  ...    ...   ...    ...  \n112268  ...    0   0   0   1    0   0    0  0.158  2018      6  \n112269  ...    0   0   0   0    0   1    0  0.150  2018      6  \n112270  ...    0   0   0   0    0   1    0  0.182  2018      6  \n112271  ...    0   0   0   0    0   0    0  0.182  2018      6  \n112272  ...    0   0   0   0    0   0    0  0.167  2018      6  \n\n[112273 rows x 21 columns]",
      "text/html": "<div>\n<style scoped>\n    .dataframe tbody tr th:only-of-type {\n        vertical-align: middle;\n    }\n\n    .dataframe tbody tr th {\n        vertical-align: top;\n    }\n\n    .dataframe thead th {\n        text-align: right;\n    }\n</style>\n<table border=\"1\" class=\"dataframe\">\n  <thead>\n    <tr style=\"text-align: right;\">\n      <th></th>\n      <th>batter_id</th>\n      <th>batter_name</th>\n      <th>date</th>\n      <th>opposing_team</th>\n      <th>avg1</th>\n      <th>AB</th>\n      <th>R</th>\n      <th>H</th>\n      <th>2B</th>\n      <th>3B</th>\n      <th>...</th>\n      <th>RBI</th>\n      <th>SB</th>\n      <th>CS</th>\n      <th>BB</th>\n      <th>HBP</th>\n      <th>SO</th>\n      <th>GDP</th>\n      <th>avg2</th>\n      <th>year</th>\n      <th>month</th>\n    </tr>\n  </thead>\n  <tbody>\n    <tr>\n      <th>0</th>\n      <td>0</td>\n      <td>가르시아</td>\n      <td>3.24</td>\n      <td>NC</td>\n      <td>0.333</td>\n      <td>3</td>\n      <td>1</td>\n      <td>1</td>\n      <td>0</td>\n      <td>0</td>\n      <td>...</td>\n      <td>0</td>\n      <td>0</td>\n      <td>0</td>\n      <td>1</td>\n      <td>0</td>\n      <td>1</td>\n      <td>0</td>\n      <td>0.333</td>\n      <td>2018</td>\n      <td>3</td>\n    </tr>\n    <tr>\n      <th>1</th>\n      <td>0</td>\n      <td>가르시아</td>\n      <td>3.25</td>\n      <td>NC</td>\n      <td>0.000</td>\n      <td>4</td>\n      <td>0</td>\n      <td>0</td>\n      <td>0</td>\n      <td>0</td>\n      <td>...</td>\n      <td>0</td>\n      <td>0</td>\n      <td>0</td>\n      <td>0</td>\n      <td>0</td>\n      <td>1</td>\n      <td>0</td>\n      <td>0.143</td>\n      <td>2018</td>\n      <td>3</td>\n    </tr>\n    <tr>\n      <th>2</th>\n      <td>0</td>\n      <td>가르시아</td>\n      <td>3.27</td>\n      <td>넥센</td>\n      <td>0.200</td>\n      <td>5</td>\n      <td>0</td>\n      <td>1</td>\n      <td>0</td>\n      <td>0</td>\n      <td>...</td>\n      <td>0</td>\n      <td>0</td>\n      <td>0</td>\n      <td>0</td>\n      <td>0</td>\n      <td>0</td>\n      <td>0</td>\n      <td>0.167</td>\n      <td>2018</td>\n      <td>3</td>\n    </tr>\n    <tr>\n      <th>3</th>\n      <td>0</td>\n      <td>가르시아</td>\n      <td>3.28</td>\n      <td>넥센</td>\n      <td>0.200</td>\n      <td>5</td>\n      <td>1</td>\n      <td>1</td>\n      <td>0</td>\n      <td>0</td>\n      <td>...</td>\n      <td>1</td>\n      <td>0</td>\n      <td>0</td>\n      <td>0</td>\n      <td>0</td>\n      <td>0</td>\n      <td>0</td>\n      <td>0.176</td>\n      <td>2018</td>\n      <td>3</td>\n    </tr>\n    <tr>\n      <th>4</th>\n      <td>0</td>\n      <td>가르시아</td>\n      <td>3.29</td>\n      <td>넥센</td>\n      <td>0.250</td>\n      <td>4</td>\n      <td>0</td>\n      <td>1</td>\n      <td>0</td>\n      <td>0</td>\n      <td>...</td>\n      <td>3</td>\n      <td>0</td>\n      <td>0</td>\n      <td>0</td>\n      <td>0</td>\n      <td>0</td>\n      <td>1</td>\n      <td>0.190</td>\n      <td>2018</td>\n      <td>3</td>\n    </tr>\n    <tr>\n      <th>...</th>\n      <td>...</td>\n      <td>...</td>\n      <td>...</td>\n      <td>...</td>\n      <td>...</td>\n      <td>...</td>\n      <td>...</td>\n      <td>...</td>\n      <td>...</td>\n      <td>...</td>\n      <td>...</td>\n      <td>...</td>\n      <td>...</td>\n      <td>...</td>\n      <td>...</td>\n      <td>...</td>\n      <td>...</td>\n      <td>...</td>\n      <td>...</td>\n      <td>...</td>\n      <td>...</td>\n    </tr>\n    <tr>\n      <th>112268</th>\n      <td>344</td>\n      <td>황진수</td>\n      <td>6.23</td>\n      <td>LG</td>\n      <td>-</td>\n      <td>0</td>\n      <td>0</td>\n      <td>0</td>\n      <td>0</td>\n      <td>0</td>\n      <td>...</td>\n      <td>0</td>\n      <td>0</td>\n      <td>0</td>\n      <td>1</td>\n      <td>0</td>\n      <td>0</td>\n      <td>0</td>\n      <td>0.158</td>\n      <td>2018</td>\n      <td>6</td>\n    </tr>\n    <tr>\n      <th>112269</th>\n      <td>344</td>\n      <td>황진수</td>\n      <td>6.26</td>\n      <td>넥센</td>\n      <td>0.000</td>\n      <td>1</td>\n      <td>0</td>\n      <td>0</td>\n      <td>0</td>\n      <td>0</td>\n      <td>...</td>\n      <td>0</td>\n      <td>0</td>\n      <td>0</td>\n      <td>0</td>\n      <td>0</td>\n      <td>1</td>\n      <td>0</td>\n      <td>0.150</td>\n      <td>2018</td>\n      <td>6</td>\n    </tr>\n    <tr>\n      <th>112270</th>\n      <td>344</td>\n      <td>황진수</td>\n      <td>6.27</td>\n      <td>넥센</td>\n      <td>0.500</td>\n      <td>2</td>\n      <td>1</td>\n      <td>1</td>\n      <td>1</td>\n      <td>0</td>\n      <td>...</td>\n      <td>0</td>\n      <td>0</td>\n      <td>0</td>\n      <td>0</td>\n      <td>0</td>\n      <td>1</td>\n      <td>0</td>\n      <td>0.182</td>\n      <td>2018</td>\n      <td>6</td>\n    </tr>\n    <tr>\n      <th>112271</th>\n      <td>344</td>\n      <td>황진수</td>\n      <td>6.28</td>\n      <td>넥센</td>\n      <td>-</td>\n      <td>0</td>\n      <td>0</td>\n      <td>0</td>\n      <td>0</td>\n      <td>0</td>\n      <td>...</td>\n      <td>0</td>\n      <td>0</td>\n      <td>0</td>\n      <td>0</td>\n      <td>0</td>\n      <td>0</td>\n      <td>0</td>\n      <td>0.182</td>\n      <td>2018</td>\n      <td>6</td>\n    </tr>\n    <tr>\n      <th>112272</th>\n      <td>344</td>\n      <td>황진수</td>\n      <td>6.30</td>\n      <td>한화</td>\n      <td>0.000</td>\n      <td>2</td>\n      <td>0</td>\n      <td>0</td>\n      <td>0</td>\n      <td>0</td>\n      <td>...</td>\n      <td>0</td>\n      <td>0</td>\n      <td>0</td>\n      <td>0</td>\n      <td>0</td>\n      <td>0</td>\n      <td>0</td>\n      <td>0.167</td>\n      <td>2018</td>\n      <td>6</td>\n    </tr>\n  </tbody>\n</table>\n<p>112273 rows × 21 columns</p>\n</div>"
     },
     "execution_count": 10,
     "metadata": {},
     "output_type": "execute_result"
    }
   ],
   "source": [
    "regular_season_batter=regular_season_batter.drop(columns=['Unnamed: 0'],axis=1)\n",
    "regular_season_batter"
   ],
   "metadata": {
    "collapsed": false,
    "pycharm": {
     "name": "#%%\n"
    }
   }
  },
  {
   "cell_type": "code",
   "execution_count": 11,
   "outputs": [],
   "source": [
    "types = regular_season_batter.dtypes"
   ],
   "metadata": {
    "collapsed": false,
    "pycharm": {
     "name": "#%%\n"
    }
   }
  },
  {
   "cell_type": "code",
   "execution_count": 12,
   "outputs": [],
   "source": [
    "type_list = []\n",
    "for temp in types:\n",
    "    type_list.append(temp)"
   ],
   "metadata": {
    "collapsed": false,
    "pycharm": {
     "name": "#%%\n"
    }
   }
  },
  {
   "cell_type": "code",
   "execution_count": 13,
   "outputs": [],
   "source": [
    "result = set(type_list)"
   ],
   "metadata": {
    "collapsed": false,
    "pycharm": {
     "name": "#%%\n"
    }
   }
  },
  {
   "cell_type": "code",
   "execution_count": 14,
   "outputs": [],
   "source": [
    "type_list = ['int64', 'float64']\n",
    "\n",
    "regular_season_batter[regular_season_batter.select_dtypes(include=type_list).columns] = regular_season_batter[regular_season_batter.select_dtypes(include=type_list).columns].fillna(0)\n",
    "#regular_season[regular_season.select_dtypes(include=numerics).columns] = regular_season[regular_season.select_dtypes(include=numerics).columns].fillna(0)"
   ],
   "metadata": {
    "collapsed": false,
    "pycharm": {
     "name": "#%%\n"
    }
   }
  },
  {
   "cell_type": "code",
   "execution_count": 15,
   "outputs": [
    {
     "data": {
      "text/plain": "batter_id        0\nbatter_name      0\ndate             0\nopposing_team    0\navg1             0\nAB               0\nR                0\nH                0\n2B               0\n3B               0\nHR               0\nRBI              0\nSB               0\nCS               0\nBB               0\nHBP              0\nSO               0\nGDP              0\navg2             0\nyear             0\nmonth            0\ndtype: int64"
     },
     "execution_count": 15,
     "metadata": {},
     "output_type": "execute_result"
    }
   ],
   "source": [
    "regular_season_batter.isnull().sum(axis=0)"
   ],
   "metadata": {
    "collapsed": false,
    "pycharm": {
     "name": "#%%\n"
    }
   }
  },
  {
   "cell_type": "code",
   "execution_count": 16,
   "outputs": [],
   "source": [
    "pre_season[pre_season.select_dtypes(include=numerics).columns] = pre_season[pre_season.select_dtypes(include=numerics).columns].fillna(0)"
   ],
   "metadata": {
    "collapsed": false,
    "pycharm": {
     "name": "#%%\n"
    }
   }
  },
  {
   "cell_type": "code",
   "execution_count": 17,
   "outputs": [
    {
     "data": {
      "text/plain": "batter_id            0\nbatter_name          0\nyear                 0\nteam                 0\navg                  0\nG                    0\nAB                   0\nR                    0\nH                    0\n2B                   0\n3B                   0\nHR                   0\nTB                   0\nRBI                  0\nSB                   0\nCS                   0\nBB                   0\nHBP                  0\nSO                   0\nGDP                  0\nSLG                  0\nOBP                  0\nE                    0\nheight/weight        0\nyear_born            0\nposition             0\ncareer               0\nstarting_salary    207\nOPS                  0\nnew_idx              0\ndtype: int64"
     },
     "execution_count": 17,
     "metadata": {},
     "output_type": "execute_result"
    }
   ],
   "source": [
    "pre_season.isnull().sum(axis=0)"
   ],
   "metadata": {
    "collapsed": false,
    "pycharm": {
     "name": "#%%\n"
    }
   }
  },
  {
   "cell_type": "markdown",
   "source": [
    "## 비 수치형 데이터 변경"
   ],
   "metadata": {
    "collapsed": false
   }
  },
  {
   "cell_type": "code",
   "execution_count": 18,
   "outputs": [],
   "source": [
    "not_number = [x for x in regular_season.columns if x not in num_col]"
   ],
   "metadata": {
    "collapsed": false,
    "pycharm": {
     "name": "#%%\n"
    }
   }
  },
  {
   "cell_type": "code",
   "execution_count": 19,
   "outputs": [
    {
     "data": {
      "text/plain": "['batter_name',\n 'team',\n 'height/weight',\n 'year_born',\n 'position',\n 'career',\n 'starting_salary',\n 'hit_way',\n 'pos',\n 'country']"
     },
     "execution_count": 19,
     "metadata": {},
     "output_type": "execute_result"
    }
   ],
   "source": [
    "not_number"
   ],
   "metadata": {
    "collapsed": false,
    "pycharm": {
     "name": "#%%\n"
    }
   }
  },
  {
   "cell_type": "code",
   "execution_count": 20,
   "outputs": [
    {
     "data": {
      "text/plain": "     batter_name team height/weight      year_born   position  \\\n0           가르시아   LG    177cm/93kg  1985년 04월 12일  내야수(우투우타)   \n12           백승룡   한화           NaN  1982년 08월 16일        NaN   \n13           백승룡   한화           NaN  1982년 08월 16일        NaN   \n14           백승룡   한화           NaN  1982년 08월 16일        NaN   \n15           백승룡   한화           NaN  1982년 08월 16일        NaN   \n...          ...  ...           ...            ...        ...   \n2427         황선일   LG           NaN  1987년 02월 17일        NaN   \n2428         황선일   LG           NaN  1987년 02월 17일        NaN   \n2429         황선일   한화           NaN  1987년 02월 17일        NaN   \n2445         황정립  KIA           NaN  1989년 12월 14일        NaN   \n2446         황정립  KIA           NaN  1989년 12월 14일        NaN   \n\n                                      career starting_salary hit_way  pos  \\\n0     쿠바 Ciego de Avila Maximo Gomez Baez(대)             NaN      우타  내야수   \n12            사직초(부산극동리틀)-사직중-경남상고-경성대-한화-넥센             NaN     NaN  NaN   \n13            사직초(부산극동리틀)-사직중-경남상고-경성대-한화-넥센             NaN     NaN  NaN   \n14            사직초(부산극동리틀)-사직중-경남상고-경성대-한화-넥센             NaN     NaN  NaN   \n15            사직초(부산극동리틀)-사직중-경남상고-경성대-한화-넥센             NaN     NaN  NaN   \n...                                      ...             ...     ...  ...   \n2427                 군산중앙초-군산중-군산상고-LG-상무-LG             NaN     NaN  NaN   \n2428                 군산중앙초-군산중-군산상고-LG-상무-LG             NaN     NaN  NaN   \n2429                 군산중앙초-군산중-군산상고-LG-상무-LG             NaN     NaN  NaN   \n2445                         학동초-경원중-배명고-고려대             NaN     NaN  NaN   \n2446                         학동초-경원중-배명고-고려대             NaN     NaN  NaN   \n\n      country  \n0     foreign  \n12      korea  \n13      korea  \n14      korea  \n15      korea  \n...       ...  \n2427    korea  \n2428    korea  \n2429    korea  \n2445    korea  \n2446    korea  \n\n[1067 rows x 10 columns]",
      "text/html": "<div>\n<style scoped>\n    .dataframe tbody tr th:only-of-type {\n        vertical-align: middle;\n    }\n\n    .dataframe tbody tr th {\n        vertical-align: top;\n    }\n\n    .dataframe thead th {\n        text-align: right;\n    }\n</style>\n<table border=\"1\" class=\"dataframe\">\n  <thead>\n    <tr style=\"text-align: right;\">\n      <th></th>\n      <th>batter_name</th>\n      <th>team</th>\n      <th>height/weight</th>\n      <th>year_born</th>\n      <th>position</th>\n      <th>career</th>\n      <th>starting_salary</th>\n      <th>hit_way</th>\n      <th>pos</th>\n      <th>country</th>\n    </tr>\n  </thead>\n  <tbody>\n    <tr>\n      <th>0</th>\n      <td>가르시아</td>\n      <td>LG</td>\n      <td>177cm/93kg</td>\n      <td>1985년 04월 12일</td>\n      <td>내야수(우투우타)</td>\n      <td>쿠바 Ciego de Avila Maximo Gomez Baez(대)</td>\n      <td>NaN</td>\n      <td>우타</td>\n      <td>내야수</td>\n      <td>foreign</td>\n    </tr>\n    <tr>\n      <th>12</th>\n      <td>백승룡</td>\n      <td>한화</td>\n      <td>NaN</td>\n      <td>1982년 08월 16일</td>\n      <td>NaN</td>\n      <td>사직초(부산극동리틀)-사직중-경남상고-경성대-한화-넥센</td>\n      <td>NaN</td>\n      <td>NaN</td>\n      <td>NaN</td>\n      <td>korea</td>\n    </tr>\n    <tr>\n      <th>13</th>\n      <td>백승룡</td>\n      <td>한화</td>\n      <td>NaN</td>\n      <td>1982년 08월 16일</td>\n      <td>NaN</td>\n      <td>사직초(부산극동리틀)-사직중-경남상고-경성대-한화-넥센</td>\n      <td>NaN</td>\n      <td>NaN</td>\n      <td>NaN</td>\n      <td>korea</td>\n    </tr>\n    <tr>\n      <th>14</th>\n      <td>백승룡</td>\n      <td>한화</td>\n      <td>NaN</td>\n      <td>1982년 08월 16일</td>\n      <td>NaN</td>\n      <td>사직초(부산극동리틀)-사직중-경남상고-경성대-한화-넥센</td>\n      <td>NaN</td>\n      <td>NaN</td>\n      <td>NaN</td>\n      <td>korea</td>\n    </tr>\n    <tr>\n      <th>15</th>\n      <td>백승룡</td>\n      <td>한화</td>\n      <td>NaN</td>\n      <td>1982년 08월 16일</td>\n      <td>NaN</td>\n      <td>사직초(부산극동리틀)-사직중-경남상고-경성대-한화-넥센</td>\n      <td>NaN</td>\n      <td>NaN</td>\n      <td>NaN</td>\n      <td>korea</td>\n    </tr>\n    <tr>\n      <th>...</th>\n      <td>...</td>\n      <td>...</td>\n      <td>...</td>\n      <td>...</td>\n      <td>...</td>\n      <td>...</td>\n      <td>...</td>\n      <td>...</td>\n      <td>...</td>\n      <td>...</td>\n    </tr>\n    <tr>\n      <th>2427</th>\n      <td>황선일</td>\n      <td>LG</td>\n      <td>NaN</td>\n      <td>1987년 02월 17일</td>\n      <td>NaN</td>\n      <td>군산중앙초-군산중-군산상고-LG-상무-LG</td>\n      <td>NaN</td>\n      <td>NaN</td>\n      <td>NaN</td>\n      <td>korea</td>\n    </tr>\n    <tr>\n      <th>2428</th>\n      <td>황선일</td>\n      <td>LG</td>\n      <td>NaN</td>\n      <td>1987년 02월 17일</td>\n      <td>NaN</td>\n      <td>군산중앙초-군산중-군산상고-LG-상무-LG</td>\n      <td>NaN</td>\n      <td>NaN</td>\n      <td>NaN</td>\n      <td>korea</td>\n    </tr>\n    <tr>\n      <th>2429</th>\n      <td>황선일</td>\n      <td>한화</td>\n      <td>NaN</td>\n      <td>1987년 02월 17일</td>\n      <td>NaN</td>\n      <td>군산중앙초-군산중-군산상고-LG-상무-LG</td>\n      <td>NaN</td>\n      <td>NaN</td>\n      <td>NaN</td>\n      <td>korea</td>\n    </tr>\n    <tr>\n      <th>2445</th>\n      <td>황정립</td>\n      <td>KIA</td>\n      <td>NaN</td>\n      <td>1989년 12월 14일</td>\n      <td>NaN</td>\n      <td>학동초-경원중-배명고-고려대</td>\n      <td>NaN</td>\n      <td>NaN</td>\n      <td>NaN</td>\n      <td>korea</td>\n    </tr>\n    <tr>\n      <th>2446</th>\n      <td>황정립</td>\n      <td>KIA</td>\n      <td>NaN</td>\n      <td>1989년 12월 14일</td>\n      <td>NaN</td>\n      <td>학동초-경원중-배명고-고려대</td>\n      <td>NaN</td>\n      <td>NaN</td>\n      <td>NaN</td>\n      <td>korea</td>\n    </tr>\n  </tbody>\n</table>\n<p>1067 rows × 10 columns</p>\n</div>"
     },
     "execution_count": 20,
     "metadata": {},
     "output_type": "execute_result"
    }
   ],
   "source": [
    "regular_season.loc[regular_season[not_number].isnull().sum(axis=1) > 0,not_number]"
   ],
   "metadata": {
    "collapsed": false,
    "pycharm": {
     "name": "#%%\n"
    }
   }
  },
  {
   "cell_type": "markdown",
   "source": [
    "# 즉 loc는 조건문이랑 비슷하다 SQL문에 Select 비슷한 개념\n",
    "## 내가 원하는 데이터만 추출하는 것이 최종 목표"
   ],
   "metadata": {
    "collapsed": false
   }
  },
  {
   "cell_type": "code",
   "execution_count": 21,
   "outputs": [],
   "source": [
    "drop_idx=regular_season.loc[\n",
    "    #안타가 0개 이상이면서 장타율이 0인 사람\n",
    "    ((regular_season['H'] > 0) & (regular_season['SLG' ] == 0)) |\n",
    "\n",
    "    #안타가 0개 이상 혹은 볼넥이 0개 이상 혹은 맞은 볼이 0개 이상인 사람\n",
    "    (((regular_season['H'] >0) |\n",
    "    (regular_season['BB'] >0) |\n",
    "    (regular_season['HBP'] > 0)) &\n",
    "    (regular_season['OBP'] == 0))\n",
    "].index"
   ],
   "metadata": {
    "collapsed": false,
    "pycharm": {
     "name": "#%%\n"
    }
   }
  },
  {
   "cell_type": "code",
   "execution_count": 22,
   "outputs": [
    {
     "data": {
      "text/plain": "      batter_id batter_name  year team    avg    G   AB   R   H  2B  ...  \\\n0             0        가르시아  2018   LG  0.339   50  183  27  62   9  ...   \n1             1         강경학  2011   한화  0.000    2    1   0   0   0  ...   \n2             1         강경학  2014   한화  0.221   41   86  11  19   2  ...   \n3             1         강경학  2015   한화  0.257  120  311  50  80   7  ...   \n4             1         강경학  2016   한화  0.158   46  101  16  16   3  ...   \n...         ...         ...   ...  ...    ...  ...  ...  ..  ..  ..  ...   \n2442        344         황진수  2014   롯데  0.000    5    5   0   0   0  ...   \n2443        344         황진수  2015   롯데  0.000    2    2   0   0   0  ...   \n2444        344         황진수  2016   롯데  0.000   11   10   2   0   0  ...   \n2445        344         황진수  2017   롯데  0.291   60  117  18  34   6  ...   \n2446        344         황진수  2018   롯데  0.167   18   24   6   4   1  ...   \n\n                                      career  starting_salary    OPS  weight  \\\n0     쿠바 Ciego de Avila Maximo Gomez Baez(대)              NaN  0.902    93.0   \n1                          광주대성초-광주동성중-광주동성고          10000만원  0.000    72.0   \n2                          광주대성초-광주동성중-광주동성고          10000만원  0.686    72.0   \n3                          광주대성초-광주동성중-광주동성고          10000만원  0.673    72.0   \n4                          광주대성초-광주동성중-광주동성고          10000만원  0.489    72.0   \n...                                      ...              ...    ...     ...   \n2442                             석천초-대헌중-공주고           4000만원  0.000    82.0   \n2443                             석천초-대헌중-공주고           4000만원  0.000    82.0   \n2444                             석천초-대헌중-공주고           4000만원  0.000    82.0   \n2445                             석천초-대헌중-공주고           4000만원  0.761    82.0   \n2446                             석천초-대헌중-공주고           4000만원  0.564    82.0   \n\n      height  weight_per_height  hit_way  pos  country  starting_salary_list  \n0      177.0           0.525424       우타  내야수  foreign                   0.0  \n1      180.0           0.400000       좌타  내야수    korea               10000.0  \n2      180.0           0.400000       좌타  내야수    korea               10000.0  \n3      180.0           0.400000       좌타  내야수    korea               10000.0  \n4      180.0           0.400000       좌타  내야수    korea               10000.0  \n...      ...                ...      ...  ...      ...                   ...  \n2442   181.0           0.453039       양타  내야수    korea                4000.0  \n2443   181.0           0.453039       양타  내야수    korea                4000.0  \n2444   181.0           0.453039       양타  내야수    korea                4000.0  \n2445   181.0           0.453039       양타  내야수    korea                4000.0  \n2446   181.0           0.453039       양타  내야수    korea                4000.0  \n\n[2447 rows x 36 columns]",
      "text/html": "<div>\n<style scoped>\n    .dataframe tbody tr th:only-of-type {\n        vertical-align: middle;\n    }\n\n    .dataframe tbody tr th {\n        vertical-align: top;\n    }\n\n    .dataframe thead th {\n        text-align: right;\n    }\n</style>\n<table border=\"1\" class=\"dataframe\">\n  <thead>\n    <tr style=\"text-align: right;\">\n      <th></th>\n      <th>batter_id</th>\n      <th>batter_name</th>\n      <th>year</th>\n      <th>team</th>\n      <th>avg</th>\n      <th>G</th>\n      <th>AB</th>\n      <th>R</th>\n      <th>H</th>\n      <th>2B</th>\n      <th>...</th>\n      <th>career</th>\n      <th>starting_salary</th>\n      <th>OPS</th>\n      <th>weight</th>\n      <th>height</th>\n      <th>weight_per_height</th>\n      <th>hit_way</th>\n      <th>pos</th>\n      <th>country</th>\n      <th>starting_salary_list</th>\n    </tr>\n  </thead>\n  <tbody>\n    <tr>\n      <th>0</th>\n      <td>0</td>\n      <td>가르시아</td>\n      <td>2018</td>\n      <td>LG</td>\n      <td>0.339</td>\n      <td>50</td>\n      <td>183</td>\n      <td>27</td>\n      <td>62</td>\n      <td>9</td>\n      <td>...</td>\n      <td>쿠바 Ciego de Avila Maximo Gomez Baez(대)</td>\n      <td>NaN</td>\n      <td>0.902</td>\n      <td>93.0</td>\n      <td>177.0</td>\n      <td>0.525424</td>\n      <td>우타</td>\n      <td>내야수</td>\n      <td>foreign</td>\n      <td>0.0</td>\n    </tr>\n    <tr>\n      <th>1</th>\n      <td>1</td>\n      <td>강경학</td>\n      <td>2011</td>\n      <td>한화</td>\n      <td>0.000</td>\n      <td>2</td>\n      <td>1</td>\n      <td>0</td>\n      <td>0</td>\n      <td>0</td>\n      <td>...</td>\n      <td>광주대성초-광주동성중-광주동성고</td>\n      <td>10000만원</td>\n      <td>0.000</td>\n      <td>72.0</td>\n      <td>180.0</td>\n      <td>0.400000</td>\n      <td>좌타</td>\n      <td>내야수</td>\n      <td>korea</td>\n      <td>10000.0</td>\n    </tr>\n    <tr>\n      <th>2</th>\n      <td>1</td>\n      <td>강경학</td>\n      <td>2014</td>\n      <td>한화</td>\n      <td>0.221</td>\n      <td>41</td>\n      <td>86</td>\n      <td>11</td>\n      <td>19</td>\n      <td>2</td>\n      <td>...</td>\n      <td>광주대성초-광주동성중-광주동성고</td>\n      <td>10000만원</td>\n      <td>0.686</td>\n      <td>72.0</td>\n      <td>180.0</td>\n      <td>0.400000</td>\n      <td>좌타</td>\n      <td>내야수</td>\n      <td>korea</td>\n      <td>10000.0</td>\n    </tr>\n    <tr>\n      <th>3</th>\n      <td>1</td>\n      <td>강경학</td>\n      <td>2015</td>\n      <td>한화</td>\n      <td>0.257</td>\n      <td>120</td>\n      <td>311</td>\n      <td>50</td>\n      <td>80</td>\n      <td>7</td>\n      <td>...</td>\n      <td>광주대성초-광주동성중-광주동성고</td>\n      <td>10000만원</td>\n      <td>0.673</td>\n      <td>72.0</td>\n      <td>180.0</td>\n      <td>0.400000</td>\n      <td>좌타</td>\n      <td>내야수</td>\n      <td>korea</td>\n      <td>10000.0</td>\n    </tr>\n    <tr>\n      <th>4</th>\n      <td>1</td>\n      <td>강경학</td>\n      <td>2016</td>\n      <td>한화</td>\n      <td>0.158</td>\n      <td>46</td>\n      <td>101</td>\n      <td>16</td>\n      <td>16</td>\n      <td>3</td>\n      <td>...</td>\n      <td>광주대성초-광주동성중-광주동성고</td>\n      <td>10000만원</td>\n      <td>0.489</td>\n      <td>72.0</td>\n      <td>180.0</td>\n      <td>0.400000</td>\n      <td>좌타</td>\n      <td>내야수</td>\n      <td>korea</td>\n      <td>10000.0</td>\n    </tr>\n    <tr>\n      <th>...</th>\n      <td>...</td>\n      <td>...</td>\n      <td>...</td>\n      <td>...</td>\n      <td>...</td>\n      <td>...</td>\n      <td>...</td>\n      <td>...</td>\n      <td>...</td>\n      <td>...</td>\n      <td>...</td>\n      <td>...</td>\n      <td>...</td>\n      <td>...</td>\n      <td>...</td>\n      <td>...</td>\n      <td>...</td>\n      <td>...</td>\n      <td>...</td>\n      <td>...</td>\n      <td>...</td>\n    </tr>\n    <tr>\n      <th>2442</th>\n      <td>344</td>\n      <td>황진수</td>\n      <td>2014</td>\n      <td>롯데</td>\n      <td>0.000</td>\n      <td>5</td>\n      <td>5</td>\n      <td>0</td>\n      <td>0</td>\n      <td>0</td>\n      <td>...</td>\n      <td>석천초-대헌중-공주고</td>\n      <td>4000만원</td>\n      <td>0.000</td>\n      <td>82.0</td>\n      <td>181.0</td>\n      <td>0.453039</td>\n      <td>양타</td>\n      <td>내야수</td>\n      <td>korea</td>\n      <td>4000.0</td>\n    </tr>\n    <tr>\n      <th>2443</th>\n      <td>344</td>\n      <td>황진수</td>\n      <td>2015</td>\n      <td>롯데</td>\n      <td>0.000</td>\n      <td>2</td>\n      <td>2</td>\n      <td>0</td>\n      <td>0</td>\n      <td>0</td>\n      <td>...</td>\n      <td>석천초-대헌중-공주고</td>\n      <td>4000만원</td>\n      <td>0.000</td>\n      <td>82.0</td>\n      <td>181.0</td>\n      <td>0.453039</td>\n      <td>양타</td>\n      <td>내야수</td>\n      <td>korea</td>\n      <td>4000.0</td>\n    </tr>\n    <tr>\n      <th>2444</th>\n      <td>344</td>\n      <td>황진수</td>\n      <td>2016</td>\n      <td>롯데</td>\n      <td>0.000</td>\n      <td>11</td>\n      <td>10</td>\n      <td>2</td>\n      <td>0</td>\n      <td>0</td>\n      <td>...</td>\n      <td>석천초-대헌중-공주고</td>\n      <td>4000만원</td>\n      <td>0.000</td>\n      <td>82.0</td>\n      <td>181.0</td>\n      <td>0.453039</td>\n      <td>양타</td>\n      <td>내야수</td>\n      <td>korea</td>\n      <td>4000.0</td>\n    </tr>\n    <tr>\n      <th>2445</th>\n      <td>344</td>\n      <td>황진수</td>\n      <td>2017</td>\n      <td>롯데</td>\n      <td>0.291</td>\n      <td>60</td>\n      <td>117</td>\n      <td>18</td>\n      <td>34</td>\n      <td>6</td>\n      <td>...</td>\n      <td>석천초-대헌중-공주고</td>\n      <td>4000만원</td>\n      <td>0.761</td>\n      <td>82.0</td>\n      <td>181.0</td>\n      <td>0.453039</td>\n      <td>양타</td>\n      <td>내야수</td>\n      <td>korea</td>\n      <td>4000.0</td>\n    </tr>\n    <tr>\n      <th>2446</th>\n      <td>344</td>\n      <td>황진수</td>\n      <td>2018</td>\n      <td>롯데</td>\n      <td>0.167</td>\n      <td>18</td>\n      <td>24</td>\n      <td>6</td>\n      <td>4</td>\n      <td>1</td>\n      <td>...</td>\n      <td>석천초-대헌중-공주고</td>\n      <td>4000만원</td>\n      <td>0.564</td>\n      <td>82.0</td>\n      <td>181.0</td>\n      <td>0.453039</td>\n      <td>양타</td>\n      <td>내야수</td>\n      <td>korea</td>\n      <td>4000.0</td>\n    </tr>\n  </tbody>\n</table>\n<p>2447 rows × 36 columns</p>\n</div>"
     },
     "execution_count": 22,
     "metadata": {},
     "output_type": "execute_result"
    }
   ],
   "source": [
    "regular_season = regular_season.drop(index=drop_idx).reset_index(drop=True)\n",
    "regular_season"
   ],
   "metadata": {
    "collapsed": false,
    "pycharm": {
     "name": "#%%\n"
    }
   }
  },
  {
   "cell_type": "markdown",
   "source": [],
   "metadata": {
    "collapsed": false
   }
  },
  {
   "cell_type": "markdown",
   "source": [
    "# 규정 타수 정의"
   ],
   "metadata": {
    "collapsed": false
   }
  },
  {
   "cell_type": "code",
   "execution_count": 23,
   "outputs": [
    {
     "data": {
      "text/plain": "<Figure size 720x720 with 1 Axes>",
      "image/png": "[encoded data removed]"
     },
     "metadata": {
      "needs_background": "light"
     },
     "output_type": "display_data"
    }
   ],
   "source": [
    "plt.figure(figsize=(10,10))\n",
    "plt.plot('AB', 'OPS', data=regular_season, linestyle='none', marker='o', markersize=2, color='blue', alpha=0.4)\n",
    "plt.xlabel('AB', fontsize=14)\n",
    "plt.ylabel('OPS', fontsize=14)\n",
    "\n",
    "#눈금 표시\n",
    "plt.xticks(list(range(min(regular_season['AB']), max(regular_season['AB']), 30)), rotation=90)\n",
    "#plt.vlines(30, ymin=(regular_season['OPS']),ymax=max(regular_season['OPS']), linestyles='dashed', colors='r')\n",
    "plt.vlines(30, ymin=min(regular_season['OPS']),ymax=max(regular_season['OPS']), linestyles='dashed', colors='r')\n",
    "\n",
    "#수평선 만들기\n",
    "plt.show()"
   ],
   "metadata": {
    "collapsed": false,
    "pycharm": {
     "name": "#%%\n"
    }
   }
  },
  {
   "cell_type": "code",
   "execution_count": 24,
   "outputs": [],
   "source": [
    "Q1 = regular_season['OPS'].quantile(0.25)\n",
    "Q3 = regular_season['OPS'].quantile(0.75)"
   ],
   "metadata": {
    "collapsed": false,
    "pycharm": {
     "name": "#%%\n"
    }
   }
  },
  {
   "cell_type": "code",
   "execution_count": 25,
   "outputs": [
    {
     "data": {
      "text/plain": "0.2554267515923566"
     },
     "execution_count": 25,
     "metadata": {},
     "output_type": "execute_result"
    }
   ],
   "source": [
    "IQR =Q3 -Q1\n",
    "IQR"
   ],
   "metadata": {
    "collapsed": false,
    "pycharm": {
     "name": "#%%\n"
    }
   }
  },
  {
   "cell_type": "code",
   "execution_count": 26,
   "outputs": [],
   "source": [
    "x=regular_season['OPS'].values\n",
    "normalization = (x - x.mean())/x.std()\n",
    "normalization = np.sort(normalization)"
   ],
   "metadata": {
    "collapsed": false,
    "pycharm": {
     "name": "#%%\n"
    }
   }
  },
  {
   "cell_type": "code",
   "execution_count": 27,
   "outputs": [
    {
     "data": {
      "text/plain": "array([2.14580478e-02, 2.14580478e-02, 2.14580478e-02, ...,\n       9.91542366e-07, 9.91542366e-07, 1.75525626e-35])"
     },
     "execution_count": 27,
     "metadata": {},
     "output_type": "execute_result"
    }
   ],
   "source": [
    "y = (1 / np.sqrt(2 * np.pi)) * np.exp(- normalization ** 2 / 2 )\n",
    "y"
   ],
   "metadata": {
    "collapsed": false,
    "pycharm": {
     "name": "#%%\n"
    }
   }
  },
  {
   "cell_type": "code",
   "execution_count": 28,
   "outputs": [
    {
     "data": {
      "text/plain": "<Figure size 720x432 with 1 Axes>",
      "image/png": "[encoded data removed]"
     },
     "metadata": {
      "needs_background": "light"
     },
     "output_type": "display_data"
    }
   ],
   "source": [
    "plt.figure(figsize=(10, 6))          # 플롯 사이즈 지정\n",
    "plt.plot(normalization, y)\n",
    "plt.xlabel(\"x\")                      # x축 레이블 지정\n",
    "plt.ylabel(\"y\")                      # y축 레이블 지정\n",
    "plt.grid()                           # 플롯에 격자 보이기\n",
    "plt.title(\"Normal Distribution without scipy\")     # 타이틀 표시\n",
    "plt.legend([\"N(0, 1)\"])              # 범례 표시\n",
    "plt.show()"
   ],
   "metadata": {
    "collapsed": false,
    "pycharm": {
     "name": "#%%\n"
    }
   }
  },
  {
   "cell_type": "code",
   "execution_count": 29,
   "outputs": [
    {
     "data": {
      "text/plain": "     batter_name   AB  year       OPS\n2329         테임즈  472  2015  1.293656\n97           강정호  418  2014  1.200156\n1318         유재신   33  2018  1.192000\n416          김원섭   25  2005  0.116923\n1543         이여상   22  2013  0.090909",
      "text/html": "<div>\n<style scoped>\n    .dataframe tbody tr th:only-of-type {\n        vertical-align: middle;\n    }\n\n    .dataframe tbody tr th {\n        vertical-align: top;\n    }\n\n    .dataframe thead th {\n        text-align: right;\n    }\n</style>\n<table border=\"1\" class=\"dataframe\">\n  <thead>\n    <tr style=\"text-align: right;\">\n      <th></th>\n      <th>batter_name</th>\n      <th>AB</th>\n      <th>year</th>\n      <th>OPS</th>\n    </tr>\n  </thead>\n  <tbody>\n    <tr>\n      <th>2329</th>\n      <td>테임즈</td>\n      <td>472</td>\n      <td>2015</td>\n      <td>1.293656</td>\n    </tr>\n    <tr>\n      <th>97</th>\n      <td>강정호</td>\n      <td>418</td>\n      <td>2014</td>\n      <td>1.200156</td>\n    </tr>\n    <tr>\n      <th>1318</th>\n      <td>유재신</td>\n      <td>33</td>\n      <td>2018</td>\n      <td>1.192000</td>\n    </tr>\n    <tr>\n      <th>416</th>\n      <td>김원섭</td>\n      <td>25</td>\n      <td>2005</td>\n      <td>0.116923</td>\n    </tr>\n    <tr>\n      <th>1543</th>\n      <td>이여상</td>\n      <td>22</td>\n      <td>2013</td>\n      <td>0.090909</td>\n    </tr>\n  </tbody>\n</table>\n</div>"
     },
     "execution_count": 29,
     "metadata": {},
     "output_type": "execute_result"
    }
   ],
   "source": [
    "regular_season.loc[(regular_season['OPS'] < (Q1 - 1.5 * IQR)) | (regular_season['OPS'] > (Q3 + 1.5 * IQR)), ['batter_name', 'AB', 'year', 'OPS']].sort_values(\n",
    "    by=['AB'], axis=0, ascending=False\n",
    ").head()"
   ],
   "metadata": {
    "collapsed": false,
    "pycharm": {
     "name": "#%%\n"
    }
   }
  },
  {
   "cell_type": "markdown",
   "source": [],
   "metadata": {
    "collapsed": false
   }
  },
  {
   "cell_type": "markdown",
   "source": [
    "# 넘파이 예시 boolean 인덱싱"
   ],
   "metadata": {
    "collapsed": false
   }
  },
  {
   "cell_type": "code",
   "execution_count": 30,
   "outputs": [
    {
     "data": {
      "text/plain": "array([2, 3])"
     },
     "execution_count": 30,
     "metadata": {},
     "output_type": "execute_result"
    }
   ],
   "source": [
    "a = np.array([1,2,3])\n",
    "b = a >= 2\n",
    "a[b]"
   ],
   "metadata": {
    "collapsed": false,
    "pycharm": {
     "name": "#%%\n"
    }
   }
  },
  {
   "cell_type": "markdown",
   "source": [
    "# 해당하는 값 불타입 추출 또는 index 추출하기"
   ],
   "metadata": {
    "collapsed": false
   }
  },
  {
   "cell_type": "code",
   "execution_count": 31,
   "outputs": [],
   "source": [
    "major_ticks = list(np.round(np.linspace(7.01, 7.31, 31),2))\n",
    "\n",
    "#인덱스 추출 완료\n",
    "july =day_by_day_of.loc[(day_by_day_of['date'] >= 7) & (day_by_day_of['date'] < 8),'date'].index\n",
    "\n",
    "#bool 타입 추출\n",
    "july_2 =(day_by_day_of['date'] >= 7) & (day_by_day_of['date'] < 8)"
   ],
   "metadata": {
    "collapsed": false,
    "pycharm": {
     "name": "#%%\n"
    }
   }
  },
  {
   "cell_type": "code",
   "execution_count": 32,
   "outputs": [
    {
     "name": "stdout",
     "output_type": "stream",
     "text": [
      "(16124, 21) (16124, 21)\n"
     ]
    }
   ],
   "source": [
    "#day_by_day_of.iloc[july]\n",
    "print(day_by_day_of[july_2].shape, day_by_day_of.iloc[july].shape)"
   ],
   "metadata": {
    "collapsed": false,
    "pycharm": {
     "name": "#%%\n"
    }
   }
  },
  {
   "cell_type": "code",
   "execution_count": 33,
   "outputs": [
    {
     "data": {
      "text/plain": "<Figure size 432x288 with 1 Axes>",
      "image/png": "[encoded data removed]"
     },
     "metadata": {
      "needs_background": "light"
     },
     "output_type": "display_data"
    }
   ],
   "source": [
    "plt.plot(major_ticks, day_by_day_of['date'].iloc[july].value_counts().sort_index(), marker='o')\n",
    "plt.xticks(major_ticks, rotation=90)\n",
    "plt.show()"
   ],
   "metadata": {
    "collapsed": false,
    "pycharm": {
     "name": "#%%\n"
    }
   }
  },
  {
   "cell_type": "markdown",
   "source": [
    "# 두산 팀타율 알아보기"
   ],
   "metadata": {
    "collapsed": false
   }
  },
  {
   "cell_type": "code",
   "execution_count": 34,
   "outputs": [
    {
     "data": {
      "text/plain": "[259,\n 7,\n 136,\n 271,\n 17,\n 20,\n 148,\n 278,\n 286,\n 32,\n 33,\n 162,\n 299,\n 174,\n 175,\n 50,\n 51,\n 52,\n 179,\n 180,\n 308,\n 312,\n 57,\n 58,\n 185,\n 188,\n 315,\n 316,\n 321,\n 194,\n 200,\n 73,\n 331,\n 332,\n 208,\n 336,\n 210,\n 83,\n 211,\n 219,\n 92,\n 220,\n 96,\n 248,\n 229,\n 103,\n 104,\n 116,\n 245,\n 120,\n 251,\n 254]"
     },
     "execution_count": 34,
     "metadata": {},
     "output_type": "execute_result"
    }
   ],
   "source": [
    "dosan = regular_season.loc[regular_season['team'] == '두산', 'batter_id']\n",
    "dosan=dosan.values\n",
    "dosan = list(set(dosan))\n",
    "dosan"
   ],
   "metadata": {
    "collapsed": false,
    "pycharm": {
     "name": "#%%\n"
    }
   }
  },
  {
   "cell_type": "code",
   "execution_count": 35,
   "outputs": [],
   "source": [
    "#day_by_day_of.iloc[dosan]\n",
    "day_dosan = day_by_day_of[day_by_day_of['batter_id'].isin(dosan)]\n",
    "dosan_july=(day_dosan['date'] >= 7) & (day_dosan['date'] <8)"
   ],
   "metadata": {
    "collapsed": false,
    "pycharm": {
     "name": "#%%\n"
    }
   }
  },
  {
   "cell_type": "code",
   "execution_count": 36,
   "outputs": [
    {
     "data": {
      "text/plain": "4747      False\n4748      False\n4749      False\n4750      False\n4751      False\n          ...  \n110223    False\n110224    False\n110225    False\n110226    False\n110227    False\nName: date, Length: 23769, dtype: bool"
     },
     "execution_count": 36,
     "metadata": {},
     "output_type": "execute_result"
    }
   ],
   "source": [
    "dosan_july"
   ],
   "metadata": {
    "collapsed": false,
    "pycharm": {
     "name": "#%%\n"
    }
   }
  },
  {
   "cell_type": "code",
   "execution_count": 37,
   "outputs": [
    {
     "data": {
      "text/plain": "<Figure size 432x288 with 1 Axes>",
      "image/png": "[encoded data removed]"
     },
     "metadata": {
      "needs_background": "light"
     },
     "output_type": "display_data"
    }
   ],
   "source": [
    "plt.plot(major_ticks, day_dosan['date'].loc[dosan_july].value_counts().sort_index(), marker='o')\n",
    "plt.xticks(major_ticks, rotation=90)\n",
    "plt.show()"
   ],
   "metadata": {
    "collapsed": false,
    "pycharm": {
     "name": "#%%\n"
    }
   }
  },
  {
   "cell_type": "code",
   "execution_count": 38,
   "outputs": [],
   "source": [
    "dosan_s=day_dosan.loc[dosan_july].loc[day_by_day_of['AB'] >0]"
   ],
   "metadata": {
    "collapsed": false,
    "pycharm": {
     "name": "#%%\n"
    }
   }
  },
  {
   "cell_type": "code",
   "execution_count": 39,
   "outputs": [
    {
     "name": "stdout",
     "output_type": "stream",
     "text": [
      "       batter_id        AB         R         H        2B        3B        HR  \\\n",
      "date                                                                           \n",
      "7.01  184.457143  2.885714  0.495238  0.952381  0.152381  0.000000  0.085714   \n",
      "7.02  184.985915  3.070423  0.394366  0.746479  0.126761  0.028169  0.084507   \n",
      "7.03  185.146341  2.963415  0.353659  0.731707  0.121951  0.000000  0.060976   \n",
      "7.04  182.919643  2.991071  0.339286  0.812500  0.133929  0.008929  0.062500   \n",
      "7.05  189.221239  3.106195  0.371681  0.814159  0.115044  0.035398  0.079646   \n",
      "7.06  185.785714  2.937500  0.428571  0.839286  0.125000  0.026786  0.080357   \n",
      "7.07  194.111111  2.944444  0.425926  0.879630  0.148148  0.055556  0.083333   \n",
      "7.08  184.887218  3.045113  0.466165  0.932331  0.127820  0.037594  0.052632   \n",
      "7.09  180.354167  3.156250  0.354167  0.927083  0.104167  0.010417  0.052083   \n",
      "7.10  186.146341  2.943089  0.390244  0.772358  0.162602  0.024390  0.089431   \n",
      "7.11  188.413462  2.855769  0.298077  0.711538  0.125000  0.009615  0.048077   \n",
      "7.12  188.989474  2.947368  0.473684  0.810526  0.094737  0.000000  0.105263   \n",
      "7.13  187.628319  2.849558  0.362832  0.858407  0.132743  0.026549  0.070796   \n",
      "7.14  192.848837  3.104651  0.523256  0.941860  0.127907  0.034884  0.093023   \n",
      "7.15  185.833333  2.870370  0.462963  0.907407  0.129630  0.000000  0.148148   \n",
      "7.16  190.980000  3.100000  0.520000  0.980000  0.120000  0.000000  0.200000   \n",
      "7.17  188.327869  2.852459  0.442623  0.803279  0.213115  0.016393  0.032787   \n",
      "7.18  182.656716  2.850746  0.358209  0.820896  0.164179  0.000000  0.044776   \n",
      "7.19  182.608696  2.934783  0.521739  0.880435  0.152174  0.000000  0.076087   \n",
      "7.20  183.786517  2.910112  0.471910  0.775281  0.134831  0.022472  0.101124   \n",
      "7.21  187.029412  3.284314  0.519608  1.049020  0.196078  0.000000  0.088235   \n",
      "7.22  177.455357  2.901786  0.562500  0.928571  0.107143  0.017857  0.080357   \n",
      "7.23  186.581081  3.013514  0.527027  0.810811  0.175676  0.000000  0.135135   \n",
      "7.24  181.919192  3.060606  0.474747  0.848485  0.161616  0.010101  0.090909   \n",
      "7.25  188.755319  3.106383  0.468085  0.893617  0.180851  0.010638  0.074468   \n",
      "7.26  184.796460  3.035398  0.415929  0.814159  0.247788  0.000000  0.088496   \n",
      "7.27  186.895652  2.930435  0.330435  0.747826  0.121739  0.017391  0.060870   \n",
      "7.28  184.444444  2.904762  0.380952  0.777778  0.190476  0.015873  0.087302   \n",
      "7.29  179.949275  3.094203  0.420290  0.782609  0.152174  0.007246  0.057971   \n",
      "7.30  189.625000  2.833333  0.333333  0.658333  0.100000  0.016667  0.050000   \n",
      "7.31  185.453237  2.906475  0.417266  0.935252  0.151079  0.014388  0.079137   \n",
      "\n",
      "           RBI        SB        CS        BB       HBP        SO       GDP  \\\n",
      "date                                                                         \n",
      "7.01  0.447619  0.047619  0.057143  0.238095  0.047619  0.476190  0.095238   \n",
      "7.02  0.436620  0.042254  0.028169  0.323944  0.028169  0.521127  0.140845   \n",
      "7.03  0.341463  0.024390  0.060976  0.402439  0.048780  0.658537  0.109756   \n",
      "7.04  0.428571  0.035714  0.026786  0.258929  0.017857  0.446429  0.071429   \n",
      "7.05  0.442478  0.026549  0.026549  0.221239  0.079646  0.663717  0.097345   \n",
      "7.06  0.410714  0.035714  0.008929  0.250000  0.053571  0.517857  0.107143   \n",
      "7.07  0.490741  0.046296  0.055556  0.277778  0.064815  0.472222  0.074074   \n",
      "7.08  0.436090  0.030075  0.000000  0.330827  0.082707  0.563910  0.067669   \n",
      "7.09  0.447917  0.062500  0.020833  0.343750  0.041667  0.520833  0.104167   \n",
      "7.10  0.398374  0.056911  0.048780  0.276423  0.048780  0.495935  0.056911   \n",
      "7.11  0.375000  0.057692  0.019231  0.326923  0.048077  0.538462  0.105769   \n",
      "7.12  0.400000  0.094737  0.021053  0.284211  0.021053  0.578947  0.126316   \n",
      "7.13  0.398230  0.070796  0.017699  0.221239  0.008850  0.486726  0.070796   \n",
      "7.14  0.581395  0.058140  0.034884  0.290698  0.069767  0.523256  0.116279   \n",
      "7.15  0.703704  0.129630  0.018519  0.407407  0.055556  0.351852  0.129630   \n",
      "7.16  0.640000  0.080000  0.040000  0.440000  0.040000  0.480000  0.080000   \n",
      "7.17  0.311475  0.098361  0.049180  0.393443  0.098361  0.508197  0.000000   \n",
      "7.18  0.298507  0.074627  0.044776  0.358209  0.014925  0.492537  0.044776   \n",
      "7.19  0.369565  0.032609  0.021739  0.315217  0.010870  0.532609  0.076087   \n",
      "7.20  0.516854  0.078652  0.022472  0.292135  0.044944  0.539326  0.089888   \n",
      "7.21  0.519608  0.029412  0.000000  0.284314  0.049020  0.529412  0.088235   \n",
      "7.22  0.589286  0.062500  0.044643  0.267857  0.071429  0.508929  0.071429   \n",
      "7.23  0.472973  0.054054  0.000000  0.229730  0.040541  0.554054  0.121622   \n",
      "7.24  0.393939  0.101010  0.030303  0.404040  0.070707  0.494949  0.101010   \n",
      "7.25  0.510638  0.042553  0.000000  0.255319  0.021277  0.468085  0.106383   \n",
      "7.26  0.477876  0.044248  0.026549  0.309735  0.008850  0.513274  0.070796   \n",
      "7.27  0.339130  0.060870  0.043478  0.208696  0.052174  0.443478  0.104348   \n",
      "7.28  0.380952  0.063492  0.023810  0.333333  0.063492  0.563492  0.071429   \n",
      "7.29  0.311594  0.086957  0.036232  0.260870  0.057971  0.644928  0.094203   \n",
      "7.30  0.250000  0.091667  0.025000  0.241667  0.050000  0.425000  0.075000   \n",
      "7.31  0.424460  0.043165  0.050360  0.366906  0.035971  0.561151  0.050360   \n",
      "\n",
      "          avg2         year  month  \n",
      "date                                \n",
      "7.01  0.287219  2012.476190    7.0  \n",
      "7.02  0.270479  2011.661972    7.0  \n",
      "7.03  0.269537  2012.024390    7.0  \n",
      "7.04  0.272009  2013.660714    7.0  \n",
      "7.05  0.273717  2013.469027    7.0  \n",
      "7.06  0.271973  2012.973214    7.0  \n",
      "7.07  0.283926  2013.574074    7.0  \n",
      "7.08  0.280331  2013.075188    7.0  \n",
      "7.09  0.279354  2013.385417    7.0  \n",
      "7.10  0.275577  2013.073171    7.0  \n",
      "7.11  0.274346  2013.653846    7.0  \n",
      "7.12  0.281663  2014.631579    7.0  \n",
      "7.13  0.272372  2012.150442    7.0  \n",
      "7.14  0.271430  2011.302326    7.0  \n",
      "7.15  0.270370  2011.222222    7.0  \n",
      "7.16  0.278980  2013.420000    7.0  \n",
      "7.17  0.274525  2013.344262    7.0  \n",
      "7.18  0.279373  2013.910448    7.0  \n",
      "7.19  0.280902  2013.510870    7.0  \n",
      "7.20  0.276753  2013.449438    7.0  \n",
      "7.21  0.287480  2013.970588    7.0  \n",
      "7.22  0.280304  2013.482143    7.0  \n",
      "7.23  0.283351  2013.783784    7.0  \n",
      "7.24  0.281596  2013.242424    7.0  \n",
      "7.25  0.281702  2014.180851    7.0  \n",
      "7.26  0.280336  2014.026549    7.0  \n",
      "7.27  0.278913  2013.573913    7.0  \n",
      "7.28  0.278937  2014.158730    7.0  \n",
      "7.29  0.277362  2013.463768    7.0  \n",
      "7.30  0.275225  2012.800000    7.0  \n",
      "7.31  0.276597  2012.798561    7.0  \n"
     ]
    }
   ],
   "source": [
    "print(dosan_s.groupby('date').mean())\n",
    "\n",
    "# plt.plot(major_ticks, day_dosan['date'].loc[dosan_july].value_counts().sort_index(), marker='o')\n",
    "# plt.xticks(major_ticks, rotation=90)\n",
    "# plt.show()"
   ],
   "metadata": {
    "collapsed": false,
    "pycharm": {
     "name": "#%%\n"
    }
   }
  },
  {
   "cell_type": "code",
   "execution_count": 39,
   "outputs": [],
   "source": [],
   "metadata": {
    "collapsed": false,
    "pycharm": {
     "name": "#%%\n"
    }
   }
  }
 ],
 "metadata": {
  "kernelspec": {
   "display_name": "Python 3",
   "language": "python",
   "name": "python3"
  },
  "language_info": {
   "codemirror_mode": {
    "name": "ipython",
    "version": 2
   },
   "file_extension": ".py",
   "mimetype": "text/x-python",
   "name": "python",
   "nbconvert_exporter": "python",
   "pygments_lexer": "ipython2",
   "version": "2.7.6"
  }
 },
 "nbformat": 4,
 "nbformat_minor": 0
}