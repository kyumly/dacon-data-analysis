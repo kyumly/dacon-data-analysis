{
 "cells": [
  {
   "cell_type": "code",
   "execution_count": 59,
   "metadata": {
    "collapsed": true,
    "pycharm": {
     "name": "#%%\n"
    }
   },
   "outputs": [],
   "source": [
    "import pandas as pd\n",
    "import numpy as np\n",
    "import math\n",
    "from sklearn import model_selection\n",
    "import platform\n",
    "import seaborn as sns\n",
    "import matplotlib.pyplot as plt\n",
    "import matplotlib\n",
    "from matplotlib import font_manager, rc\n",
    "\n",
    "#연습경기 성정\n",
    "pre_season = pd.read_csv('../data/Pre_Season_Batter.csv')\n",
    "\n",
    "#정규시즌 성적을 포함하여 개인정보\n",
    "regular_season = pd.read_csv('../data/Regular_Season_Batter.csv')\n",
    "\n",
    "# 타자들의 일자 별 정규시즌 성적\n",
    "regular_season_batter = pd.read_csv('../data/Regular_Season_Batter_Day_by_Day_b4.csv')"
   ]
  },
  {
   "cell_type": "code",
   "execution_count": 60,
   "outputs": [
    {
     "data": {
      "text/plain": "      batter_id batter_name  year team    avg   G  AB  R   H  2B  ...  GDP  \\\n0             0        가르시아  2018   LG  0.350   7  20  1   7   1  ...    1   \n1             1         강경학  2011   한화  0.000   4   2  2   0   0  ...    0   \n2             1         강경학  2014   한화      -   4   0  2   0   0  ...    0   \n3             1         강경학  2015   한화  0.130  10  23  3   3   0  ...    0   \n4             1         강경학  2016   한화  0.188  14  32  4   6   1  ...    0   \n...         ...         ...   ...  ...    ...  ..  .. ..  ..  ..  ...  ...   \n1388        342         황재균  2014   롯데  0.407  10  27  3  11   2  ...    0   \n1389        342         황재균  2015   롯데  0.333  11  30  8  10   3  ...    0   \n1390        342         황재균  2016   롯데  0.310  16  42  8  13   3  ...    0   \n1391        342         황재균  2018   KT  0.250   6  16  3   4   1  ...    0   \n1392        344         황진수  2014   롯데  0.000   1   1  1   0   0  ...    0   \n\n        SLG    OBP  E  height/weight      year_born   position  \\\n0     0.550  0.409  1     177cm/93kg  1985년 04월 12일  내야수(우투우타)   \n1     0.000  0.500  0     180cm/72kg  1992년 08월 11일  내야수(우투좌타)   \n2       NaN    NaN  0     180cm/72kg  1992년 08월 11일  내야수(우투좌타)   \n3     0.130  0.286  2     180cm/72kg  1992년 08월 11일  내야수(우투좌타)   \n4     0.281  0.212  0     180cm/72kg  1992년 08월 11일  내야수(우투좌타)   \n...     ...    ... ..            ...            ...        ...   \n1388  0.593  0.448  1     183cm/96kg  1987년 07월 28일  내야수(우투우타)   \n1389  0.433  0.389  0     183cm/96kg  1987년 07월 28일  내야수(우투우타)   \n1390  0.429  0.370  1     183cm/96kg  1987년 07월 28일  내야수(우투우타)   \n1391  0.500  0.333  3     183cm/96kg  1987년 07월 28일  내야수(우투우타)   \n1392  0.000  0.000  0     181cm/82kg  1989년 02월 15일  내야수(우투양타)   \n\n                                      career  starting_salary    OPS  \n0     쿠바 Ciego de Avila Maximo Gomez Baez(대)              NaN  0.959  \n1                          광주대성초-광주동성중-광주동성고          10000만원  0.500  \n2                          광주대성초-광주동성중-광주동성고          10000만원    NaN  \n3                          광주대성초-광주동성중-광주동성고          10000만원  0.416  \n4                          광주대성초-광주동성중-광주동성고          10000만원  0.493  \n...                                      ...              ...    ...  \n1388     사당초-이수중-경기고-현대-우리-히어로즈-넥센-롯데-샌프란시스코           6000만원  1.041  \n1389     사당초-이수중-경기고-현대-우리-히어로즈-넥센-롯데-샌프란시스코           6000만원  0.822  \n1390     사당초-이수중-경기고-현대-우리-히어로즈-넥센-롯데-샌프란시스코           6000만원  0.799  \n1391     사당초-이수중-경기고-현대-우리-히어로즈-넥센-롯데-샌프란시스코           6000만원  0.833  \n1392                             석천초-대헌중-공주고           4000만원  0.000  \n\n[1393 rows x 29 columns]",
      "text/html": "<div>\n<style scoped>\n    .dataframe tbody tr th:only-of-type {\n        vertical-align: middle;\n    }\n\n    .dataframe tbody tr th {\n        vertical-align: top;\n    }\n\n    .dataframe thead th {\n        text-align: right;\n    }\n</style>\n<table border=\"1\" class=\"dataframe\">\n  <thead>\n    <tr style=\"text-align: right;\">\n      <th></th>\n      <th>batter_id</th>\n      <th>batter_name</th>\n      <th>year</th>\n      <th>team</th>\n      <th>avg</th>\n      <th>G</th>\n      <th>AB</th>\n      <th>R</th>\n      <th>H</th>\n      <th>2B</th>\n      <th>...</th>\n      <th>GDP</th>\n      <th>SLG</th>\n      <th>OBP</th>\n      <th>E</th>\n      <th>height/weight</th>\n      <th>year_born</th>\n      <th>position</th>\n      <th>career</th>\n      <th>starting_salary</th>\n      <th>OPS</th>\n    </tr>\n  </thead>\n  <tbody>\n    <tr>\n      <th>0</th>\n      <td>0</td>\n      <td>가르시아</td>\n      <td>2018</td>\n      <td>LG</td>\n      <td>0.350</td>\n      <td>7</td>\n      <td>20</td>\n      <td>1</td>\n      <td>7</td>\n      <td>1</td>\n      <td>...</td>\n      <td>1</td>\n      <td>0.550</td>\n      <td>0.409</td>\n      <td>1</td>\n      <td>177cm/93kg</td>\n      <td>1985년 04월 12일</td>\n      <td>내야수(우투우타)</td>\n      <td>쿠바 Ciego de Avila Maximo Gomez Baez(대)</td>\n      <td>NaN</td>\n      <td>0.959</td>\n    </tr>\n    <tr>\n      <th>1</th>\n      <td>1</td>\n      <td>강경학</td>\n      <td>2011</td>\n      <td>한화</td>\n      <td>0.000</td>\n      <td>4</td>\n      <td>2</td>\n      <td>2</td>\n      <td>0</td>\n      <td>0</td>\n      <td>...</td>\n      <td>0</td>\n      <td>0.000</td>\n      <td>0.500</td>\n      <td>0</td>\n      <td>180cm/72kg</td>\n      <td>1992년 08월 11일</td>\n      <td>내야수(우투좌타)</td>\n      <td>광주대성초-광주동성중-광주동성고</td>\n      <td>10000만원</td>\n      <td>0.500</td>\n    </tr>\n    <tr>\n      <th>2</th>\n      <td>1</td>\n      <td>강경학</td>\n      <td>2014</td>\n      <td>한화</td>\n      <td>-</td>\n      <td>4</td>\n      <td>0</td>\n      <td>2</td>\n      <td>0</td>\n      <td>0</td>\n      <td>...</td>\n      <td>0</td>\n      <td>NaN</td>\n      <td>NaN</td>\n      <td>0</td>\n      <td>180cm/72kg</td>\n      <td>1992년 08월 11일</td>\n      <td>내야수(우투좌타)</td>\n      <td>광주대성초-광주동성중-광주동성고</td>\n      <td>10000만원</td>\n      <td>NaN</td>\n    </tr>\n    <tr>\n      <th>3</th>\n      <td>1</td>\n      <td>강경학</td>\n      <td>2015</td>\n      <td>한화</td>\n      <td>0.130</td>\n      <td>10</td>\n      <td>23</td>\n      <td>3</td>\n      <td>3</td>\n      <td>0</td>\n      <td>...</td>\n      <td>0</td>\n      <td>0.130</td>\n      <td>0.286</td>\n      <td>2</td>\n      <td>180cm/72kg</td>\n      <td>1992년 08월 11일</td>\n      <td>내야수(우투좌타)</td>\n      <td>광주대성초-광주동성중-광주동성고</td>\n      <td>10000만원</td>\n      <td>0.416</td>\n    </tr>\n    <tr>\n      <th>4</th>\n      <td>1</td>\n      <td>강경학</td>\n      <td>2016</td>\n      <td>한화</td>\n      <td>0.188</td>\n      <td>14</td>\n      <td>32</td>\n      <td>4</td>\n      <td>6</td>\n      <td>1</td>\n      <td>...</td>\n      <td>0</td>\n      <td>0.281</td>\n      <td>0.212</td>\n      <td>0</td>\n      <td>180cm/72kg</td>\n      <td>1992년 08월 11일</td>\n      <td>내야수(우투좌타)</td>\n      <td>광주대성초-광주동성중-광주동성고</td>\n      <td>10000만원</td>\n      <td>0.493</td>\n    </tr>\n    <tr>\n      <th>...</th>\n      <td>...</td>\n      <td>...</td>\n      <td>...</td>\n      <td>...</td>\n      <td>...</td>\n      <td>...</td>\n      <td>...</td>\n      <td>...</td>\n      <td>...</td>\n      <td>...</td>\n      <td>...</td>\n      <td>...</td>\n      <td>...</td>\n      <td>...</td>\n      <td>...</td>\n      <td>...</td>\n      <td>...</td>\n      <td>...</td>\n      <td>...</td>\n      <td>...</td>\n      <td>...</td>\n    </tr>\n    <tr>\n      <th>1388</th>\n      <td>342</td>\n      <td>황재균</td>\n      <td>2014</td>\n      <td>롯데</td>\n      <td>0.407</td>\n      <td>10</td>\n      <td>27</td>\n      <td>3</td>\n      <td>11</td>\n      <td>2</td>\n      <td>...</td>\n      <td>0</td>\n      <td>0.593</td>\n      <td>0.448</td>\n      <td>1</td>\n      <td>183cm/96kg</td>\n      <td>1987년 07월 28일</td>\n      <td>내야수(우투우타)</td>\n      <td>사당초-이수중-경기고-현대-우리-히어로즈-넥센-롯데-샌프란시스코</td>\n      <td>6000만원</td>\n      <td>1.041</td>\n    </tr>\n    <tr>\n      <th>1389</th>\n      <td>342</td>\n      <td>황재균</td>\n      <td>2015</td>\n      <td>롯데</td>\n      <td>0.333</td>\n      <td>11</td>\n      <td>30</td>\n      <td>8</td>\n      <td>10</td>\n      <td>3</td>\n      <td>...</td>\n      <td>0</td>\n      <td>0.433</td>\n      <td>0.389</td>\n      <td>0</td>\n      <td>183cm/96kg</td>\n      <td>1987년 07월 28일</td>\n      <td>내야수(우투우타)</td>\n      <td>사당초-이수중-경기고-현대-우리-히어로즈-넥센-롯데-샌프란시스코</td>\n      <td>6000만원</td>\n      <td>0.822</td>\n    </tr>\n    <tr>\n      <th>1390</th>\n      <td>342</td>\n      <td>황재균</td>\n      <td>2016</td>\n      <td>롯데</td>\n      <td>0.310</td>\n      <td>16</td>\n      <td>42</td>\n      <td>8</td>\n      <td>13</td>\n      <td>3</td>\n      <td>...</td>\n      <td>0</td>\n      <td>0.429</td>\n      <td>0.370</td>\n      <td>1</td>\n      <td>183cm/96kg</td>\n      <td>1987년 07월 28일</td>\n      <td>내야수(우투우타)</td>\n      <td>사당초-이수중-경기고-현대-우리-히어로즈-넥센-롯데-샌프란시스코</td>\n      <td>6000만원</td>\n      <td>0.799</td>\n    </tr>\n    <tr>\n      <th>1391</th>\n      <td>342</td>\n      <td>황재균</td>\n      <td>2018</td>\n      <td>KT</td>\n      <td>0.250</td>\n      <td>6</td>\n      <td>16</td>\n      <td>3</td>\n      <td>4</td>\n      <td>1</td>\n      <td>...</td>\n      <td>0</td>\n      <td>0.500</td>\n      <td>0.333</td>\n      <td>3</td>\n      <td>183cm/96kg</td>\n      <td>1987년 07월 28일</td>\n      <td>내야수(우투우타)</td>\n      <td>사당초-이수중-경기고-현대-우리-히어로즈-넥센-롯데-샌프란시스코</td>\n      <td>6000만원</td>\n      <td>0.833</td>\n    </tr>\n    <tr>\n      <th>1392</th>\n      <td>344</td>\n      <td>황진수</td>\n      <td>2014</td>\n      <td>롯데</td>\n      <td>0.000</td>\n      <td>1</td>\n      <td>1</td>\n      <td>1</td>\n      <td>0</td>\n      <td>0</td>\n      <td>...</td>\n      <td>0</td>\n      <td>0.000</td>\n      <td>0.000</td>\n      <td>0</td>\n      <td>181cm/82kg</td>\n      <td>1989년 02월 15일</td>\n      <td>내야수(우투양타)</td>\n      <td>석천초-대헌중-공주고</td>\n      <td>4000만원</td>\n      <td>0.000</td>\n    </tr>\n  </tbody>\n</table>\n<p>1393 rows × 29 columns</p>\n</div>"
     },
     "execution_count": 60,
     "metadata": {},
     "output_type": "execute_result"
    }
   ],
   "source": [
    "pre_season"
   ],
   "metadata": {
    "collapsed": false,
    "pycharm": {
     "name": "#%%\n"
    }
   }
  },
  {
   "cell_type": "code",
   "execution_count": 61,
   "outputs": [
    {
     "data": {
      "text/plain": "batter_id             0\nbatter_name           0\nyear                  0\nteam                  0\navg                  26\nG                     0\nAB                    0\nR                     0\nH                     0\n2B                    0\n3B                    0\nHR                    0\nTB                    0\nRBI                   0\nSB                    0\nCS                    0\nBB                    0\nHBP                   0\nSO                    0\nGDP                   0\nSLG                  26\nOBP                  24\nE                     0\nheight/weight       802\nyear_born             0\nposition            802\ncareer                0\nstarting_salary    1067\nOPS                  26\ndtype: int64"
     },
     "execution_count": 61,
     "metadata": {},
     "output_type": "execute_result"
    }
   ],
   "source": [
    "test=regular_season\n",
    "test.isnull().sum(axis=0)"
   ],
   "metadata": {
    "collapsed": false,
    "pycharm": {
     "name": "#%%\n"
    }
   }
  },
  {
   "cell_type": "code",
   "execution_count": 62,
   "outputs": [],
   "source": [
    "regular_season_kia = regular_season[regular_season['team'] == '한화']"
   ],
   "metadata": {
    "collapsed": false,
    "pycharm": {
     "name": "#%%\n"
    }
   }
  },
  {
   "cell_type": "code",
   "execution_count": 63,
   "outputs": [
    {
     "data": {
      "text/plain": "0       False\n1        True\n2        True\n3        True\n4        True\n        ...  \n2449    False\n2450    False\n2451    False\n2452    False\n2453    False\nName: team, Length: 2454, dtype: bool"
     },
     "execution_count": 63,
     "metadata": {},
     "output_type": "execute_result"
    }
   ],
   "source": [
    "regular_season['team'] == '한화'"
   ],
   "metadata": {
    "collapsed": false,
    "pycharm": {
     "name": "#%%\n"
    }
   }
  },
  {
   "cell_type": "code",
   "execution_count": 64,
   "outputs": [
    {
     "data": {
      "text/plain": "      batter_id batter_name  year team    avg    G   AB   R    H  2B  ...  \\\n1             1         강경학  2011   한화  0.000    2    1   0    0   0  ...   \n2             1         강경학  2014   한화  0.221   41   86  11   19   2  ...   \n3             1         강경학  2015   한화  0.257  120  311  50   80   7  ...   \n4             1         강경학  2016   한화  0.158   46  101  16   16   3  ...   \n5             1         강경학  2017   한화  0.214   59   84  17   18   2  ...   \n...         ...         ...   ...  ...    ...  ...  ...  ..  ...  ..  ...   \n2378        332         허도환  2015   한화  0.176   61   91   8   16   7  ...   \n2379        332         허도환  2016   한화  0.218   48   78   9   17   8  ...   \n2380        332         허도환  2017   한화  0.225   30   40   4    9   3  ...   \n2392        334          호잉  2018   한화  0.306  142  529  85  162  47  ...   \n2429        340         황선일  2015   한화  0.174   13   23   1    4   2  ...   \n\n      GDP      SLG    OBP   E  height/weight      year_born   position  \\\n1       0  0.00000  0.000   1     180cm/72kg  1992년 08월 11일  내야수(우투좌타)   \n2       1  0.34900  0.337   6     180cm/72kg  1992년 08월 11일  내야수(우투좌타)   \n3       3  0.32500  0.348  15     180cm/72kg  1992년 08월 11일  내야수(우투좌타)   \n4       5  0.25700  0.232   7     180cm/72kg  1992년 08월 11일  내야수(우투좌타)   \n5       1  0.26200  0.290   4     180cm/72kg  1992년 08월 11일  내야수(우투좌타)   \n...   ...      ...    ...  ..            ...            ...        ...   \n2378    3  0.28600  0.272   3     176cm/87kg  1984년 07월 31일   포수(우투우타)   \n2379    2  0.32100  0.315   1     176cm/87kg  1984년 07월 31일   포수(우투우타)   \n2380    2  0.37500  0.326   0     176cm/87kg  1984년 07월 31일   포수(우투우타)   \n2392    5  0.57300  0.369   4     190cm/92kg  1989년 05월 18일  외야수(우투좌타)   \n2429    1  0.26087  0.240   0            NaN  1987년 02월 17일        NaN   \n\n                               career  starting_salary      OPS  \n1                   광주대성초-광주동성중-광주동성고          10000만원  0.00000  \n2                   광주대성초-광주동성중-광주동성고          10000만원  0.68600  \n3                   광주대성초-광주동성중-광주동성고          10000만원  0.67300  \n4                   광주대성초-광주동성중-광주동성고          10000만원  0.48900  \n5                   광주대성초-광주동성중-광주동성고          10000만원  0.55200  \n...                               ...              ...      ...  \n2378       서울학동초-이수중-서울고-단국대-두산-넥센-한화              NaN  0.55800  \n2379       서울학동초-이수중-서울고-단국대-두산-넥센-한화              NaN  0.63600  \n2380       서울학동초-이수중-서울고-단국대-두산-넥센-한화              NaN  0.70100  \n2392  미국 Fort Loramie(고)-미국 Toledo(대)         300000달러  0.94200  \n2429          군산중앙초-군산중-군산상고-LG-상무-LG              NaN  0.50087  \n\n[302 rows x 29 columns]",
      "text/html": "<div>\n<style scoped>\n    .dataframe tbody tr th:only-of-type {\n        vertical-align: middle;\n    }\n\n    .dataframe tbody tr th {\n        vertical-align: top;\n    }\n\n    .dataframe thead th {\n        text-align: right;\n    }\n</style>\n<table border=\"1\" class=\"dataframe\">\n  <thead>\n    <tr style=\"text-align: right;\">\n      <th></th>\n      <th>batter_id</th>\n      <th>batter_name</th>\n      <th>year</th>\n      <th>team</th>\n      <th>avg</th>\n      <th>G</th>\n      <th>AB</th>\n      <th>R</th>\n      <th>H</th>\n      <th>2B</th>\n      <th>...</th>\n      <th>GDP</th>\n      <th>SLG</th>\n      <th>OBP</th>\n      <th>E</th>\n      <th>height/weight</th>\n      <th>year_born</th>\n      <th>position</th>\n      <th>career</th>\n      <th>starting_salary</th>\n      <th>OPS</th>\n    </tr>\n  </thead>\n  <tbody>\n    <tr>\n      <th>1</th>\n      <td>1</td>\n      <td>강경학</td>\n      <td>2011</td>\n      <td>한화</td>\n      <td>0.000</td>\n      <td>2</td>\n      <td>1</td>\n      <td>0</td>\n      <td>0</td>\n      <td>0</td>\n      <td>...</td>\n      <td>0</td>\n      <td>0.00000</td>\n      <td>0.000</td>\n      <td>1</td>\n      <td>180cm/72kg</td>\n      <td>1992년 08월 11일</td>\n      <td>내야수(우투좌타)</td>\n      <td>광주대성초-광주동성중-광주동성고</td>\n      <td>10000만원</td>\n      <td>0.00000</td>\n    </tr>\n    <tr>\n      <th>2</th>\n      <td>1</td>\n      <td>강경학</td>\n      <td>2014</td>\n      <td>한화</td>\n      <td>0.221</td>\n      <td>41</td>\n      <td>86</td>\n      <td>11</td>\n      <td>19</td>\n      <td>2</td>\n      <td>...</td>\n      <td>1</td>\n      <td>0.34900</td>\n      <td>0.337</td>\n      <td>6</td>\n      <td>180cm/72kg</td>\n      <td>1992년 08월 11일</td>\n      <td>내야수(우투좌타)</td>\n      <td>광주대성초-광주동성중-광주동성고</td>\n      <td>10000만원</td>\n      <td>0.68600</td>\n    </tr>\n    <tr>\n      <th>3</th>\n      <td>1</td>\n      <td>강경학</td>\n      <td>2015</td>\n      <td>한화</td>\n      <td>0.257</td>\n      <td>120</td>\n      <td>311</td>\n      <td>50</td>\n      <td>80</td>\n      <td>7</td>\n      <td>...</td>\n      <td>3</td>\n      <td>0.32500</td>\n      <td>0.348</td>\n      <td>15</td>\n      <td>180cm/72kg</td>\n      <td>1992년 08월 11일</td>\n      <td>내야수(우투좌타)</td>\n      <td>광주대성초-광주동성중-광주동성고</td>\n      <td>10000만원</td>\n      <td>0.67300</td>\n    </tr>\n    <tr>\n      <th>4</th>\n      <td>1</td>\n      <td>강경학</td>\n      <td>2016</td>\n      <td>한화</td>\n      <td>0.158</td>\n      <td>46</td>\n      <td>101</td>\n      <td>16</td>\n      <td>16</td>\n      <td>3</td>\n      <td>...</td>\n      <td>5</td>\n      <td>0.25700</td>\n      <td>0.232</td>\n      <td>7</td>\n      <td>180cm/72kg</td>\n      <td>1992년 08월 11일</td>\n      <td>내야수(우투좌타)</td>\n      <td>광주대성초-광주동성중-광주동성고</td>\n      <td>10000만원</td>\n      <td>0.48900</td>\n    </tr>\n    <tr>\n      <th>5</th>\n      <td>1</td>\n      <td>강경학</td>\n      <td>2017</td>\n      <td>한화</td>\n      <td>0.214</td>\n      <td>59</td>\n      <td>84</td>\n      <td>17</td>\n      <td>18</td>\n      <td>2</td>\n      <td>...</td>\n      <td>1</td>\n      <td>0.26200</td>\n      <td>0.290</td>\n      <td>4</td>\n      <td>180cm/72kg</td>\n      <td>1992년 08월 11일</td>\n      <td>내야수(우투좌타)</td>\n      <td>광주대성초-광주동성중-광주동성고</td>\n      <td>10000만원</td>\n      <td>0.55200</td>\n    </tr>\n    <tr>\n      <th>...</th>\n      <td>...</td>\n      <td>...</td>\n      <td>...</td>\n      <td>...</td>\n      <td>...</td>\n      <td>...</td>\n      <td>...</td>\n      <td>...</td>\n      <td>...</td>\n      <td>...</td>\n      <td>...</td>\n      <td>...</td>\n      <td>...</td>\n      <td>...</td>\n      <td>...</td>\n      <td>...</td>\n      <td>...</td>\n      <td>...</td>\n      <td>...</td>\n      <td>...</td>\n      <td>...</td>\n    </tr>\n    <tr>\n      <th>2378</th>\n      <td>332</td>\n      <td>허도환</td>\n      <td>2015</td>\n      <td>한화</td>\n      <td>0.176</td>\n      <td>61</td>\n      <td>91</td>\n      <td>8</td>\n      <td>16</td>\n      <td>7</td>\n      <td>...</td>\n      <td>3</td>\n      <td>0.28600</td>\n      <td>0.272</td>\n      <td>3</td>\n      <td>176cm/87kg</td>\n      <td>1984년 07월 31일</td>\n      <td>포수(우투우타)</td>\n      <td>서울학동초-이수중-서울고-단국대-두산-넥센-한화</td>\n      <td>NaN</td>\n      <td>0.55800</td>\n    </tr>\n    <tr>\n      <th>2379</th>\n      <td>332</td>\n      <td>허도환</td>\n      <td>2016</td>\n      <td>한화</td>\n      <td>0.218</td>\n      <td>48</td>\n      <td>78</td>\n      <td>9</td>\n      <td>17</td>\n      <td>8</td>\n      <td>...</td>\n      <td>2</td>\n      <td>0.32100</td>\n      <td>0.315</td>\n      <td>1</td>\n      <td>176cm/87kg</td>\n      <td>1984년 07월 31일</td>\n      <td>포수(우투우타)</td>\n      <td>서울학동초-이수중-서울고-단국대-두산-넥센-한화</td>\n      <td>NaN</td>\n      <td>0.63600</td>\n    </tr>\n    <tr>\n      <th>2380</th>\n      <td>332</td>\n      <td>허도환</td>\n      <td>2017</td>\n      <td>한화</td>\n      <td>0.225</td>\n      <td>30</td>\n      <td>40</td>\n      <td>4</td>\n      <td>9</td>\n      <td>3</td>\n      <td>...</td>\n      <td>2</td>\n      <td>0.37500</td>\n      <td>0.326</td>\n      <td>0</td>\n      <td>176cm/87kg</td>\n      <td>1984년 07월 31일</td>\n      <td>포수(우투우타)</td>\n      <td>서울학동초-이수중-서울고-단국대-두산-넥센-한화</td>\n      <td>NaN</td>\n      <td>0.70100</td>\n    </tr>\n    <tr>\n      <th>2392</th>\n      <td>334</td>\n      <td>호잉</td>\n      <td>2018</td>\n      <td>한화</td>\n      <td>0.306</td>\n      <td>142</td>\n      <td>529</td>\n      <td>85</td>\n      <td>162</td>\n      <td>47</td>\n      <td>...</td>\n      <td>5</td>\n      <td>0.57300</td>\n      <td>0.369</td>\n      <td>4</td>\n      <td>190cm/92kg</td>\n      <td>1989년 05월 18일</td>\n      <td>외야수(우투좌타)</td>\n      <td>미국 Fort Loramie(고)-미국 Toledo(대)</td>\n      <td>300000달러</td>\n      <td>0.94200</td>\n    </tr>\n    <tr>\n      <th>2429</th>\n      <td>340</td>\n      <td>황선일</td>\n      <td>2015</td>\n      <td>한화</td>\n      <td>0.174</td>\n      <td>13</td>\n      <td>23</td>\n      <td>1</td>\n      <td>4</td>\n      <td>2</td>\n      <td>...</td>\n      <td>1</td>\n      <td>0.26087</td>\n      <td>0.240</td>\n      <td>0</td>\n      <td>NaN</td>\n      <td>1987년 02월 17일</td>\n      <td>NaN</td>\n      <td>군산중앙초-군산중-군산상고-LG-상무-LG</td>\n      <td>NaN</td>\n      <td>0.50087</td>\n    </tr>\n  </tbody>\n</table>\n<p>302 rows × 29 columns</p>\n</div>"
     },
     "execution_count": 64,
     "metadata": {},
     "output_type": "execute_result"
    }
   ],
   "source": [
    "regular_season_kia.sort_values(by = ['batter_id', 'year'])"
   ],
   "metadata": {
    "collapsed": false,
    "pycharm": {
     "name": "#%%\n"
    }
   }
  },
  {
   "cell_type": "code",
   "execution_count": 65,
   "outputs": [],
   "source": [
    "#regular_season_batter_kia = regular_season_batter[regular_season_batter['opposing_team'] == 'KIA']\n",
    "\n"
   ],
   "metadata": {
    "collapsed": false,
    "pycharm": {
     "name": "#%%\n"
    }
   }
  },
  {
   "cell_type": "code",
   "execution_count": 66,
   "outputs": [],
   "source": [
    "if platform.system() == 'Windows':\n",
    "    font_name = font_manager.FontProperties(fname=\"C:\\Windows\\Fonts\\malgun.ttf\").get_name()\n",
    "\n"
   ],
   "metadata": {
    "collapsed": false,
    "pycharm": {
     "name": "#%%\n"
    }
   }
  },
  {
   "cell_type": "code",
   "execution_count": 67,
   "outputs": [],
   "source": [
    "matplotlib.rcParams['axes.unicode_minus'] = False"
   ],
   "metadata": {
    "collapsed": false,
    "pycharm": {
     "name": "#%%\n"
    }
   }
  },
  {
   "cell_type": "code",
   "execution_count": 68,
   "outputs": [
    {
     "data": {
      "text/plain": "<Figure size 720x648 with 25 Axes>",
      "image/png": "[encoded data removed]"
     },
     "metadata": {
      "needs_background": "light"
     },
     "output_type": "display_data"
    }
   ],
   "source": [
    "pre_season.hist(figsize=(10,9))\n",
    "plt.tight_layout()\n",
    "plt.show()"
   ],
   "metadata": {
    "collapsed": false,
    "pycharm": {
     "name": "#%%\n"
    }
   }
  },
  {
   "cell_type": "code",
   "execution_count": 69,
   "outputs": [],
   "source": [
    "#정규 시즌 데이터에서 2002 년 이후의 여도별 기록된 선수의 수\n",
    "regular_count = regular_season.groupby('year')['batter_id'].count().rename('regular')"
   ],
   "metadata": {
    "collapsed": false,
    "pycharm": {
     "name": "#%%\n"
    }
   }
  },
  {
   "cell_type": "code",
   "execution_count": 70,
   "outputs": [
    {
     "data": {
      "text/plain": "year\n1993      1\n1994      2\n1995      1\n1996      7\n1997      8\n1998     10\n1999     14\n2000     20\n2001     32\n2002     43\n2003     54\n2004     68\n2005     73\n2006     85\n2007     98\n2008    115\n2009    124\n2010    130\n2011    151\n2012    174\n2013    194\n2014    186\n2015    207\n2016    213\n2017    217\n2018    227\nName: regular, dtype: int64"
     },
     "execution_count": 70,
     "metadata": {},
     "output_type": "execute_result"
    }
   ],
   "source": [
    "regular_count"
   ],
   "metadata": {
    "collapsed": false,
    "pycharm": {
     "name": "#%%\n"
    }
   }
  },
  {
   "cell_type": "code",
   "execution_count": 71,
   "outputs": [
    {
     "data": {
      "text/plain": "year\n1993      1\n1994      2\n1995      1\n1996      7\n1997      8\n1998     10\n1999     14\n2000     20\n2001     32\n2002     43\n2003     54\n2004     68\n2005     73\n2006     85\n2007     98\n2008    115\n2009    124\n2010    130\n2011    151\n2012    174\n2013    194\n2014    186\n2015    207\n2016    213\n2017    217\n2018    227\nName: regular, dtype: int64"
     },
     "execution_count": 71,
     "metadata": {},
     "output_type": "execute_result"
    }
   ],
   "source": [
    "#연도별 선수\n",
    "regular_count"
   ],
   "metadata": {
    "collapsed": false,
    "pycharm": {
     "name": "#%%\n"
    }
   }
  },
  {
   "cell_type": "code",
   "execution_count": 72,
   "outputs": [
    {
     "data": {
      "text/plain": "year\n2002     12\n2003     19\n2004     28\n2005     37\n2006     36\n2007     43\n2008     61\n2009     66\n2010     72\n2011     75\n2012     87\n2013    104\n2014    117\n2015    134\n2016    153\n2017    167\n2018    182\nName: preseason, dtype: int64"
     },
     "execution_count": 72,
     "metadata": {},
     "output_type": "execute_result"
    }
   ],
   "source": [
    "pre_season_count = pre_season.groupby('year')['batter_id'].count().rename('preseason')\n",
    "pre_season_count"
   ],
   "metadata": {
    "collapsed": false,
    "pycharm": {
     "name": "#%%\n"
    }
   }
  },
  {
   "cell_type": "code",
   "execution_count": 73,
   "outputs": [],
   "source": [
    "#transpose\n",
    "season_count = pd.concat([regular_count, pre_season_count, np.round(pre_season_count/regular_count, 2).rename('ratio')], axis=1).transpose().loc[:, 2002:]"
   ],
   "metadata": {
    "collapsed": false,
    "pycharm": {
     "name": "#%%\n"
    }
   }
  },
  {
   "cell_type": "code",
   "execution_count": 74,
   "outputs": [
    {
     "data": {
      "text/plain": "year        2002   2003   2004   2005   2006   2007    2008    2009    2010  \\\nregular    43.00  54.00  68.00  73.00  85.00  98.00  115.00  124.00  130.00   \npreseason  12.00  19.00  28.00  37.00  36.00  43.00   61.00   66.00   72.00   \nratio       0.28   0.35   0.41   0.51   0.42   0.44    0.53    0.53    0.55   \n\nyear        2011   2012    2013    2014    2015    2016    2017   2018  \nregular    151.0  174.0  194.00  186.00  207.00  213.00  217.00  227.0  \npreseason   75.0   87.0  104.00  117.00  134.00  153.00  167.00  182.0  \nratio        0.5    0.5    0.54    0.63    0.65    0.72    0.77    0.8  ",
      "text/html": "<div>\n<style scoped>\n    .dataframe tbody tr th:only-of-type {\n        vertical-align: middle;\n    }\n\n    .dataframe tbody tr th {\n        vertical-align: top;\n    }\n\n    .dataframe thead th {\n        text-align: right;\n    }\n</style>\n<table border=\"1\" class=\"dataframe\">\n  <thead>\n    <tr style=\"text-align: right;\">\n      <th>year</th>\n      <th>2002</th>\n      <th>2003</th>\n      <th>2004</th>\n      <th>2005</th>\n      <th>2006</th>\n      <th>2007</th>\n      <th>2008</th>\n      <th>2009</th>\n      <th>2010</th>\n      <th>2011</th>\n      <th>2012</th>\n      <th>2013</th>\n      <th>2014</th>\n      <th>2015</th>\n      <th>2016</th>\n      <th>2017</th>\n      <th>2018</th>\n    </tr>\n  </thead>\n  <tbody>\n    <tr>\n      <th>regular</th>\n      <td>43.00</td>\n      <td>54.00</td>\n      <td>68.00</td>\n      <td>73.00</td>\n      <td>85.00</td>\n      <td>98.00</td>\n      <td>115.00</td>\n      <td>124.00</td>\n      <td>130.00</td>\n      <td>151.0</td>\n      <td>174.0</td>\n      <td>194.00</td>\n      <td>186.00</td>\n      <td>207.00</td>\n      <td>213.00</td>\n      <td>217.00</td>\n      <td>227.0</td>\n    </tr>\n    <tr>\n      <th>preseason</th>\n      <td>12.00</td>\n      <td>19.00</td>\n      <td>28.00</td>\n      <td>37.00</td>\n      <td>36.00</td>\n      <td>43.00</td>\n      <td>61.00</td>\n      <td>66.00</td>\n      <td>72.00</td>\n      <td>75.0</td>\n      <td>87.0</td>\n      <td>104.00</td>\n      <td>117.00</td>\n      <td>134.00</td>\n      <td>153.00</td>\n      <td>167.00</td>\n      <td>182.0</td>\n    </tr>\n    <tr>\n      <th>ratio</th>\n      <td>0.28</td>\n      <td>0.35</td>\n      <td>0.41</td>\n      <td>0.51</td>\n      <td>0.42</td>\n      <td>0.44</td>\n      <td>0.53</td>\n      <td>0.53</td>\n      <td>0.55</td>\n      <td>0.5</td>\n      <td>0.5</td>\n      <td>0.54</td>\n      <td>0.63</td>\n      <td>0.65</td>\n      <td>0.72</td>\n      <td>0.77</td>\n      <td>0.8</td>\n    </tr>\n  </tbody>\n</table>\n</div>"
     },
     "execution_count": 74,
     "metadata": {},
     "output_type": "execute_result"
    }
   ],
   "source": [
    "season_count"
   ],
   "metadata": {
    "collapsed": false,
    "pycharm": {
     "name": "#%%\n"
    }
   }
  },
  {
   "cell_type": "code",
   "execution_count": 75,
   "outputs": [
    {
     "data": {
      "text/plain": "      batter_id batter_name  year team    avg    G   AB   R   H  2B  ...  \\\n0             0        가르시아  2018   LG  0.339   50  183  27  62   9  ...   \n1             1         강경학  2011   한화  0.000    2    1   0   0   0  ...   \n2             1         강경학  2014   한화  0.221   41   86  11  19   2  ...   \n3             1         강경학  2015   한화  0.257  120  311  50  80   7  ...   \n4             1         강경학  2016   한화  0.158   46  101  16  16   3  ...   \n...         ...         ...   ...  ...    ...  ...  ...  ..  ..  ..  ...   \n2449        344         황진수  2014   롯데  0.000    5    5   0   0   0  ...   \n2450        344         황진수  2015   롯데  0.000    2    2   0   0   0  ...   \n2451        344         황진수  2016   롯데  0.000   11   10   2   0   0  ...   \n2452        344         황진수  2017   롯데  0.291   60  117  18  34   6  ...   \n2453        344         황진수  2018   롯데  0.167   18   24   6   4   1  ...   \n\n        SLG    OBP   E  height/weight      year_born   position  \\\n0     0.519  0.383   9     177cm/93kg  1985년 04월 12일  내야수(우투우타)   \n1     0.000  0.000   1     180cm/72kg  1992년 08월 11일  내야수(우투좌타)   \n2     0.349  0.337   6     180cm/72kg  1992년 08월 11일  내야수(우투좌타)   \n3     0.325  0.348  15     180cm/72kg  1992년 08월 11일  내야수(우투좌타)   \n4     0.257  0.232   7     180cm/72kg  1992년 08월 11일  내야수(우투좌타)   \n...     ...    ...  ..            ...            ...        ...   \n2449  0.000  0.000   0     181cm/82kg  1989년 02월 15일  내야수(우투양타)   \n2450  0.000  0.000   0     181cm/82kg  1989년 02월 15일  내야수(우투양타)   \n2451  0.000  0.000   0     181cm/82kg  1989년 02월 15일  내야수(우투양타)   \n2452  0.402  0.359   4     181cm/82kg  1989년 02월 15일  내야수(우투양타)   \n2453  0.333  0.231   3     181cm/82kg  1989년 02월 15일  내야수(우투양타)   \n\n                                      career  starting_salary    OPS   new_idx  \n0     쿠바 Ciego de Avila Maximo Gomez Baez(대)              NaN  0.902  가르시아2018  \n1                          광주대성초-광주동성중-광주동성고          10000만원  0.000   강경학2011  \n2                          광주대성초-광주동성중-광주동성고          10000만원  0.686   강경학2014  \n3                          광주대성초-광주동성중-광주동성고          10000만원  0.673   강경학2015  \n4                          광주대성초-광주동성중-광주동성고          10000만원  0.489   강경학2016  \n...                                      ...              ...    ...       ...  \n2449                             석천초-대헌중-공주고           4000만원  0.000   황진수2014  \n2450                             석천초-대헌중-공주고           4000만원  0.000   황진수2015  \n2451                             석천초-대헌중-공주고           4000만원  0.000   황진수2016  \n2452                             석천초-대헌중-공주고           4000만원  0.761   황진수2017  \n2453                             석천초-대헌중-공주고           4000만원  0.564   황진수2018  \n\n[2454 rows x 30 columns]",
      "text/html": "<div>\n<style scoped>\n    .dataframe tbody tr th:only-of-type {\n        vertical-align: middle;\n    }\n\n    .dataframe tbody tr th {\n        vertical-align: top;\n    }\n\n    .dataframe thead th {\n        text-align: right;\n    }\n</style>\n<table border=\"1\" class=\"dataframe\">\n  <thead>\n    <tr style=\"text-align: right;\">\n      <th></th>\n      <th>batter_id</th>\n      <th>batter_name</th>\n      <th>year</th>\n      <th>team</th>\n      <th>avg</th>\n      <th>G</th>\n      <th>AB</th>\n      <th>R</th>\n      <th>H</th>\n      <th>2B</th>\n      <th>...</th>\n      <th>SLG</th>\n      <th>OBP</th>\n      <th>E</th>\n      <th>height/weight</th>\n      <th>year_born</th>\n      <th>position</th>\n      <th>career</th>\n      <th>starting_salary</th>\n      <th>OPS</th>\n      <th>new_idx</th>\n    </tr>\n  </thead>\n  <tbody>\n    <tr>\n      <th>0</th>\n      <td>0</td>\n      <td>가르시아</td>\n      <td>2018</td>\n      <td>LG</td>\n      <td>0.339</td>\n      <td>50</td>\n      <td>183</td>\n      <td>27</td>\n      <td>62</td>\n      <td>9</td>\n      <td>...</td>\n      <td>0.519</td>\n      <td>0.383</td>\n      <td>9</td>\n      <td>177cm/93kg</td>\n      <td>1985년 04월 12일</td>\n      <td>내야수(우투우타)</td>\n      <td>쿠바 Ciego de Avila Maximo Gomez Baez(대)</td>\n      <td>NaN</td>\n      <td>0.902</td>\n      <td>가르시아2018</td>\n    </tr>\n    <tr>\n      <th>1</th>\n      <td>1</td>\n      <td>강경학</td>\n      <td>2011</td>\n      <td>한화</td>\n      <td>0.000</td>\n      <td>2</td>\n      <td>1</td>\n      <td>0</td>\n      <td>0</td>\n      <td>0</td>\n      <td>...</td>\n      <td>0.000</td>\n      <td>0.000</td>\n      <td>1</td>\n      <td>180cm/72kg</td>\n      <td>1992년 08월 11일</td>\n      <td>내야수(우투좌타)</td>\n      <td>광주대성초-광주동성중-광주동성고</td>\n      <td>10000만원</td>\n      <td>0.000</td>\n      <td>강경학2011</td>\n    </tr>\n    <tr>\n      <th>2</th>\n      <td>1</td>\n      <td>강경학</td>\n      <td>2014</td>\n      <td>한화</td>\n      <td>0.221</td>\n      <td>41</td>\n      <td>86</td>\n      <td>11</td>\n      <td>19</td>\n      <td>2</td>\n      <td>...</td>\n      <td>0.349</td>\n      <td>0.337</td>\n      <td>6</td>\n      <td>180cm/72kg</td>\n      <td>1992년 08월 11일</td>\n      <td>내야수(우투좌타)</td>\n      <td>광주대성초-광주동성중-광주동성고</td>\n      <td>10000만원</td>\n      <td>0.686</td>\n      <td>강경학2014</td>\n    </tr>\n    <tr>\n      <th>3</th>\n      <td>1</td>\n      <td>강경학</td>\n      <td>2015</td>\n      <td>한화</td>\n      <td>0.257</td>\n      <td>120</td>\n      <td>311</td>\n      <td>50</td>\n      <td>80</td>\n      <td>7</td>\n      <td>...</td>\n      <td>0.325</td>\n      <td>0.348</td>\n      <td>15</td>\n      <td>180cm/72kg</td>\n      <td>1992년 08월 11일</td>\n      <td>내야수(우투좌타)</td>\n      <td>광주대성초-광주동성중-광주동성고</td>\n      <td>10000만원</td>\n      <td>0.673</td>\n      <td>강경학2015</td>\n    </tr>\n    <tr>\n      <th>4</th>\n      <td>1</td>\n      <td>강경학</td>\n      <td>2016</td>\n      <td>한화</td>\n      <td>0.158</td>\n      <td>46</td>\n      <td>101</td>\n      <td>16</td>\n      <td>16</td>\n      <td>3</td>\n      <td>...</td>\n      <td>0.257</td>\n      <td>0.232</td>\n      <td>7</td>\n      <td>180cm/72kg</td>\n      <td>1992년 08월 11일</td>\n      <td>내야수(우투좌타)</td>\n      <td>광주대성초-광주동성중-광주동성고</td>\n      <td>10000만원</td>\n      <td>0.489</td>\n      <td>강경학2016</td>\n    </tr>\n    <tr>\n      <th>...</th>\n      <td>...</td>\n      <td>...</td>\n      <td>...</td>\n      <td>...</td>\n      <td>...</td>\n      <td>...</td>\n      <td>...</td>\n      <td>...</td>\n      <td>...</td>\n      <td>...</td>\n      <td>...</td>\n      <td>...</td>\n      <td>...</td>\n      <td>...</td>\n      <td>...</td>\n      <td>...</td>\n      <td>...</td>\n      <td>...</td>\n      <td>...</td>\n      <td>...</td>\n      <td>...</td>\n    </tr>\n    <tr>\n      <th>2449</th>\n      <td>344</td>\n      <td>황진수</td>\n      <td>2014</td>\n      <td>롯데</td>\n      <td>0.000</td>\n      <td>5</td>\n      <td>5</td>\n      <td>0</td>\n      <td>0</td>\n      <td>0</td>\n      <td>...</td>\n      <td>0.000</td>\n      <td>0.000</td>\n      <td>0</td>\n      <td>181cm/82kg</td>\n      <td>1989년 02월 15일</td>\n      <td>내야수(우투양타)</td>\n      <td>석천초-대헌중-공주고</td>\n      <td>4000만원</td>\n      <td>0.000</td>\n      <td>황진수2014</td>\n    </tr>\n    <tr>\n      <th>2450</th>\n      <td>344</td>\n      <td>황진수</td>\n      <td>2015</td>\n      <td>롯데</td>\n      <td>0.000</td>\n      <td>2</td>\n      <td>2</td>\n      <td>0</td>\n      <td>0</td>\n      <td>0</td>\n      <td>...</td>\n      <td>0.000</td>\n      <td>0.000</td>\n      <td>0</td>\n      <td>181cm/82kg</td>\n      <td>1989년 02월 15일</td>\n      <td>내야수(우투양타)</td>\n      <td>석천초-대헌중-공주고</td>\n      <td>4000만원</td>\n      <td>0.000</td>\n      <td>황진수2015</td>\n    </tr>\n    <tr>\n      <th>2451</th>\n      <td>344</td>\n      <td>황진수</td>\n      <td>2016</td>\n      <td>롯데</td>\n      <td>0.000</td>\n      <td>11</td>\n      <td>10</td>\n      <td>2</td>\n      <td>0</td>\n      <td>0</td>\n      <td>...</td>\n      <td>0.000</td>\n      <td>0.000</td>\n      <td>0</td>\n      <td>181cm/82kg</td>\n      <td>1989년 02월 15일</td>\n      <td>내야수(우투양타)</td>\n      <td>석천초-대헌중-공주고</td>\n      <td>4000만원</td>\n      <td>0.000</td>\n      <td>황진수2016</td>\n    </tr>\n    <tr>\n      <th>2452</th>\n      <td>344</td>\n      <td>황진수</td>\n      <td>2017</td>\n      <td>롯데</td>\n      <td>0.291</td>\n      <td>60</td>\n      <td>117</td>\n      <td>18</td>\n      <td>34</td>\n      <td>6</td>\n      <td>...</td>\n      <td>0.402</td>\n      <td>0.359</td>\n      <td>4</td>\n      <td>181cm/82kg</td>\n      <td>1989년 02월 15일</td>\n      <td>내야수(우투양타)</td>\n      <td>석천초-대헌중-공주고</td>\n      <td>4000만원</td>\n      <td>0.761</td>\n      <td>황진수2017</td>\n    </tr>\n    <tr>\n      <th>2453</th>\n      <td>344</td>\n      <td>황진수</td>\n      <td>2018</td>\n      <td>롯데</td>\n      <td>0.167</td>\n      <td>18</td>\n      <td>24</td>\n      <td>6</td>\n      <td>4</td>\n      <td>1</td>\n      <td>...</td>\n      <td>0.333</td>\n      <td>0.231</td>\n      <td>3</td>\n      <td>181cm/82kg</td>\n      <td>1989년 02월 15일</td>\n      <td>내야수(우투양타)</td>\n      <td>석천초-대헌중-공주고</td>\n      <td>4000만원</td>\n      <td>0.564</td>\n      <td>황진수2018</td>\n    </tr>\n  </tbody>\n</table>\n<p>2454 rows × 30 columns</p>\n</div>"
     },
     "execution_count": 75,
     "metadata": {},
     "output_type": "execute_result"
    }
   ],
   "source": [
    "#문자열 합치기(정규 시즌)\n",
    "regular_season['new_idx'] = regular_season['batter_name'] + regular_season['year'].apply(str)\n",
    "regular_season"
   ],
   "metadata": {
    "collapsed": false,
    "pycharm": {
     "name": "#%%\n"
    }
   }
  },
  {
   "cell_type": "code",
   "execution_count": 76,
   "outputs": [
    {
     "data": {
      "text/plain": "0       가르시아2018\n1        강경학2011\n2        강경학2014\n3        강경학2015\n4        강경학2016\n          ...   \n1388     황재균2014\n1389     황재균2015\n1390     황재균2016\n1391     황재균2018\n1392     황진수2014\nName: new_idx, Length: 1393, dtype: object"
     },
     "execution_count": 76,
     "metadata": {},
     "output_type": "execute_result"
    }
   ],
   "source": [
    "#문자열 합치기(프리시즌 합치기)\n",
    "pre_season['new_idx'] = pre_season['batter_name']  + pre_season['year'].apply(str)\n",
    "pre_season['new_idx']"
   ],
   "metadata": {
    "collapsed": false,
    "pycharm": {
     "name": "#%%\n"
    }
   }
  },
  {
   "cell_type": "code",
   "execution_count": 77,
   "outputs": [
    {
     "data": {
      "text/plain": "1358"
     },
     "execution_count": 77,
     "metadata": {},
     "output_type": "execute_result"
    }
   ],
   "source": [
    "#교집합 데이터(list, set, intersection 함수 사용) 방법1\n",
    "intersection_index = list(set(regular_season['new_idx']).intersection(pre_season['new_idx']))\n",
    "len(intersection_index)\n",
    "\n",
    "#크기에 대한 이슈\n",
    "# intersection_index2 = list(set(regular_season['new_idx'] & set(pre_season['new_idx'])))\n",
    "# len(intersection_index2)"
   ],
   "metadata": {
    "collapsed": false,
    "pycharm": {
     "name": "#%%\n"
    }
   }
  },
  {
   "cell_type": "code",
   "execution_count": 78,
   "outputs": [],
   "source": [
    "\n",
    "# 반복문으로 교집합 데이터 추출 방법2\n",
    "regular_season_numpy = regular_season['new_idx'].to_numpy()\n",
    "pre_season_numpy = pre_season['new_idx'].to_numpy()\n",
    "\n",
    "\n",
    "listSet = []\n",
    "for pre in pre_season_numpy:\n",
    "    for regular in regular_season_numpy:\n",
    "        if pre == regular:\n",
    "            listSet.append(pre)\n",
    "            break"
   ],
   "metadata": {
    "collapsed": false,
    "pycharm": {
     "name": "#%%\n"
    }
   }
  },
  {
   "cell_type": "code",
   "execution_count": 79,
   "outputs": [
    {
     "data": {
      "text/plain": "1358"
     },
     "execution_count": 79,
     "metadata": {},
     "output_type": "execute_result"
    }
   ],
   "source": [
    "len(listSet)"
   ],
   "metadata": {
    "collapsed": false,
    "pycharm": {
     "name": "#%%\n"
    }
   }
  },
  {
   "cell_type": "code",
   "execution_count": 80,
   "outputs": [
    {
     "data": {
      "text/plain": "1358"
     },
     "execution_count": 80,
     "metadata": {},
     "output_type": "execute_result"
    }
   ],
   "source": [
    "#방법1, 방법2 결과 동일\n",
    "intersection_index2 = list(set(listSet) & set(intersection_index))\n",
    "len(intersection_index2)"
   ],
   "metadata": {
    "collapsed": false,
    "pycharm": {
     "name": "#%%\n"
    }
   }
  },
  {
   "cell_type": "code",
   "execution_count": 81,
   "outputs": [
    {
     "data": {
      "text/plain": "['가르시아2018',\n '강경학2011',\n '강경학2014',\n '강경학2015',\n '강경학2016',\n '강경학2017',\n '강구성2013',\n '강구성2016',\n '강구성2017',\n '김태완2006',\n '김태완2007',\n '김태완2008',\n '김태완2009',\n '김태완2010',\n '김태완2013',\n '김태완2014',\n '김태완2016',\n '김태완2017',\n '김태완2018',\n '강민국2014',\n '강민국2015',\n '강민국2016',\n '강민호2005',\n '강민호2006',\n '강민호2007',\n '강민호2008',\n '강민호2009',\n '강민호2010',\n '강민호2011',\n '강민호2012',\n '강민호2013',\n '강민호2014',\n '강민호2015',\n '강민호2016',\n '강민호2017',\n '강민호2018',\n '강백호2018',\n '강상원2017',\n '강상원2018',\n '강승호2016',\n '강승호2017',\n '강승호2018',\n '강진성2017',\n '강진성2018',\n '강한울2014',\n '강한울2015',\n '강한울2017',\n '강한울2018',\n '신성현2016',\n '신성현2017',\n '신성현2018',\n '고종욱2011',\n '고종욱2015',\n '고종욱2016',\n '고종욱2017',\n '고종욱2018',\n '구자욱2015',\n '구자욱2016',\n '구자욱2017',\n '구자욱2018',\n '국해성2012',\n '국해성2015',\n '국해성2016',\n '국해성2017',\n '국해성2018',\n '권정웅2016',\n '권정웅2017',\n '권정웅2018',\n '권희동2013',\n '권희동2014',\n '권희동2017',\n '권희동2018',\n '김강민2003',\n '김강민2004',\n '김강민2005',\n '김강민2006',\n '김강민2007',\n '김강민2008',\n '김강민2009',\n '김강민2010',\n '김강민2011',\n '김강민2012',\n '김강민2013',\n '김강민2014',\n '김강민2015',\n '김강민2016',\n '김강민2017',\n '김강민2018',\n '문선재2013',\n '문선재2014',\n '문선재2015',\n '문선재2016',\n '문선재2017',\n '김동엽2016',\n '김동엽2017',\n '김동엽2018',\n '김동욱2013',\n '김동욱2015',\n '김동욱2016',\n '김동욱2017',\n '김동욱2018',\n '김동한2013',\n '김동한2016',\n '김동한2017',\n '김동한2018',\n '김문호2007',\n '김문호2008',\n '김문호2011',\n '김문호2012',\n '김문호2013',\n '김문호2014',\n '김문호2015',\n '김문호2016',\n '김문호2017',\n '김문호2018',\n '김민성2007',\n '김민성2009',\n '김민성2010',\n '김민성2011',\n '김민성2012',\n '김민성2013',\n '김민성2014',\n '김민성2015',\n '김민성2016',\n '김민성2017',\n '김민성2018',\n '김민수2014',\n '김민수2018',\n '김민식2015',\n '김민식2016',\n '김민식2017',\n '김민식2018',\n '홍성갑2015',\n '홍성갑2016',\n '홍성갑2017',\n '김민하2014',\n '김민하2015',\n '김사훈2012',\n '김사훈2013',\n '김사훈2014',\n '김사훈2017',\n '김사훈2018',\n '김상수2009',\n '김상수2010',\n '김상수2011',\n '김상수2012',\n '김상수2013',\n '김상수2014',\n '김상수2015',\n '김상수2016',\n '김상수2017',\n '김상수2018',\n '김상호2012',\n '김상호2016',\n '김상호2017',\n '김선빈2008',\n '김선빈2009',\n '김선빈2010',\n '김선빈2011',\n '김선빈2012',\n '김선빈2013',\n '김선빈2014',\n '김선빈2017',\n '김선빈2018',\n '김성욱2013',\n '김성욱2014',\n '김성욱2015',\n '김성욱2016',\n '김성욱2017',\n '김성욱2018',\n '김성현2006',\n '김성현2007',\n '김성현2008',\n '김성현2011',\n '김성현2012',\n '김성현2013',\n '김성현2014',\n '김성현2015',\n '김성현2016',\n '김성현2017',\n '김성현2018',\n '김성훈2018',\n '김용의2008',\n '김용의2012',\n '김용의2013',\n '김용의2014',\n '김용의2015',\n '김용의2016',\n '김용의2017',\n '김용의2018',\n '김응민2014',\n '김인태2017',\n '김재성2015',\n '김재율2012',\n '김재율2015',\n '김재율2017',\n '김재율2018',\n '김재현2014',\n '김재현2015',\n '김재현2016',\n '김재호2004',\n '김재호2005',\n '김재호2008',\n '김재호2009',\n '김재호2010',\n '김재호2011',\n '김재호2012',\n '김재호2013',\n '김재호2014',\n '김재호2015',\n '김재호2016',\n '김재호2017',\n '김재호2018',\n '김재환2008',\n '김재환2011',\n '김재환2014',\n '김재환2015',\n '김재환2016',\n '김재환2017',\n '김재환2018',\n '김주찬2002',\n '김주찬2003',\n '김주찬2004',\n '김주찬2008',\n '김주찬2009',\n '김주찬2010',\n '김주찬2011',\n '김주찬2012',\n '김주찬2013',\n '김주찬2014',\n '김주찬2015',\n '김주찬2016',\n '김주찬2017',\n '김주찬2018',\n '김주형2004',\n '김주형2005',\n '김주형2006',\n '김주형2007',\n '김주형2008',\n '김주형2011',\n '김주형2013',\n '김주형2014',\n '김주형2016',\n '김주형2017',\n '김주형2018',\n '김지수2010',\n '김지수2014',\n '김지수2015',\n '김지수2016',\n '김지수2017',\n '김지수2018',\n '김진곤2015',\n '김태균2002',\n '김태균2003',\n '김태균2004',\n '김태균2005',\n '김태균2006',\n '김태균2007',\n '김태균2008',\n '김태균2009',\n '김태균2012',\n '김태균2013',\n '김태균2014',\n '김태균2015',\n '김태균2016',\n '김태균2017',\n '김태균2018',\n '김태연2018',\n '김태진2016',\n '김하성2015',\n '김하성2016',\n '김하성2017',\n '김하성2018',\n '김헌곤2011',\n '김헌곤2012',\n '김헌곤2013',\n '김헌곤2014',\n '김헌곤2017',\n '김헌곤2018',\n '김현수2007',\n '김현수2008',\n '김현수2009',\n '김현수2010',\n '김현수2011',\n '김현수2012',\n '김현수2013',\n '김현수2014',\n '김현수2015',\n '김현수2018',\n '김혜성2017',\n '김혜성2018',\n '김회성2009',\n '김회성2010',\n '김회성2014',\n '김회성2015',\n '김회성2017',\n '나경민2017',\n '나경민2018',\n '나성범2014',\n '나성범2015',\n '나성범2016',\n '나성범2017',\n '나성범2018',\n '나원탁2017',\n '나원탁2018',\n '나종덕2017',\n '나종덕2018',\n '나주환2003',\n '나주환2004',\n '나주환2005',\n '나주환2006',\n '나주환2007',\n '나주환2008',\n '나주환2009',\n '나주환2010',\n '나주환2014',\n '나주환2015',\n '나주환2017',\n '나주환2018',\n '나지완2008',\n '나지완2009',\n '나지완2010',\n '나지완2012',\n '나지완2013',\n '나지완2014',\n '나지완2015',\n '나지완2016',\n '나지완2017',\n '나지완2018',\n '남태혁2016',\n '남태혁2017',\n '남태혁2018',\n '노수광2015',\n '노수광2016',\n '노수광2017',\n '노수광2018',\n '노진혁2013',\n '노진혁2014',\n '노진혁2015',\n '노진혁2018',\n '도태훈2016',\n '도태훈2017',\n '도태훈2018',\n '러프2017',\n '러프2018',\n '로맥2018',\n '로하스2018',\n '류지혁2016',\n '류지혁2017',\n '류지혁2018',\n '모창민2008',\n '모창민2009',\n '모창민2010',\n '모창민2013',\n '모창민2014',\n '모창민2015',\n '모창민2017',\n '모창민2018',\n '문규현2004',\n '문규현2007',\n '문규현2009',\n '문규현2010',\n '문규현2011',\n '문규현2012',\n '문규현2013',\n '문규현2014',\n '문규현2015',\n '문규현2016',\n '문규현2017',\n '문규현2018',\n '민병헌2006',\n '민병헌2007',\n '민병헌2008',\n '민병헌2009',\n '민병헌2010',\n '민병헌2013',\n '민병헌2014',\n '민병헌2015',\n '민병헌2016',\n '민병헌2017',\n '민병헌2018',\n '박건우2013',\n '박건우2014',\n '박건우2015',\n '박건우2016',\n '박건우2017',\n '박건우2018',\n '박경수2003',\n '박경수2004',\n '박경수2005',\n '박경수2006',\n '박경수2007',\n '박경수2008',\n '박경수2009',\n '박경수2010',\n '박경수2011',\n '박경수2015',\n '박경수2016',\n '박경수2017',\n '박경수2018',\n '박광열2015',\n '박광열2016',\n '박광열2017',\n '박광열2018',\n '박기혁2002',\n '박기혁2003',\n '박기혁2004',\n '박기혁2005',\n '박기혁2006',\n '박기혁2007',\n '박기혁2008',\n '박기혁2009',\n '박기혁2010',\n '박기혁2013',\n '박기혁2015',\n '박기혁2016',\n '박기혁2017',\n '박기혁2018',\n '박동원2013',\n '박동원2014',\n '박동원2015',\n '박동원2016',\n '박동원2017',\n '박동원2018',\n '박민우2013',\n '박민우2014',\n '박민우2015',\n '박민우2016',\n '박민우2018',\n '박병호2005',\n '박병호2006',\n '박병호2009',\n '박병호2010',\n '박병호2012',\n '박병호2013',\n '박병호2014',\n '박병호2015',\n '박병호2018',\n '박석민2004',\n '박석민2008',\n '박석민2009',\n '박석민2010',\n '박석민2011',\n '박석민2012',\n '박석민2013',\n '박석민2014',\n '박석민2015',\n '박석민2016',\n '박석민2017',\n '박석민2018',\n '박세혁2012',\n '박세혁2013',\n '박세혁2016',\n '박세혁2017',\n '박세혁2018',\n '박승욱2013',\n '박승욱2017',\n '박승욱2018',\n '박용택2002',\n '박용택2003',\n '박용택2004',\n '박용택2005',\n '박용택2006',\n '박용택2007',\n '박용택2008',\n '박용택2009',\n '박용택2010',\n '박용택2011',\n '박용택2012',\n '박용택2013',\n '박용택2014',\n '박용택2015',\n '박용택2016',\n '박용택2017',\n '박용택2018',\n '박정권2004',\n '박정권2007',\n '박정권2008',\n '박정권2009',\n '박정권2010',\n '박정권2011',\n '박정권2012',\n '박정권2013',\n '박정권2014',\n '박정권2015',\n '박정권2016',\n '박정권2017',\n '박정권2018',\n '박정음2016',\n '박정음2017',\n '이호신2007',\n '이호신2009',\n '이호신2015',\n '이호신2016',\n '이호신2017',\n '박준태2014',\n '박준태2015',\n '박지규2015',\n '박지규2018',\n '박찬도2014',\n '박찬도2015',\n '박한이2002',\n '박한이2003',\n '박한이2004',\n '박한이2005',\n '박한이2006',\n '박한이2007',\n '박한이2008',\n '박한이2009',\n '박한이2010',\n '박한이2011',\n '박한이2012',\n '박한이2013',\n '박한이2014',\n '박한이2015',\n '박한이2016',\n '박한이2018',\n '박해민2015',\n '박해민2016',\n '박해민2017',\n '박해민2018',\n '박헌도2013',\n '박헌도2014',\n '박헌도2015',\n '박헌도2016',\n '박헌도2017',\n '박헌도2018',\n '배영섭2011',\n '배영섭2012',\n '배영섭2013',\n '배영섭2016',\n '배영섭2017',\n '배영섭2018',\n '배정대2015',\n '배정대2016',\n '백민기2015',\n '백민기2018',\n '백상원2013',\n '백상원2014',\n '백상원2015',\n '백상원2016',\n '백상원2017',\n '백용환2014',\n '백용환2015',\n '백용환2016',\n '백용환2018',\n '백창수2010',\n '백창수2014',\n '백창수2015',\n '백창수2016',\n '백창수2018',\n '버나디나2017',\n '버나디나2018',\n '번즈2017',\n '번즈2018',\n '서건창2012',\n '서건창2013',\n '서건창2014',\n '서건창2015',\n '서건창2016',\n '서건창2017',\n '서건창2018',\n '서동욱2003',\n '서동욱2004',\n '서동욱2005',\n '서동욱2008',\n '서동욱2009',\n '서동욱2010',\n '서동욱2011',\n '서동욱2012',\n '서동욱2013',\n '서동욱2014',\n '서동욱2015',\n '서동욱2016',\n '서동욱2017',\n '서동욱2018',\n '서상우2016',\n '서상우2017',\n '손시헌2004',\n '손시헌2005',\n '손시헌2006',\n '손시헌2009',\n '손시헌2010',\n '손시헌2011',\n '손시헌2012',\n '손시헌2013',\n '손시헌2014',\n '손시헌2015',\n '손시헌2016',\n '손시헌2017',\n '손시헌2018',\n '손아섭2007',\n '손아섭2008',\n '손아섭2009',\n '손아섭2010',\n '손아섭2011',\n '손아섭2013',\n '손아섭2014',\n '손아섭2015',\n '손아섭2016',\n '손아섭2017',\n '손아섭2018',\n '손주인2005',\n '손주인2008',\n '손주인2009',\n '손주인2010',\n '손주인2011',\n '손주인2012',\n '손주인2013',\n '손주인2014',\n '손주인2015',\n '손주인2016',\n '손주인2017',\n '손주인2018',\n '송광민2006',\n '송광민2007',\n '송광민2008',\n '송광민2009',\n '송광민2010',\n '송광민2014',\n '송광민2015',\n '송광민2017',\n '송광민2018',\n '송민섭2015',\n '송민섭2018',\n '송성문2017',\n '스크럭스2017',\n '스크럭스2018',\n '신본기2012',\n '신본기2013',\n '신본기2014',\n '신본기2017',\n '신본기2018',\n '신종길2003',\n '신종길2004',\n '신종길2011',\n '신종길2012',\n '신종길2013',\n '신종길2014',\n '신종길2015',\n '신종길2017',\n '심우준2015',\n '심우준2016',\n '심우준2017',\n '심우준2018',\n '안익훈2015',\n '안익훈2016',\n '안익훈2018',\n '안중열2015',\n '안중열2016',\n '안치홍2009',\n '안치홍2010',\n '안치홍2011',\n '안치홍2012',\n '안치홍2013',\n '안치홍2014',\n '안치홍2017',\n '안치홍2018',\n '양석환2015',\n '양석환2016',\n '양석환2017',\n '양석환2018',\n '양성우2012',\n '양성우2016',\n '양성우2017',\n '양성우2018',\n '양의지2010',\n '양의지2011',\n '양의지2012',\n '양의지2013',\n '양의지2014',\n '양의지2015',\n '양의지2016',\n '양의지2017',\n '양의지2018',\n '양종민2009',\n '양종민2010',\n '양종민2014',\n '양종민2015',\n '양종민2018',\n '엄태용2014',\n '오선진2008',\n '오선진2009',\n '오선진2010',\n '오선진2011',\n '오선진2012',\n '오선진2013',\n '오선진2016',\n '오선진2017',\n '오선진2018',\n '오재원2008',\n '오재원2009',\n '오재원2010',\n '오재원2011',\n '오재원2012',\n '오재원2013',\n '오재원2014',\n '오재원2015',\n '오재원2016',\n '오재원2017',\n '오재원2018',\n '오재일2009',\n '오재일2010',\n '오재일2011',\n '오재일2012',\n '오재일2013',\n '오재일2014',\n '오재일2015',\n '오재일2016',\n '오재일2017',\n '오재일2018',\n '오정복2010',\n '오정복2011',\n '오정복2014',\n '오정복2015',\n '오정복2016',\n '오정복2017',\n '오정복2018',\n '오지환2009',\n '오지환2010',\n '오지환2011',\n '오지환2012',\n '오지환2013',\n '오지환2014',\n '오지환2015',\n '오지환2017',\n '오지환2018',\n '오태곤2014',\n '오태곤2015',\n '오태곤2016',\n '오태곤2017',\n '오태곤2018',\n '유강남2012',\n '유강남2015',\n '유강남2016',\n '유강남2017',\n '유강남2018',\n '유민상2018',\n '유재신2008',\n '유재신2009',\n '유재신2012',\n '유재신2013',\n '유재신2014',\n '유재신2015',\n '유재신2016',\n '유재신2018',\n '유한준2005',\n '유한준2006',\n '유한준2007',\n '유한준2010',\n '유한준2011',\n '유한준2013',\n '유한준2014',\n '유한준2015',\n '유한준2016',\n '유한준2017',\n '유한준2018',\n '윤병호2015',\n '윤병호2016',\n '윤병호2017',\n '윤병호2018',\n '윤석민2005',\n '윤석민2007',\n '윤석민2011',\n '윤석민2012',\n '윤석민2014',\n '윤석민2015',\n '윤석민2016',\n '윤석민2017',\n '윤석민2018',\n '윤수강2012',\n '윤수강2018',\n '윤정우2011',\n '윤정우2012',\n '윤정우2016',\n '윤진호2011',\n '윤진호2012',\n '윤진호2015',\n '윤진호2016',\n '윤진호2018',\n '이대수2004',\n '이대수2005',\n '이대수2006',\n '이대수2007',\n '이대수2008',\n '이대수2009',\n '이대수2010',\n '이대수2011',\n '이대수2012',\n '이대수2013',\n '이대수2014',\n '이대수2015',\n '이대수2016',\n '이대수2017',\n '이대형2003',\n '이대형2005',\n '이대형2006',\n '이대형2007',\n '이대형2008',\n '이대형2009',\n '이대형2010',\n '이대형2011',\n '이대형2012',\n '이대형2013',\n '이대형2014',\n '이대형2015',\n '이대형2016',\n '이대형2017',\n '이대호2002',\n '이대호2004',\n '이대호2005',\n '이대호2006',\n '이대호2007',\n '이대호2008',\n '이대호2009',\n '이대호2010',\n '이대호2011',\n '이대호2017',\n '이대호2018',\n '이동훈2016',\n '이동훈2017',\n '이동훈2018',\n '이명기2010',\n '이명기2013',\n '이명기2015',\n '이명기2016',\n '이명기2017',\n '이명기2018',\n '이범호2002',\n '이범호2003',\n '이범호2004',\n '이범호2005',\n '이범호2006',\n '이범호2007',\n '이범호2008',\n '이범호2009',\n '이범호2011',\n '이범호2012',\n '이범호2013',\n '이범호2014',\n '이범호2015',\n '이범호2016',\n '이범호2017',\n '이범호2018',\n '이상호2013',\n '이상호2014',\n '이상호2017',\n '이상호2018',\n '이성곤2014',\n '이성곤2017',\n '이성곤2018',\n '이성열2005',\n '이성열2006',\n '이성열2007',\n '이성열2008',\n '이성열2009',\n '이성열2010',\n '이성열2011',\n '이성열2012',\n '이성열2013',\n '이성열2014',\n '이성열2015',\n '이성열2016',\n '이성열2017',\n '이성열2018',\n '이성우2008',\n '이성우2009',\n '이성우2010',\n '이성우2011',\n '이성우2013',\n '이성우2015',\n '이성우2016',\n '이성우2017',\n '이성우2018',\n '조동찬2002',\n '조동찬2003',\n '조동찬2004',\n '조동찬2005',\n '조동찬2006',\n '조동찬2007',\n '조동찬2008',\n '조동찬2009',\n '조동찬2010',\n '조동찬2011',\n '조동찬2012',\n '조동찬2013',\n '조동찬2016',\n '조동찬2017',\n '조동찬2018',\n '이영욱2008',\n '이영욱2009',\n '이영욱2010',\n '이영욱2011',\n '이영욱2015',\n '이영욱2016',\n '이영욱2017',\n '이영욱2018',\n '이용규2004',\n '이용규2005',\n '이용규2006',\n '이용규2007',\n '이용규2008',\n '이용규2009',\n '이용규2010',\n '이용규2011',\n '이용규2012',\n '이용규2013',\n '이용규2014',\n '이용규2015',\n '이용규2016',\n '이용규2018',\n '이우성2016',\n '이원석2005',\n '이원석2006',\n '이원석2007',\n '이원석2008',\n '이원석2009',\n '이원석2010',\n '이원석2011',\n '이원석2012',\n '이원석2014',\n '이원석2017',\n '이원석2018',\n '이인행2015',\n '이인행2017',\n '이재원2006',\n '이재원2007',\n '이재원2008',\n '이재원2010',\n '이재원2014',\n '이재원2015',\n '이재원2016',\n '이재원2017',\n '이재원2018',\n '이재율2016',\n '이재율2017',\n '이재율2018',\n '이정후2017',\n '이정후2018',\n '이종욱2006',\n '이종욱2007',\n '이종욱2008',\n '이종욱2009',\n '이종욱2010',\n '이종욱2011',\n '이종욱2012',\n '이종욱2013',\n '이종욱2014',\n '이종욱2015',\n '이종욱2016',\n '이종욱2018',\n '이준수2012',\n '이준수2013',\n '이준수2018',\n '이준호2011',\n '이준호2012',\n '이준호2013',\n '이지영2009',\n '이지영2012',\n '이지영2013',\n '이지영2014',\n '이지영2015',\n '이지영2016',\n '이지영2017',\n '이지영2018',\n '이진영2002',\n '이진영2003',\n '이진영2004',\n '이진영2005',\n '이진영2006',\n '이진영2007',\n '이진영2008',\n '이진영2009',\n '이진영2010',\n '이진영2011',\n '이진영2012',\n '이진영2013',\n '이진영2014',\n '이진영2015',\n '이진영2016',\n '이진영2017',\n '이진영2018',\n '이천웅2016',\n '이천웅2017',\n '이천웅2018',\n '이택근2003',\n '이택근2004',\n '이택근2005',\n '이택근2006',\n '이택근2007',\n '이택근2008',\n '이택근2009',\n '이택근2010',\n '이택근2012',\n '이택근2013',\n '이택근2014',\n '이택근2015',\n '이택근2016',\n '이택근2017',\n '이해창2011',\n ...]"
     },
     "execution_count": 81,
     "metadata": {},
     "output_type": "execute_result"
    }
   ],
   "source": [
    "listSet"
   ],
   "metadata": {
    "collapsed": false,
    "pycharm": {
     "name": "#%%\n"
    }
   }
  },
  {
   "cell_type": "code",
   "execution_count": 82,
   "outputs": [],
   "source": [
    "#내가한 방식\n",
    "\n",
    "regular_season_new = regular_season[regular_season['new_idx'].isin(listSet)]\n",
    "regular_season_new.sort_values('new_idx').reset_index(drop=True)\n",
    "\n",
    "pre_season_new = pre_season[pre_season['new_idx'].isin(listSet)]\n",
    "pre_season_new = pre_season_new.sort_values('new_idx').reset_index(drop=True)"
   ],
   "metadata": {
    "collapsed": false,
    "pycharm": {
     "name": "#%%\n"
    }
   }
  },
  {
   "cell_type": "code",
   "execution_count": 83,
   "outputs": [
    {
     "name": "stdout",
     "output_type": "stream",
     "text": [
      "(1358, 30) (1358, 30)\n"
     ]
    }
   ],
   "source": [
    "print(regular_season_new.shape, pre_season_new.shape)"
   ],
   "metadata": {
    "collapsed": false,
    "pycharm": {
     "name": "#%%\n"
    }
   }
  },
  {
   "cell_type": "code",
   "execution_count": 84,
   "outputs": [],
   "source": [
    "test = regular_season['new_idx'].isin(listSet)"
   ],
   "metadata": {
    "collapsed": false,
    "pycharm": {
     "name": "#%%\n"
    }
   }
  },
  {
   "cell_type": "code",
   "execution_count": 85,
   "outputs": [],
   "source": [
    "#책에서 한 방식\n",
    "regular_season_new2 = regular_season.loc[regular_season['new_idx'].apply(lambda x : x in intersection_index2)].copy()\n",
    "regular_season_new2 = regular_season_new2.sort_values('new_idx').reset_index(drop = True)\n",
    "\n",
    "pre_season_new2 = pre_season.loc[pre_season['new_idx'].apply(lambda x : x in intersection_index2)].copy()\n",
    "pre_season_new2 = pre_season_new2.sort_values('new_idx').reset_index(drop = True)"
   ],
   "metadata": {
    "collapsed": false,
    "pycharm": {
     "name": "#%%\n"
    }
   }
  },
  {
   "cell_type": "code",
   "execution_count": 86,
   "outputs": [
    {
     "name": "stdout",
     "output_type": "stream",
     "text": [
      "(1358, 30) (1358, 30)\n"
     ]
    }
   ],
   "source": [
    "print(pre_season_new2.shape, regular_season_new.shape)"
   ],
   "metadata": {
    "collapsed": false,
    "pycharm": {
     "name": "#%%\n"
    }
   }
  },
  {
   "cell_type": "markdown",
   "source": [
    "# 상관계수 파악\n",
    "### 프리시즌, 정규시진은 상관이 없다"
   ],
   "metadata": {
    "collapsed": false
   }
  },
  {
   "cell_type": "code",
   "execution_count": 87,
   "outputs": [
    {
     "name": "stderr",
     "output_type": "stream",
     "text": [
      "c:\\users\\user\\appdata\\local\\programs\\python\\python39\\lib\\site-packages\\seaborn\\_decorators.py:36: FutureWarning: Pass the following variables as keyword args: x, y. From version 0.12, the only valid positional argument will be `data`, and passing other arguments without an explicit keyword will result in an error or misinterpretation.\n",
      "  warnings.warn(\n"
     ]
    },
    {
     "data": {
      "text/plain": "Text(0, 0.5, 'preseason')"
     },
     "execution_count": 87,
     "metadata": {},
     "output_type": "execute_result"
    },
    {
     "data": {
      "text/plain": "<Figure size 432x288 with 1 Axes>",
      "image/png": "[encoded data removed]"
     },
     "metadata": {
      "needs_background": "light"
     },
     "output_type": "display_data"
    }
   ],
   "source": [
    "\n",
    "corr = regular_season_new2['OPS'].corr(pre_season_new2['OPS'])\n",
    "sns.scatterplot(regular_season_new['OPS'], pre_season_new['OPS'])\n",
    "plt.title(\"corr : \" + str(np.round(corr, 2)), fontsize = 20)\n",
    "plt.xlabel('regularseason', fontsize=15)\n",
    "plt.ylabel('preseason', fontsize=15)"
   ],
   "metadata": {
    "collapsed": false,
    "pycharm": {
     "name": "#%%\n"
    }
   }
  },
  {
   "cell_type": "code",
   "execution_count": 88,
   "outputs": [
    {
     "data": {
      "text/plain": "           batter_id      year       avg         G        AB         R  \\\nbatter_id   1.000000 -0.059060 -0.037432 -0.036249 -0.042264 -0.069169   \nyear       -0.059060  1.000000  0.047164 -0.002804 -0.007138  0.030349   \navg        -0.037432  0.047164  1.000000  0.486049  0.493054  0.488481   \nG          -0.036249 -0.002804  0.486049  1.000000  0.931613  0.859570   \nAB         -0.042264 -0.007138  0.493054  0.931613  1.000000  0.946174   \nR          -0.069169  0.030349  0.488481  0.859570  0.946174  1.000000   \nH          -0.043593  0.016305  0.521170  0.892624  0.985374  0.961276   \n2B         -0.043471  0.020140  0.485083  0.833705  0.924361  0.907399   \n3B         -0.075027 -0.018048  0.268319  0.488191  0.533750  0.571925   \nHR         -0.041416  0.021358  0.370007  0.632064  0.728135  0.769227   \nTB         -0.047636  0.018143  0.504359  0.864536  0.963435  0.959621   \nRBI        -0.040569  0.040815  0.470017  0.811566  0.903959  0.898818   \nSB         -0.049258 -0.104432  0.255881  0.489876  0.545551  0.610985   \nCS         -0.068401 -0.108576  0.293852  0.575591  0.617874  0.633020   \nBB         -0.067060 -0.020457  0.448144  0.814841  0.891425  0.895176   \nHBP        -0.024073  0.005585  0.327718  0.640272  0.665467  0.656564   \nSO         -0.061203  0.054268  0.416041  0.862002  0.888006  0.836260   \nGDP        -0.013839  0.004520  0.402419  0.757007  0.807997  0.718449   \nSLG        -0.036928  0.048796  0.868183  0.516975  0.540886  0.556065   \nOBP        -0.033690  0.059733  0.898050  0.486954  0.483047  0.488408   \nE          -0.058620 -0.080026  0.259142  0.577912  0.573509  0.508033   \nOPS        -0.039554  0.054094  0.919696  0.534539  0.546879  0.558242   \n\n                  H        2B        3B        HR  ...        SB        CS  \\\nbatter_id -0.043593 -0.043471 -0.075027 -0.041416  ... -0.049258 -0.068401   \nyear       0.016305  0.020140 -0.018048  0.021358  ... -0.104432 -0.108576   \navg        0.521170  0.485083  0.268319  0.370007  ...  0.255881  0.293852   \nG          0.892624  0.833705  0.488191  0.632064  ...  0.489876  0.575591   \nAB         0.985374  0.924361  0.533750  0.728135  ...  0.545551  0.617874   \nR          0.961276  0.907399  0.571925  0.769227  ...  0.610985  0.633020   \nH          1.000000  0.939350  0.535429  0.751363  ...  0.541087  0.602168   \n2B         0.939350  1.000000  0.468033  0.746644  ...  0.453971  0.519506   \n3B         0.535429  0.468033  1.000000  0.205052  ...  0.608751  0.588569   \nHR         0.751363  0.746644  0.205052  1.000000  ...  0.208335  0.263538   \nTB         0.981231  0.946162  0.492521  0.860253  ...  0.479807  0.541304   \nRBI        0.923177  0.898658  0.391154  0.902863  ...  0.356788  0.423604   \nSB         0.541087  0.453971  0.608751  0.208335  ...  1.000000  0.795938   \nCS         0.602168  0.519506  0.588569  0.263538  ...  0.795938  1.000000   \nBB         0.894687  0.839813  0.436684  0.749476  ...  0.471450  0.536410   \nHBP        0.649509  0.619308  0.290162  0.597497  ...  0.311001  0.340718   \nSO         0.848227  0.817390  0.446949  0.747049  ...  0.424365  0.499639   \nGDP        0.796256  0.755878  0.263779  0.649441  ...  0.254331  0.341742   \nSLG        0.566842  0.566631  0.261314  0.575835  ...  0.214874  0.255308   \nOBP        0.503413  0.470049  0.244860  0.385169  ...  0.245301  0.286016   \nE          0.535391  0.519853  0.291324  0.382102  ...  0.304685  0.359206   \nOPS        0.571506  0.556933  0.269084  0.525660  ...  0.240282  0.283267   \n\n                 BB       HBP        SO       GDP       SLG       OBP  \\\nbatter_id -0.067060 -0.024073 -0.061203 -0.013839 -0.036928 -0.033690   \nyear      -0.020457  0.005585  0.054268  0.004520  0.048796  0.059733   \navg        0.448144  0.327718  0.416041  0.402419  0.868183  0.898050   \nG          0.814841  0.640272  0.862002  0.757007  0.516975  0.486954   \nAB         0.891425  0.665467  0.888006  0.807997  0.540886  0.483047   \nR          0.895176  0.656564  0.836260  0.718449  0.556065  0.488408   \nH          0.894687  0.649509  0.848227  0.796256  0.566842  0.503413   \n2B         0.839813  0.619308  0.817390  0.755878  0.566631  0.470049   \n3B         0.436684  0.290162  0.446949  0.263779  0.261314  0.244860   \nHR         0.749476  0.597497  0.747049  0.649441  0.575835  0.385169   \nTB         0.898483  0.667794  0.866216  0.790592  0.602306  0.494824   \nRBI        0.875170  0.648594  0.839162  0.783746  0.597178  0.471904   \nSB         0.471450  0.311001  0.424365  0.254331  0.214874  0.245301   \nCS         0.536410  0.340718  0.499639  0.341742  0.255308  0.286016   \nBB         1.000000  0.616751  0.800041  0.737764  0.522548  0.510066   \nHBP        0.616751  1.000000  0.655054  0.565650  0.407157  0.379483   \nSO         0.800041  0.655054  1.000000  0.688995  0.516773  0.426553   \nGDP        0.737764  0.565650  0.688995  1.000000  0.458855  0.403134   \nSLG        0.522548  0.407157  0.516773  0.458855  1.000000  0.825292   \nOBP        0.510066  0.379483  0.426553  0.403134  0.825292  1.000000   \nE          0.456294  0.428663  0.529821  0.490384  0.280233  0.241891   \nOPS        0.546328  0.418250  0.507726  0.460984  0.971387  0.935797   \n\n                  E       OPS  \nbatter_id -0.058620 -0.039554  \nyear      -0.080026  0.054094  \navg        0.259142  0.919696  \nG          0.577912  0.534539  \nAB         0.573509  0.546879  \nR          0.508033  0.558242  \nH          0.535391  0.571506  \n2B         0.519853  0.556933  \n3B         0.291324  0.269084  \nHR         0.382102  0.525660  \nTB         0.521710  0.589841  \nRBI        0.479255  0.576652  \nSB         0.304685  0.240282  \nCS         0.359206  0.283267  \nBB         0.456294  0.546328  \nHBP        0.428663  0.418250  \nSO         0.529821  0.507726  \nGDP        0.490384  0.460984  \nSLG        0.280233  0.971387  \nOBP        0.241891  0.935797  \nE          1.000000  0.280126  \nOPS        0.280126  1.000000  \n\n[22 rows x 22 columns]",
      "text/html": "<div>\n<style scoped>\n    .dataframe tbody tr th:only-of-type {\n        vertical-align: middle;\n    }\n\n    .dataframe tbody tr th {\n        vertical-align: top;\n    }\n\n    .dataframe thead th {\n        text-align: right;\n    }\n</style>\n<table border=\"1\" class=\"dataframe\">\n  <thead>\n    <tr style=\"text-align: right;\">\n      <th></th>\n      <th>batter_id</th>\n      <th>year</th>\n      <th>avg</th>\n      <th>G</th>\n      <th>AB</th>\n      <th>R</th>\n      <th>H</th>\n      <th>2B</th>\n      <th>3B</th>\n      <th>HR</th>\n      <th>...</th>\n      <th>SB</th>\n      <th>CS</th>\n      <th>BB</th>\n      <th>HBP</th>\n      <th>SO</th>\n      <th>GDP</th>\n      <th>SLG</th>\n      <th>OBP</th>\n      <th>E</th>\n      <th>OPS</th>\n    </tr>\n  </thead>\n  <tbody>\n    <tr>\n      <th>batter_id</th>\n      <td>1.000000</td>\n      <td>-0.059060</td>\n      <td>-0.037432</td>\n      <td>-0.036249</td>\n      <td>-0.042264</td>\n      <td>-0.069169</td>\n      <td>-0.043593</td>\n      <td>-0.043471</td>\n      <td>-0.075027</td>\n      <td>-0.041416</td>\n      <td>...</td>\n      <td>-0.049258</td>\n      <td>-0.068401</td>\n      <td>-0.067060</td>\n      <td>-0.024073</td>\n      <td>-0.061203</td>\n      <td>-0.013839</td>\n      <td>-0.036928</td>\n      <td>-0.033690</td>\n      <td>-0.058620</td>\n      <td>-0.039554</td>\n    </tr>\n    <tr>\n      <th>year</th>\n      <td>-0.059060</td>\n      <td>1.000000</td>\n      <td>0.047164</td>\n      <td>-0.002804</td>\n      <td>-0.007138</td>\n      <td>0.030349</td>\n      <td>0.016305</td>\n      <td>0.020140</td>\n      <td>-0.018048</td>\n      <td>0.021358</td>\n      <td>...</td>\n      <td>-0.104432</td>\n      <td>-0.108576</td>\n      <td>-0.020457</td>\n      <td>0.005585</td>\n      <td>0.054268</td>\n      <td>0.004520</td>\n      <td>0.048796</td>\n      <td>0.059733</td>\n      <td>-0.080026</td>\n      <td>0.054094</td>\n    </tr>\n    <tr>\n      <th>avg</th>\n      <td>-0.037432</td>\n      <td>0.047164</td>\n      <td>1.000000</td>\n      <td>0.486049</td>\n      <td>0.493054</td>\n      <td>0.488481</td>\n      <td>0.521170</td>\n      <td>0.485083</td>\n      <td>0.268319</td>\n      <td>0.370007</td>\n      <td>...</td>\n      <td>0.255881</td>\n      <td>0.293852</td>\n      <td>0.448144</td>\n      <td>0.327718</td>\n      <td>0.416041</td>\n      <td>0.402419</td>\n      <td>0.868183</td>\n      <td>0.898050</td>\n      <td>0.259142</td>\n      <td>0.919696</td>\n    </tr>\n    <tr>\n      <th>G</th>\n      <td>-0.036249</td>\n      <td>-0.002804</td>\n      <td>0.486049</td>\n      <td>1.000000</td>\n      <td>0.931613</td>\n      <td>0.859570</td>\n      <td>0.892624</td>\n      <td>0.833705</td>\n      <td>0.488191</td>\n      <td>0.632064</td>\n      <td>...</td>\n      <td>0.489876</td>\n      <td>0.575591</td>\n      <td>0.814841</td>\n      <td>0.640272</td>\n      <td>0.862002</td>\n      <td>0.757007</td>\n      <td>0.516975</td>\n      <td>0.486954</td>\n      <td>0.577912</td>\n      <td>0.534539</td>\n    </tr>\n    <tr>\n      <th>AB</th>\n      <td>-0.042264</td>\n      <td>-0.007138</td>\n      <td>0.493054</td>\n      <td>0.931613</td>\n      <td>1.000000</td>\n      <td>0.946174</td>\n      <td>0.985374</td>\n      <td>0.924361</td>\n      <td>0.533750</td>\n      <td>0.728135</td>\n      <td>...</td>\n      <td>0.545551</td>\n      <td>0.617874</td>\n      <td>0.891425</td>\n      <td>0.665467</td>\n      <td>0.888006</td>\n      <td>0.807997</td>\n      <td>0.540886</td>\n      <td>0.483047</td>\n      <td>0.573509</td>\n      <td>0.546879</td>\n    </tr>\n    <tr>\n      <th>R</th>\n      <td>-0.069169</td>\n      <td>0.030349</td>\n      <td>0.488481</td>\n      <td>0.859570</td>\n      <td>0.946174</td>\n      <td>1.000000</td>\n      <td>0.961276</td>\n      <td>0.907399</td>\n      <td>0.571925</td>\n      <td>0.769227</td>\n      <td>...</td>\n      <td>0.610985</td>\n      <td>0.633020</td>\n      <td>0.895176</td>\n      <td>0.656564</td>\n      <td>0.836260</td>\n      <td>0.718449</td>\n      <td>0.556065</td>\n      <td>0.488408</td>\n      <td>0.508033</td>\n      <td>0.558242</td>\n    </tr>\n    <tr>\n      <th>H</th>\n      <td>-0.043593</td>\n      <td>0.016305</td>\n      <td>0.521170</td>\n      <td>0.892624</td>\n      <td>0.985374</td>\n      <td>0.961276</td>\n      <td>1.000000</td>\n      <td>0.939350</td>\n      <td>0.535429</td>\n      <td>0.751363</td>\n      <td>...</td>\n      <td>0.541087</td>\n      <td>0.602168</td>\n      <td>0.894687</td>\n      <td>0.649509</td>\n      <td>0.848227</td>\n      <td>0.796256</td>\n      <td>0.566842</td>\n      <td>0.503413</td>\n      <td>0.535391</td>\n      <td>0.571506</td>\n    </tr>\n    <tr>\n      <th>2B</th>\n      <td>-0.043471</td>\n      <td>0.020140</td>\n      <td>0.485083</td>\n      <td>0.833705</td>\n      <td>0.924361</td>\n      <td>0.907399</td>\n      <td>0.939350</td>\n      <td>1.000000</td>\n      <td>0.468033</td>\n      <td>0.746644</td>\n      <td>...</td>\n      <td>0.453971</td>\n      <td>0.519506</td>\n      <td>0.839813</td>\n      <td>0.619308</td>\n      <td>0.817390</td>\n      <td>0.755878</td>\n      <td>0.566631</td>\n      <td>0.470049</td>\n      <td>0.519853</td>\n      <td>0.556933</td>\n    </tr>\n    <tr>\n      <th>3B</th>\n      <td>-0.075027</td>\n      <td>-0.018048</td>\n      <td>0.268319</td>\n      <td>0.488191</td>\n      <td>0.533750</td>\n      <td>0.571925</td>\n      <td>0.535429</td>\n      <td>0.468033</td>\n      <td>1.000000</td>\n      <td>0.205052</td>\n      <td>...</td>\n      <td>0.608751</td>\n      <td>0.588569</td>\n      <td>0.436684</td>\n      <td>0.290162</td>\n      <td>0.446949</td>\n      <td>0.263779</td>\n      <td>0.261314</td>\n      <td>0.244860</td>\n      <td>0.291324</td>\n      <td>0.269084</td>\n    </tr>\n    <tr>\n      <th>HR</th>\n      <td>-0.041416</td>\n      <td>0.021358</td>\n      <td>0.370007</td>\n      <td>0.632064</td>\n      <td>0.728135</td>\n      <td>0.769227</td>\n      <td>0.751363</td>\n      <td>0.746644</td>\n      <td>0.205052</td>\n      <td>1.000000</td>\n      <td>...</td>\n      <td>0.208335</td>\n      <td>0.263538</td>\n      <td>0.749476</td>\n      <td>0.597497</td>\n      <td>0.747049</td>\n      <td>0.649441</td>\n      <td>0.575835</td>\n      <td>0.385169</td>\n      <td>0.382102</td>\n      <td>0.525660</td>\n    </tr>\n    <tr>\n      <th>TB</th>\n      <td>-0.047636</td>\n      <td>0.018143</td>\n      <td>0.504359</td>\n      <td>0.864536</td>\n      <td>0.963435</td>\n      <td>0.959621</td>\n      <td>0.981231</td>\n      <td>0.946162</td>\n      <td>0.492521</td>\n      <td>0.860253</td>\n      <td>...</td>\n      <td>0.479807</td>\n      <td>0.541304</td>\n      <td>0.898483</td>\n      <td>0.667794</td>\n      <td>0.866216</td>\n      <td>0.790592</td>\n      <td>0.602306</td>\n      <td>0.494824</td>\n      <td>0.521710</td>\n      <td>0.589841</td>\n    </tr>\n    <tr>\n      <th>RBI</th>\n      <td>-0.040569</td>\n      <td>0.040815</td>\n      <td>0.470017</td>\n      <td>0.811566</td>\n      <td>0.903959</td>\n      <td>0.898818</td>\n      <td>0.923177</td>\n      <td>0.898658</td>\n      <td>0.391154</td>\n      <td>0.902863</td>\n      <td>...</td>\n      <td>0.356788</td>\n      <td>0.423604</td>\n      <td>0.875170</td>\n      <td>0.648594</td>\n      <td>0.839162</td>\n      <td>0.783746</td>\n      <td>0.597178</td>\n      <td>0.471904</td>\n      <td>0.479255</td>\n      <td>0.576652</td>\n    </tr>\n    <tr>\n      <th>SB</th>\n      <td>-0.049258</td>\n      <td>-0.104432</td>\n      <td>0.255881</td>\n      <td>0.489876</td>\n      <td>0.545551</td>\n      <td>0.610985</td>\n      <td>0.541087</td>\n      <td>0.453971</td>\n      <td>0.608751</td>\n      <td>0.208335</td>\n      <td>...</td>\n      <td>1.000000</td>\n      <td>0.795938</td>\n      <td>0.471450</td>\n      <td>0.311001</td>\n      <td>0.424365</td>\n      <td>0.254331</td>\n      <td>0.214874</td>\n      <td>0.245301</td>\n      <td>0.304685</td>\n      <td>0.240282</td>\n    </tr>\n    <tr>\n      <th>CS</th>\n      <td>-0.068401</td>\n      <td>-0.108576</td>\n      <td>0.293852</td>\n      <td>0.575591</td>\n      <td>0.617874</td>\n      <td>0.633020</td>\n      <td>0.602168</td>\n      <td>0.519506</td>\n      <td>0.588569</td>\n      <td>0.263538</td>\n      <td>...</td>\n      <td>0.795938</td>\n      <td>1.000000</td>\n      <td>0.536410</td>\n      <td>0.340718</td>\n      <td>0.499639</td>\n      <td>0.341742</td>\n      <td>0.255308</td>\n      <td>0.286016</td>\n      <td>0.359206</td>\n      <td>0.283267</td>\n    </tr>\n    <tr>\n      <th>BB</th>\n      <td>-0.067060</td>\n      <td>-0.020457</td>\n      <td>0.448144</td>\n      <td>0.814841</td>\n      <td>0.891425</td>\n      <td>0.895176</td>\n      <td>0.894687</td>\n      <td>0.839813</td>\n      <td>0.436684</td>\n      <td>0.749476</td>\n      <td>...</td>\n      <td>0.471450</td>\n      <td>0.536410</td>\n      <td>1.000000</td>\n      <td>0.616751</td>\n      <td>0.800041</td>\n      <td>0.737764</td>\n      <td>0.522548</td>\n      <td>0.510066</td>\n      <td>0.456294</td>\n      <td>0.546328</td>\n    </tr>\n    <tr>\n      <th>HBP</th>\n      <td>-0.024073</td>\n      <td>0.005585</td>\n      <td>0.327718</td>\n      <td>0.640272</td>\n      <td>0.665467</td>\n      <td>0.656564</td>\n      <td>0.649509</td>\n      <td>0.619308</td>\n      <td>0.290162</td>\n      <td>0.597497</td>\n      <td>...</td>\n      <td>0.311001</td>\n      <td>0.340718</td>\n      <td>0.616751</td>\n      <td>1.000000</td>\n      <td>0.655054</td>\n      <td>0.565650</td>\n      <td>0.407157</td>\n      <td>0.379483</td>\n      <td>0.428663</td>\n      <td>0.418250</td>\n    </tr>\n    <tr>\n      <th>SO</th>\n      <td>-0.061203</td>\n      <td>0.054268</td>\n      <td>0.416041</td>\n      <td>0.862002</td>\n      <td>0.888006</td>\n      <td>0.836260</td>\n      <td>0.848227</td>\n      <td>0.817390</td>\n      <td>0.446949</td>\n      <td>0.747049</td>\n      <td>...</td>\n      <td>0.424365</td>\n      <td>0.499639</td>\n      <td>0.800041</td>\n      <td>0.655054</td>\n      <td>1.000000</td>\n      <td>0.688995</td>\n      <td>0.516773</td>\n      <td>0.426553</td>\n      <td>0.529821</td>\n      <td>0.507726</td>\n    </tr>\n    <tr>\n      <th>GDP</th>\n      <td>-0.013839</td>\n      <td>0.004520</td>\n      <td>0.402419</td>\n      <td>0.757007</td>\n      <td>0.807997</td>\n      <td>0.718449</td>\n      <td>0.796256</td>\n      <td>0.755878</td>\n      <td>0.263779</td>\n      <td>0.649441</td>\n      <td>...</td>\n      <td>0.254331</td>\n      <td>0.341742</td>\n      <td>0.737764</td>\n      <td>0.565650</td>\n      <td>0.688995</td>\n      <td>1.000000</td>\n      <td>0.458855</td>\n      <td>0.403134</td>\n      <td>0.490384</td>\n      <td>0.460984</td>\n    </tr>\n    <tr>\n      <th>SLG</th>\n      <td>-0.036928</td>\n      <td>0.048796</td>\n      <td>0.868183</td>\n      <td>0.516975</td>\n      <td>0.540886</td>\n      <td>0.556065</td>\n      <td>0.566842</td>\n      <td>0.566631</td>\n      <td>0.261314</td>\n      <td>0.575835</td>\n      <td>...</td>\n      <td>0.214874</td>\n      <td>0.255308</td>\n      <td>0.522548</td>\n      <td>0.407157</td>\n      <td>0.516773</td>\n      <td>0.458855</td>\n      <td>1.000000</td>\n      <td>0.825292</td>\n      <td>0.280233</td>\n      <td>0.971387</td>\n    </tr>\n    <tr>\n      <th>OBP</th>\n      <td>-0.033690</td>\n      <td>0.059733</td>\n      <td>0.898050</td>\n      <td>0.486954</td>\n      <td>0.483047</td>\n      <td>0.488408</td>\n      <td>0.503413</td>\n      <td>0.470049</td>\n      <td>0.244860</td>\n      <td>0.385169</td>\n      <td>...</td>\n      <td>0.245301</td>\n      <td>0.286016</td>\n      <td>0.510066</td>\n      <td>0.379483</td>\n      <td>0.426553</td>\n      <td>0.403134</td>\n      <td>0.825292</td>\n      <td>1.000000</td>\n      <td>0.241891</td>\n      <td>0.935797</td>\n    </tr>\n    <tr>\n      <th>E</th>\n      <td>-0.058620</td>\n      <td>-0.080026</td>\n      <td>0.259142</td>\n      <td>0.577912</td>\n      <td>0.573509</td>\n      <td>0.508033</td>\n      <td>0.535391</td>\n      <td>0.519853</td>\n      <td>0.291324</td>\n      <td>0.382102</td>\n      <td>...</td>\n      <td>0.304685</td>\n      <td>0.359206</td>\n      <td>0.456294</td>\n      <td>0.428663</td>\n      <td>0.529821</td>\n      <td>0.490384</td>\n      <td>0.280233</td>\n      <td>0.241891</td>\n      <td>1.000000</td>\n      <td>0.280126</td>\n    </tr>\n    <tr>\n      <th>OPS</th>\n      <td>-0.039554</td>\n      <td>0.054094</td>\n      <td>0.919696</td>\n      <td>0.534539</td>\n      <td>0.546879</td>\n      <td>0.558242</td>\n      <td>0.571506</td>\n      <td>0.556933</td>\n      <td>0.269084</td>\n      <td>0.525660</td>\n      <td>...</td>\n      <td>0.240282</td>\n      <td>0.283267</td>\n      <td>0.546328</td>\n      <td>0.418250</td>\n      <td>0.507726</td>\n      <td>0.460984</td>\n      <td>0.971387</td>\n      <td>0.935797</td>\n      <td>0.280126</td>\n      <td>1.000000</td>\n    </tr>\n  </tbody>\n</table>\n<p>22 rows × 22 columns</p>\n</div>"
     },
     "execution_count": 88,
     "metadata": {},
     "output_type": "execute_result"
    }
   ],
   "source": [
    "regular_season.corr()"
   ],
   "metadata": {
    "collapsed": false,
    "pycharm": {
     "name": "#%%\n"
    }
   }
  },
  {
   "cell_type": "markdown",
   "source": [
    "# 2장 시작|"
   ],
   "metadata": {
    "collapsed": false
   }
  },
  {
   "cell_type": "code",
   "execution_count": 89,
   "outputs": [],
   "source": [
    "regular_season = pd.read_csv('../data/Regular_Season_Batter.csv')"
   ],
   "metadata": {
    "collapsed": false,
    "pycharm": {
     "name": "#%%\n"
    }
   }
  },
  {
   "cell_type": "code",
   "execution_count": 90,
   "outputs": [
    {
     "data": {
      "text/plain": "      batter_id batter_name  year team    avg    G   AB   R   H  2B  ...  GDP  \\\n0             0        가르시아  2018   LG  0.339   50  183  27  62   9  ...    3   \n1             1         강경학  2011   한화  0.000    2    1   0   0   0  ...    0   \n2             1         강경학  2014   한화  0.221   41   86  11  19   2  ...    1   \n3             1         강경학  2015   한화  0.257  120  311  50  80   7  ...    3   \n4             1         강경학  2016   한화  0.158   46  101  16  16   3  ...    5   \n...         ...         ...   ...  ...    ...  ...  ...  ..  ..  ..  ...  ...   \n2449        344         황진수  2014   롯데  0.000    5    5   0   0   0  ...    0   \n2450        344         황진수  2015   롯데  0.000    2    2   0   0   0  ...    0   \n2451        344         황진수  2016   롯데  0.000   11   10   2   0   0  ...    0   \n2452        344         황진수  2017   롯데  0.291   60  117  18  34   6  ...    2   \n2453        344         황진수  2018   롯데  0.167   18   24   6   4   1  ...    0   \n\n        SLG    OBP   E  height/weight      year_born   position  \\\n0     0.519  0.383   9     177cm/93kg  1985년 04월 12일  내야수(우투우타)   \n1     0.000  0.000   1     180cm/72kg  1992년 08월 11일  내야수(우투좌타)   \n2     0.349  0.337   6     180cm/72kg  1992년 08월 11일  내야수(우투좌타)   \n3     0.325  0.348  15     180cm/72kg  1992년 08월 11일  내야수(우투좌타)   \n4     0.257  0.232   7     180cm/72kg  1992년 08월 11일  내야수(우투좌타)   \n...     ...    ...  ..            ...            ...        ...   \n2449  0.000  0.000   0     181cm/82kg  1989년 02월 15일  내야수(우투양타)   \n2450  0.000  0.000   0     181cm/82kg  1989년 02월 15일  내야수(우투양타)   \n2451  0.000  0.000   0     181cm/82kg  1989년 02월 15일  내야수(우투양타)   \n2452  0.402  0.359   4     181cm/82kg  1989년 02월 15일  내야수(우투양타)   \n2453  0.333  0.231   3     181cm/82kg  1989년 02월 15일  내야수(우투양타)   \n\n                                      career  starting_salary    OPS  \n0     쿠바 Ciego de Avila Maximo Gomez Baez(대)              NaN  0.902  \n1                          광주대성초-광주동성중-광주동성고          10000만원  0.000  \n2                          광주대성초-광주동성중-광주동성고          10000만원  0.686  \n3                          광주대성초-광주동성중-광주동성고          10000만원  0.673  \n4                          광주대성초-광주동성중-광주동성고          10000만원  0.489  \n...                                      ...              ...    ...  \n2449                             석천초-대헌중-공주고           4000만원  0.000  \n2450                             석천초-대헌중-공주고           4000만원  0.000  \n2451                             석천초-대헌중-공주고           4000만원  0.000  \n2452                             석천초-대헌중-공주고           4000만원  0.761  \n2453                             석천초-대헌중-공주고           4000만원  0.564  \n\n[2454 rows x 29 columns]",
      "text/html": "<div>\n<style scoped>\n    .dataframe tbody tr th:only-of-type {\n        vertical-align: middle;\n    }\n\n    .dataframe tbody tr th {\n        vertical-align: top;\n    }\n\n    .dataframe thead th {\n        text-align: right;\n    }\n</style>\n<table border=\"1\" class=\"dataframe\">\n  <thead>\n    <tr style=\"text-align: right;\">\n      <th></th>\n      <th>batter_id</th>\n      <th>batter_name</th>\n      <th>year</th>\n      <th>team</th>\n      <th>avg</th>\n      <th>G</th>\n      <th>AB</th>\n      <th>R</th>\n      <th>H</th>\n      <th>2B</th>\n      <th>...</th>\n      <th>GDP</th>\n      <th>SLG</th>\n      <th>OBP</th>\n      <th>E</th>\n      <th>height/weight</th>\n      <th>year_born</th>\n      <th>position</th>\n      <th>career</th>\n      <th>starting_salary</th>\n      <th>OPS</th>\n    </tr>\n  </thead>\n  <tbody>\n    <tr>\n      <th>0</th>\n      <td>0</td>\n      <td>가르시아</td>\n      <td>2018</td>\n      <td>LG</td>\n      <td>0.339</td>\n      <td>50</td>\n      <td>183</td>\n      <td>27</td>\n      <td>62</td>\n      <td>9</td>\n      <td>...</td>\n      <td>3</td>\n      <td>0.519</td>\n      <td>0.383</td>\n      <td>9</td>\n      <td>177cm/93kg</td>\n      <td>1985년 04월 12일</td>\n      <td>내야수(우투우타)</td>\n      <td>쿠바 Ciego de Avila Maximo Gomez Baez(대)</td>\n      <td>NaN</td>\n      <td>0.902</td>\n    </tr>\n    <tr>\n      <th>1</th>\n      <td>1</td>\n      <td>강경학</td>\n      <td>2011</td>\n      <td>한화</td>\n      <td>0.000</td>\n      <td>2</td>\n      <td>1</td>\n      <td>0</td>\n      <td>0</td>\n      <td>0</td>\n      <td>...</td>\n      <td>0</td>\n      <td>0.000</td>\n      <td>0.000</td>\n      <td>1</td>\n      <td>180cm/72kg</td>\n      <td>1992년 08월 11일</td>\n      <td>내야수(우투좌타)</td>\n      <td>광주대성초-광주동성중-광주동성고</td>\n      <td>10000만원</td>\n      <td>0.000</td>\n    </tr>\n    <tr>\n      <th>2</th>\n      <td>1</td>\n      <td>강경학</td>\n      <td>2014</td>\n      <td>한화</td>\n      <td>0.221</td>\n      <td>41</td>\n      <td>86</td>\n      <td>11</td>\n      <td>19</td>\n      <td>2</td>\n      <td>...</td>\n      <td>1</td>\n      <td>0.349</td>\n      <td>0.337</td>\n      <td>6</td>\n      <td>180cm/72kg</td>\n      <td>1992년 08월 11일</td>\n      <td>내야수(우투좌타)</td>\n      <td>광주대성초-광주동성중-광주동성고</td>\n      <td>10000만원</td>\n      <td>0.686</td>\n    </tr>\n    <tr>\n      <th>3</th>\n      <td>1</td>\n      <td>강경학</td>\n      <td>2015</td>\n      <td>한화</td>\n      <td>0.257</td>\n      <td>120</td>\n      <td>311</td>\n      <td>50</td>\n      <td>80</td>\n      <td>7</td>\n      <td>...</td>\n      <td>3</td>\n      <td>0.325</td>\n      <td>0.348</td>\n      <td>15</td>\n      <td>180cm/72kg</td>\n      <td>1992년 08월 11일</td>\n      <td>내야수(우투좌타)</td>\n      <td>광주대성초-광주동성중-광주동성고</td>\n      <td>10000만원</td>\n      <td>0.673</td>\n    </tr>\n    <tr>\n      <th>4</th>\n      <td>1</td>\n      <td>강경학</td>\n      <td>2016</td>\n      <td>한화</td>\n      <td>0.158</td>\n      <td>46</td>\n      <td>101</td>\n      <td>16</td>\n      <td>16</td>\n      <td>3</td>\n      <td>...</td>\n      <td>5</td>\n      <td>0.257</td>\n      <td>0.232</td>\n      <td>7</td>\n      <td>180cm/72kg</td>\n      <td>1992년 08월 11일</td>\n      <td>내야수(우투좌타)</td>\n      <td>광주대성초-광주동성중-광주동성고</td>\n      <td>10000만원</td>\n      <td>0.489</td>\n    </tr>\n    <tr>\n      <th>...</th>\n      <td>...</td>\n      <td>...</td>\n      <td>...</td>\n      <td>...</td>\n      <td>...</td>\n      <td>...</td>\n      <td>...</td>\n      <td>...</td>\n      <td>...</td>\n      <td>...</td>\n      <td>...</td>\n      <td>...</td>\n      <td>...</td>\n      <td>...</td>\n      <td>...</td>\n      <td>...</td>\n      <td>...</td>\n      <td>...</td>\n      <td>...</td>\n      <td>...</td>\n      <td>...</td>\n    </tr>\n    <tr>\n      <th>2449</th>\n      <td>344</td>\n      <td>황진수</td>\n      <td>2014</td>\n      <td>롯데</td>\n      <td>0.000</td>\n      <td>5</td>\n      <td>5</td>\n      <td>0</td>\n      <td>0</td>\n      <td>0</td>\n      <td>...</td>\n      <td>0</td>\n      <td>0.000</td>\n      <td>0.000</td>\n      <td>0</td>\n      <td>181cm/82kg</td>\n      <td>1989년 02월 15일</td>\n      <td>내야수(우투양타)</td>\n      <td>석천초-대헌중-공주고</td>\n      <td>4000만원</td>\n      <td>0.000</td>\n    </tr>\n    <tr>\n      <th>2450</th>\n      <td>344</td>\n      <td>황진수</td>\n      <td>2015</td>\n      <td>롯데</td>\n      <td>0.000</td>\n      <td>2</td>\n      <td>2</td>\n      <td>0</td>\n      <td>0</td>\n      <td>0</td>\n      <td>...</td>\n      <td>0</td>\n      <td>0.000</td>\n      <td>0.000</td>\n      <td>0</td>\n      <td>181cm/82kg</td>\n      <td>1989년 02월 15일</td>\n      <td>내야수(우투양타)</td>\n      <td>석천초-대헌중-공주고</td>\n      <td>4000만원</td>\n      <td>0.000</td>\n    </tr>\n    <tr>\n      <th>2451</th>\n      <td>344</td>\n      <td>황진수</td>\n      <td>2016</td>\n      <td>롯데</td>\n      <td>0.000</td>\n      <td>11</td>\n      <td>10</td>\n      <td>2</td>\n      <td>0</td>\n      <td>0</td>\n      <td>...</td>\n      <td>0</td>\n      <td>0.000</td>\n      <td>0.000</td>\n      <td>0</td>\n      <td>181cm/82kg</td>\n      <td>1989년 02월 15일</td>\n      <td>내야수(우투양타)</td>\n      <td>석천초-대헌중-공주고</td>\n      <td>4000만원</td>\n      <td>0.000</td>\n    </tr>\n    <tr>\n      <th>2452</th>\n      <td>344</td>\n      <td>황진수</td>\n      <td>2017</td>\n      <td>롯데</td>\n      <td>0.291</td>\n      <td>60</td>\n      <td>117</td>\n      <td>18</td>\n      <td>34</td>\n      <td>6</td>\n      <td>...</td>\n      <td>2</td>\n      <td>0.402</td>\n      <td>0.359</td>\n      <td>4</td>\n      <td>181cm/82kg</td>\n      <td>1989년 02월 15일</td>\n      <td>내야수(우투양타)</td>\n      <td>석천초-대헌중-공주고</td>\n      <td>4000만원</td>\n      <td>0.761</td>\n    </tr>\n    <tr>\n      <th>2453</th>\n      <td>344</td>\n      <td>황진수</td>\n      <td>2018</td>\n      <td>롯데</td>\n      <td>0.167</td>\n      <td>18</td>\n      <td>24</td>\n      <td>6</td>\n      <td>4</td>\n      <td>1</td>\n      <td>...</td>\n      <td>0</td>\n      <td>0.333</td>\n      <td>0.231</td>\n      <td>3</td>\n      <td>181cm/82kg</td>\n      <td>1989년 02월 15일</td>\n      <td>내야수(우투양타)</td>\n      <td>석천초-대헌중-공주고</td>\n      <td>4000만원</td>\n      <td>0.564</td>\n    </tr>\n  </tbody>\n</table>\n<p>2454 rows × 29 columns</p>\n</div>"
     },
     "execution_count": 90,
     "metadata": {},
     "output_type": "execute_result"
    }
   ],
   "source": [
    "regular_season"
   ],
   "metadata": {
    "collapsed": false,
    "pycharm": {
     "name": "#%%\n"
    }
   }
  },
  {
   "cell_type": "code",
   "execution_count": 91,
   "outputs": [
    {
     "name": "stdout",
     "output_type": "stream",
     "text": [
      "(2454, 29) \n",
      "          batter_id         year          avg            G           AB  \\\n",
      "count  2454.000000  2454.000000  2428.000000  2454.000000  2454.000000   \n",
      "mean    178.079462  2011.614507     0.237559    72.535045   201.514670   \n",
      "std      97.557947     4.992833     0.098440    45.093871   169.537029   \n",
      "min       0.000000  1993.000000     0.000000     1.000000     0.000000   \n",
      "25%     101.250000  2008.000000     0.203000    28.000000    38.250000   \n",
      "50%     183.000000  2013.000000     0.255000    79.000000   163.000000   \n",
      "75%     265.000000  2016.000000     0.291000   115.000000   357.500000   \n",
      "max     344.000000  2018.000000     1.000000   144.000000   600.000000   \n",
      "\n",
      "                 R            H           2B           3B           HR  ...  \\\n",
      "count  2454.000000  2454.000000  2454.000000  2454.000000  2454.000000  ...   \n",
      "mean     29.912388    55.988183     9.863488     0.957620     5.504075  ...   \n",
      "std      28.778759    52.253844     9.871314     1.647193     7.989380  ...   \n",
      "min       0.000000     0.000000     0.000000     0.000000     0.000000  ...   \n",
      "25%       5.000000     8.000000     1.000000     0.000000     0.000000  ...   \n",
      "50%      21.000000    40.000000     7.000000     0.000000     2.000000  ...   \n",
      "75%      49.000000   100.000000    16.000000     1.000000     8.000000  ...   \n",
      "max     135.000000   201.000000    47.000000    17.000000    53.000000  ...   \n",
      "\n",
      "                SB           CS           BB          HBP           SO  \\\n",
      "count  2454.000000  2454.000000  2454.000000  2454.000000  2454.000000   \n",
      "mean      5.290139     2.335778    20.943765     3.424613    38.596985   \n",
      "std       9.088580     3.194045    21.206113     4.132614    31.801466   \n",
      "min       0.000000     0.000000     0.000000     0.000000     0.000000   \n",
      "25%       0.000000     0.000000     3.000000     0.000000    10.000000   \n",
      "50%       2.000000     1.000000    14.000000     2.000000    33.000000   \n",
      "75%       6.000000     3.000000    34.000000     5.000000    60.000000   \n",
      "max      84.000000    21.000000   108.000000    27.000000   161.000000   \n",
      "\n",
      "               GDP          SLG          OBP            E          OPS  \n",
      "count  2454.000000  2428.000000  2430.000000  2454.000000  2428.000000  \n",
      "mean      4.603504     0.343826     0.306684     3.676447     0.649939  \n",
      "std       4.713531     0.163335     0.111778     4.585248     0.261634  \n",
      "min       0.000000     0.000000     0.000000     0.000000     0.000000  \n",
      "25%       1.000000     0.267454     0.272727     0.000000     0.546000  \n",
      "50%       3.000000     0.360124     0.328592     2.000000     0.688637  \n",
      "75%       7.000000     0.436000     0.367000     5.000000     0.797234  \n",
      "max      24.000000     3.000000     1.000000    30.000000     4.000000  \n",
      "\n",
      "[8 rows x 22 columns]\n"
     ]
    }
   ],
   "source": [
    "print(regular_season.shape, '\\n'\n",
    "      ,regular_season.describe())"
   ],
   "metadata": {
    "collapsed": false,
    "pycharm": {
     "name": "#%%\n"
    }
   }
  },
  {
   "cell_type": "code",
   "execution_count": 92,
   "outputs": [
    {
     "data": {
      "text/plain": "<Figure size 720x648 with 25 Axes>",
      "image/png": "[encoded data removed]"
     },
     "metadata": {
      "needs_background": "light"
     },
     "output_type": "display_data"
    }
   ],
   "source": [
    "regular_season.hist(figsize=(10, 9))\n",
    "plt.tight_layout()\n",
    "plt.show()"
   ],
   "metadata": {
    "collapsed": false,
    "pycharm": {
     "name": "#%%\n"
    }
   }
  },
  {
   "cell_type": "code",
   "execution_count": 93,
   "outputs": [
    {
     "data": {
      "text/plain": "<Figure size 1080x432 with 2 Axes>",
      "image/png": "[encoded data removed]"
     },
     "metadata": {
      "needs_background": "light"
     },
     "output_type": "display_data"
    }
   ],
   "source": [
    "plt.figure(figsize=(15,6))\n",
    "plt.subplot(1,2,1)\n",
    "g = sns.boxplot(x=\"year\", y = \"OPS\", data = regular_season, showfliers=False)\n",
    "g.set_xticklabels(g.get_xticklabels(), rotation=90)\n",
    "plt.subplot(1, 2, 2)\n",
    "plt.plot(regular_season.groupby('year')['OPS'].median())\n",
    "plt.title(\"OPS middle values\", size = 20)\n",
    "plt.show()"
   ],
   "metadata": {
    "collapsed": false,
    "pycharm": {
     "name": "#%%\n"
    }
   }
  },
  {
   "cell_type": "code",
   "execution_count": 94,
   "outputs": [
    {
     "data": {
      "text/plain": "year   1993  1994  1995  1996  1997  1998  1999  2000  2001  2002  ...  2009  \\\ncol_0                                                              ...         \ncount     1     2     1     7     8    10    14    20    32    43  ...   124   \n\nyear   2010  2011  2012  2013  2014  2015  2016  2017  2018  \ncol_0                                                        \ncount   130   151   174   194   186   207   213   217   227  \n\n[1 rows x 26 columns]",
      "text/html": "<div>\n<style scoped>\n    .dataframe tbody tr th:only-of-type {\n        vertical-align: middle;\n    }\n\n    .dataframe tbody tr th {\n        vertical-align: top;\n    }\n\n    .dataframe thead th {\n        text-align: right;\n    }\n</style>\n<table border=\"1\" class=\"dataframe\">\n  <thead>\n    <tr style=\"text-align: right;\">\n      <th>year</th>\n      <th>1993</th>\n      <th>1994</th>\n      <th>1995</th>\n      <th>1996</th>\n      <th>1997</th>\n      <th>1998</th>\n      <th>1999</th>\n      <th>2000</th>\n      <th>2001</th>\n      <th>2002</th>\n      <th>...</th>\n      <th>2009</th>\n      <th>2010</th>\n      <th>2011</th>\n      <th>2012</th>\n      <th>2013</th>\n      <th>2014</th>\n      <th>2015</th>\n      <th>2016</th>\n      <th>2017</th>\n      <th>2018</th>\n    </tr>\n    <tr>\n      <th>col_0</th>\n      <th></th>\n      <th></th>\n      <th></th>\n      <th></th>\n      <th></th>\n      <th></th>\n      <th></th>\n      <th></th>\n      <th></th>\n      <th></th>\n      <th></th>\n      <th></th>\n      <th></th>\n      <th></th>\n      <th></th>\n      <th></th>\n      <th></th>\n      <th></th>\n      <th></th>\n      <th></th>\n      <th></th>\n    </tr>\n  </thead>\n  <tbody>\n    <tr>\n      <th>count</th>\n      <td>1</td>\n      <td>2</td>\n      <td>1</td>\n      <td>7</td>\n      <td>8</td>\n      <td>10</td>\n      <td>14</td>\n      <td>20</td>\n      <td>32</td>\n      <td>43</td>\n      <td>...</td>\n      <td>124</td>\n      <td>130</td>\n      <td>151</td>\n      <td>174</td>\n      <td>194</td>\n      <td>186</td>\n      <td>207</td>\n      <td>213</td>\n      <td>217</td>\n      <td>227</td>\n    </tr>\n  </tbody>\n</table>\n<p>1 rows × 26 columns</p>\n</div>"
     },
     "execution_count": 94,
     "metadata": {},
     "output_type": "execute_result"
    }
   ],
   "source": [
    "#데이터 베이스 행과렬 변경하는것 즉 전치 행렬과 비슷한 개념??\n",
    "pd.crosstab(index = regular_season['year'], columns ='count').T"
   ],
   "metadata": {
    "collapsed": false,
    "pycharm": {
     "name": "#%%\n"
    }
   }
  },
  {
   "cell_type": "code",
   "execution_count": 95,
   "outputs": [
    {
     "data": {
      "text/plain": "      batter_id batter_name  year team    avg    G   AB    R    H  2B  ...  \\\n1322        228         이종범  1994   해태  0.393  124  499  113  196  27  ...   \n2196        304         최동수  1994   LG  0.000    1    1    0    0   0  ...   \n\n      GDP       SLG       OBP   E  height/weight      year_born  position  \\\n1322    2  0.581162  0.455036  27            NaN  1970년 08월 15일       NaN   \n2196    0  0.000000  0.000000   0            NaN  1971년 09월 11일       NaN   \n\n                        career  starting_salary       OPS  \n1322  서림초-충장중-광주제일고-건국대-해태-KIA              NaN  1.036198  \n2196  봉천초-강남중-광영고-중앙대-LG-SK-LG              NaN  0.000000  \n\n[2 rows x 29 columns]",
      "text/html": "<div>\n<style scoped>\n    .dataframe tbody tr th:only-of-type {\n        vertical-align: middle;\n    }\n\n    .dataframe tbody tr th {\n        vertical-align: top;\n    }\n\n    .dataframe thead th {\n        text-align: right;\n    }\n</style>\n<table border=\"1\" class=\"dataframe\">\n  <thead>\n    <tr style=\"text-align: right;\">\n      <th></th>\n      <th>batter_id</th>\n      <th>batter_name</th>\n      <th>year</th>\n      <th>team</th>\n      <th>avg</th>\n      <th>G</th>\n      <th>AB</th>\n      <th>R</th>\n      <th>H</th>\n      <th>2B</th>\n      <th>...</th>\n      <th>GDP</th>\n      <th>SLG</th>\n      <th>OBP</th>\n      <th>E</th>\n      <th>height/weight</th>\n      <th>year_born</th>\n      <th>position</th>\n      <th>career</th>\n      <th>starting_salary</th>\n      <th>OPS</th>\n    </tr>\n  </thead>\n  <tbody>\n    <tr>\n      <th>1322</th>\n      <td>228</td>\n      <td>이종범</td>\n      <td>1994</td>\n      <td>해태</td>\n      <td>0.393</td>\n      <td>124</td>\n      <td>499</td>\n      <td>113</td>\n      <td>196</td>\n      <td>27</td>\n      <td>...</td>\n      <td>2</td>\n      <td>0.581162</td>\n      <td>0.455036</td>\n      <td>27</td>\n      <td>NaN</td>\n      <td>1970년 08월 15일</td>\n      <td>NaN</td>\n      <td>서림초-충장중-광주제일고-건국대-해태-KIA</td>\n      <td>NaN</td>\n      <td>1.036198</td>\n    </tr>\n    <tr>\n      <th>2196</th>\n      <td>304</td>\n      <td>최동수</td>\n      <td>1994</td>\n      <td>LG</td>\n      <td>0.000</td>\n      <td>1</td>\n      <td>1</td>\n      <td>0</td>\n      <td>0</td>\n      <td>0</td>\n      <td>...</td>\n      <td>0</td>\n      <td>0.000000</td>\n      <td>0.000000</td>\n      <td>0</td>\n      <td>NaN</td>\n      <td>1971년 09월 11일</td>\n      <td>NaN</td>\n      <td>봉천초-강남중-광영고-중앙대-LG-SK-LG</td>\n      <td>NaN</td>\n      <td>0.000000</td>\n    </tr>\n  </tbody>\n</table>\n<p>2 rows × 29 columns</p>\n</div>"
     },
     "execution_count": 95,
     "metadata": {},
     "output_type": "execute_result"
    }
   ],
   "source": [
    "#regular_season.loc[regular_season['year'] == 1993]\n",
    "regular_season.loc[regular_season['year'] == 1994]"
   ],
   "metadata": {
    "collapsed": false,
    "pycharm": {
     "name": "#%%\n"
    }
   }
  },
  {
   "cell_type": "code",
   "execution_count": 96,
   "outputs": [],
   "source": [
    "med_OPS_team = pd.pivot_table(regular_season, index = 'team', columns='year', values='OPS', aggfunc='median')\n",
    "\n",
    "team_index = med_OPS_team.loc[:, 2005 :].isna().sum(axis=1) <= 0"
   ],
   "metadata": {
    "collapsed": false,
    "pycharm": {
     "name": "#%%\n"
    }
   }
  },
  {
   "cell_type": "code",
   "execution_count": 97,
   "outputs": [
    {
     "data": {
      "text/plain": "team\nKIA      True\nKT      False\nLG       True\nNC      False\nOB      False\nSK       True\n넥센      False\n두산       True\n롯데       True\n삼성       True\n쌍방울     False\n우리      False\n한화       True\n해태      False\n현대      False\n히어로즈    False\ndtype: bool"
     },
     "execution_count": 97,
     "metadata": {},
     "output_type": "execute_result"
    }
   ],
   "source": [
    "team_index"
   ],
   "metadata": {
    "collapsed": false,
    "pycharm": {
     "name": "#%%\n"
    }
   }
  },
  {
   "cell_type": "code",
   "execution_count": 98,
   "outputs": [
    {
     "data": {
      "text/plain": "year      1993      1994      1995      1996      1997      1998      1999  \\\nteam                                                                         \nKIA        NaN       NaN       NaN       NaN       NaN       NaN       NaN   \nKT         NaN       NaN       NaN       NaN       NaN       NaN       NaN   \nLG         NaN  0.000000       NaN  0.476212  0.679836  0.509843  0.637173   \nNC         NaN       NaN       NaN       NaN       NaN       NaN       NaN   \nOB         NaN       NaN       NaN       NaN  0.615797  0.727667       NaN   \nSK         NaN       NaN       NaN       NaN       NaN       NaN       NaN   \n넥센         NaN       NaN       NaN       NaN       NaN       NaN       NaN   \n두산         NaN       NaN       NaN       NaN       NaN       NaN  0.853830   \n롯데         NaN       NaN       NaN       NaN       NaN       NaN  1.124961   \n삼성         NaN       NaN       NaN       NaN       NaN       NaN  0.575549   \n쌍방울        NaN       NaN       NaN       NaN       NaN       NaN  0.000000   \n우리         NaN       NaN       NaN       NaN       NaN       NaN       NaN   \n한화         NaN       NaN       NaN  0.890260  0.768116  0.456915  0.512775   \n해태    0.764912  1.036198  0.987261  0.781758  0.836358  0.844605  0.492506   \n현대         NaN       NaN       NaN  0.833385  0.783934  0.547971  0.794743   \n히어로즈       NaN       NaN       NaN       NaN       NaN       NaN       NaN   \n\nyear      2000      2001      2002  ...      2009      2010      2011  \\\nteam                                ...                                 \nKIA        NaN  0.849337  0.829906  ...  0.707000  0.725000  0.680963   \nKT         NaN       NaN       NaN  ...       NaN       NaN       NaN   \nLG    0.689250  0.698978  0.645345  ...  0.704000  0.677000  0.626000   \nNC         NaN       NaN       NaN  ...       NaN       NaN       NaN   \nOB         NaN       NaN       NaN  ...       NaN       NaN       NaN   \nSK    0.000000  0.596491  0.393000  ...  0.822977  0.689176  0.710000   \n넥센         NaN       NaN       NaN  ...       NaN  0.636166  0.623000   \n두산    0.739755  0.695808  0.762809  ...  0.701938  0.780000  0.733000   \n롯데    0.453390  0.577847  0.577000  ...  0.680000  0.653000  0.676715   \n삼성    0.369048  0.830124  0.778831  ...  0.694336  0.771000  0.677606   \n쌍방울        NaN       NaN       NaN  ...       NaN       NaN       NaN   \n우리         NaN       NaN       NaN  ...       NaN       NaN       NaN   \n한화    0.478132  0.870676  0.741000  ...  0.672000  0.628597  0.649190   \n해태    0.463483       NaN       NaN  ...       NaN       NaN       NaN   \n현대    0.838528  0.828384  0.673733  ...       NaN       NaN       NaN   \n히어로즈       NaN       NaN       NaN  ...  0.598059       NaN       NaN   \n\nyear      2012      2013      2014      2015      2016      2017    2018  \nteam                                                                      \nKIA   0.615420  0.679763  0.751196  0.598500  0.777000  0.777000  0.7320  \nKT         NaN       NaN       NaN  0.643561  0.634500  0.710791  0.6550  \nLG    0.552501  0.653000  0.680809  0.678000  0.729000  0.703000  0.7040  \nNC         NaN  0.652500  0.636742  0.711000  0.703000  0.705000  0.6000  \nOB         NaN       NaN       NaN       NaN       NaN       NaN     NaN  \nSK    0.666953  0.689636  0.751500  0.714000  0.798500  0.764796  0.7685  \n넥센    0.589000  0.671000  0.792032  0.753000  0.800500  0.743500  0.7650  \n두산    0.660000  0.781500  0.702330  0.760000  0.763000  0.685000  0.8230  \n롯데    0.581845  0.600000  0.689000  0.622000  0.704000  0.728000  0.7100  \n삼성    0.614071  0.721250  0.737000  0.742500  0.717500  0.684000  0.6515  \n쌍방울        NaN       NaN       NaN       NaN       NaN       NaN     NaN  \n우리         NaN       NaN       NaN       NaN       NaN       NaN     NaN  \n한화    0.583929  0.616000  0.703893  0.673000  0.653752  0.675500  0.6910  \n해태         NaN       NaN       NaN       NaN       NaN       NaN     NaN  \n현대         NaN       NaN       NaN       NaN       NaN       NaN     NaN  \n히어로즈       NaN       NaN       NaN       NaN       NaN       NaN     NaN  \n\n[16 rows x 26 columns]",
      "text/html": "<div>\n<style scoped>\n    .dataframe tbody tr th:only-of-type {\n        vertical-align: middle;\n    }\n\n    .dataframe tbody tr th {\n        vertical-align: top;\n    }\n\n    .dataframe thead th {\n        text-align: right;\n    }\n</style>\n<table border=\"1\" class=\"dataframe\">\n  <thead>\n    <tr style=\"text-align: right;\">\n      <th>year</th>\n      <th>1993</th>\n      <th>1994</th>\n      <th>1995</th>\n      <th>1996</th>\n      <th>1997</th>\n      <th>1998</th>\n      <th>1999</th>\n      <th>2000</th>\n      <th>2001</th>\n      <th>2002</th>\n      <th>...</th>\n      <th>2009</th>\n      <th>2010</th>\n      <th>2011</th>\n      <th>2012</th>\n      <th>2013</th>\n      <th>2014</th>\n      <th>2015</th>\n      <th>2016</th>\n      <th>2017</th>\n      <th>2018</th>\n    </tr>\n    <tr>\n      <th>team</th>\n      <th></th>\n      <th></th>\n      <th></th>\n      <th></th>\n      <th></th>\n      <th></th>\n      <th></th>\n      <th></th>\n      <th></th>\n      <th></th>\n      <th></th>\n      <th></th>\n      <th></th>\n      <th></th>\n      <th></th>\n      <th></th>\n      <th></th>\n      <th></th>\n      <th></th>\n      <th></th>\n      <th></th>\n    </tr>\n  </thead>\n  <tbody>\n    <tr>\n      <th>KIA</th>\n      <td>NaN</td>\n      <td>NaN</td>\n      <td>NaN</td>\n      <td>NaN</td>\n      <td>NaN</td>\n      <td>NaN</td>\n      <td>NaN</td>\n      <td>NaN</td>\n      <td>0.849337</td>\n      <td>0.829906</td>\n      <td>...</td>\n      <td>0.707000</td>\n      <td>0.725000</td>\n      <td>0.680963</td>\n      <td>0.615420</td>\n      <td>0.679763</td>\n      <td>0.751196</td>\n      <td>0.598500</td>\n      <td>0.777000</td>\n      <td>0.777000</td>\n      <td>0.7320</td>\n    </tr>\n    <tr>\n      <th>KT</th>\n      <td>NaN</td>\n      <td>NaN</td>\n      <td>NaN</td>\n      <td>NaN</td>\n      <td>NaN</td>\n      <td>NaN</td>\n      <td>NaN</td>\n      <td>NaN</td>\n      <td>NaN</td>\n      <td>NaN</td>\n      <td>...</td>\n      <td>NaN</td>\n      <td>NaN</td>\n      <td>NaN</td>\n      <td>NaN</td>\n      <td>NaN</td>\n      <td>NaN</td>\n      <td>0.643561</td>\n      <td>0.634500</td>\n      <td>0.710791</td>\n      <td>0.6550</td>\n    </tr>\n    <tr>\n      <th>LG</th>\n      <td>NaN</td>\n      <td>0.000000</td>\n      <td>NaN</td>\n      <td>0.476212</td>\n      <td>0.679836</td>\n      <td>0.509843</td>\n      <td>0.637173</td>\n      <td>0.689250</td>\n      <td>0.698978</td>\n      <td>0.645345</td>\n      <td>...</td>\n      <td>0.704000</td>\n      <td>0.677000</td>\n      <td>0.626000</td>\n      <td>0.552501</td>\n      <td>0.653000</td>\n      <td>0.680809</td>\n      <td>0.678000</td>\n      <td>0.729000</td>\n      <td>0.703000</td>\n      <td>0.7040</td>\n    </tr>\n    <tr>\n      <th>NC</th>\n      <td>NaN</td>\n      <td>NaN</td>\n      <td>NaN</td>\n      <td>NaN</td>\n      <td>NaN</td>\n      <td>NaN</td>\n      <td>NaN</td>\n      <td>NaN</td>\n      <td>NaN</td>\n      <td>NaN</td>\n      <td>...</td>\n      <td>NaN</td>\n      <td>NaN</td>\n      <td>NaN</td>\n      <td>NaN</td>\n      <td>0.652500</td>\n      <td>0.636742</td>\n      <td>0.711000</td>\n      <td>0.703000</td>\n      <td>0.705000</td>\n      <td>0.6000</td>\n    </tr>\n    <tr>\n      <th>OB</th>\n      <td>NaN</td>\n      <td>NaN</td>\n      <td>NaN</td>\n      <td>NaN</td>\n      <td>0.615797</td>\n      <td>0.727667</td>\n      <td>NaN</td>\n      <td>NaN</td>\n      <td>NaN</td>\n      <td>NaN</td>\n      <td>...</td>\n      <td>NaN</td>\n      <td>NaN</td>\n      <td>NaN</td>\n      <td>NaN</td>\n      <td>NaN</td>\n      <td>NaN</td>\n      <td>NaN</td>\n      <td>NaN</td>\n      <td>NaN</td>\n      <td>NaN</td>\n    </tr>\n    <tr>\n      <th>SK</th>\n      <td>NaN</td>\n      <td>NaN</td>\n      <td>NaN</td>\n      <td>NaN</td>\n      <td>NaN</td>\n      <td>NaN</td>\n      <td>NaN</td>\n      <td>0.000000</td>\n      <td>0.596491</td>\n      <td>0.393000</td>\n      <td>...</td>\n      <td>0.822977</td>\n      <td>0.689176</td>\n      <td>0.710000</td>\n      <td>0.666953</td>\n      <td>0.689636</td>\n      <td>0.751500</td>\n      <td>0.714000</td>\n      <td>0.798500</td>\n      <td>0.764796</td>\n      <td>0.7685</td>\n    </tr>\n    <tr>\n      <th>넥센</th>\n      <td>NaN</td>\n      <td>NaN</td>\n      <td>NaN</td>\n      <td>NaN</td>\n      <td>NaN</td>\n      <td>NaN</td>\n      <td>NaN</td>\n      <td>NaN</td>\n      <td>NaN</td>\n      <td>NaN</td>\n      <td>...</td>\n      <td>NaN</td>\n      <td>0.636166</td>\n      <td>0.623000</td>\n      <td>0.589000</td>\n      <td>0.671000</td>\n      <td>0.792032</td>\n      <td>0.753000</td>\n      <td>0.800500</td>\n      <td>0.743500</td>\n      <td>0.7650</td>\n    </tr>\n    <tr>\n      <th>두산</th>\n      <td>NaN</td>\n      <td>NaN</td>\n      <td>NaN</td>\n      <td>NaN</td>\n      <td>NaN</td>\n      <td>NaN</td>\n      <td>0.853830</td>\n      <td>0.739755</td>\n      <td>0.695808</td>\n      <td>0.762809</td>\n      <td>...</td>\n      <td>0.701938</td>\n      <td>0.780000</td>\n      <td>0.733000</td>\n      <td>0.660000</td>\n      <td>0.781500</td>\n      <td>0.702330</td>\n      <td>0.760000</td>\n      <td>0.763000</td>\n      <td>0.685000</td>\n      <td>0.8230</td>\n    </tr>\n    <tr>\n      <th>롯데</th>\n      <td>NaN</td>\n      <td>NaN</td>\n      <td>NaN</td>\n      <td>NaN</td>\n      <td>NaN</td>\n      <td>NaN</td>\n      <td>1.124961</td>\n      <td>0.453390</td>\n      <td>0.577847</td>\n      <td>0.577000</td>\n      <td>...</td>\n      <td>0.680000</td>\n      <td>0.653000</td>\n      <td>0.676715</td>\n      <td>0.581845</td>\n      <td>0.600000</td>\n      <td>0.689000</td>\n      <td>0.622000</td>\n      <td>0.704000</td>\n      <td>0.728000</td>\n      <td>0.7100</td>\n    </tr>\n    <tr>\n      <th>삼성</th>\n      <td>NaN</td>\n      <td>NaN</td>\n      <td>NaN</td>\n      <td>NaN</td>\n      <td>NaN</td>\n      <td>NaN</td>\n      <td>0.575549</td>\n      <td>0.369048</td>\n      <td>0.830124</td>\n      <td>0.778831</td>\n      <td>...</td>\n      <td>0.694336</td>\n      <td>0.771000</td>\n      <td>0.677606</td>\n      <td>0.614071</td>\n      <td>0.721250</td>\n      <td>0.737000</td>\n      <td>0.742500</td>\n      <td>0.717500</td>\n      <td>0.684000</td>\n      <td>0.6515</td>\n    </tr>\n    <tr>\n      <th>쌍방울</th>\n      <td>NaN</td>\n      <td>NaN</td>\n      <td>NaN</td>\n      <td>NaN</td>\n      <td>NaN</td>\n      <td>NaN</td>\n      <td>0.000000</td>\n      <td>NaN</td>\n      <td>NaN</td>\n      <td>NaN</td>\n      <td>...</td>\n      <td>NaN</td>\n      <td>NaN</td>\n      <td>NaN</td>\n      <td>NaN</td>\n      <td>NaN</td>\n      <td>NaN</td>\n      <td>NaN</td>\n      <td>NaN</td>\n      <td>NaN</td>\n      <td>NaN</td>\n    </tr>\n    <tr>\n      <th>우리</th>\n      <td>NaN</td>\n      <td>NaN</td>\n      <td>NaN</td>\n      <td>NaN</td>\n      <td>NaN</td>\n      <td>NaN</td>\n      <td>NaN</td>\n      <td>NaN</td>\n      <td>NaN</td>\n      <td>NaN</td>\n      <td>...</td>\n      <td>NaN</td>\n      <td>NaN</td>\n      <td>NaN</td>\n      <td>NaN</td>\n      <td>NaN</td>\n      <td>NaN</td>\n      <td>NaN</td>\n      <td>NaN</td>\n      <td>NaN</td>\n      <td>NaN</td>\n    </tr>\n    <tr>\n      <th>한화</th>\n      <td>NaN</td>\n      <td>NaN</td>\n      <td>NaN</td>\n      <td>0.890260</td>\n      <td>0.768116</td>\n      <td>0.456915</td>\n      <td>0.512775</td>\n      <td>0.478132</td>\n      <td>0.870676</td>\n      <td>0.741000</td>\n      <td>...</td>\n      <td>0.672000</td>\n      <td>0.628597</td>\n      <td>0.649190</td>\n      <td>0.583929</td>\n      <td>0.616000</td>\n      <td>0.703893</td>\n      <td>0.673000</td>\n      <td>0.653752</td>\n      <td>0.675500</td>\n      <td>0.6910</td>\n    </tr>\n    <tr>\n      <th>해태</th>\n      <td>0.764912</td>\n      <td>1.036198</td>\n      <td>0.987261</td>\n      <td>0.781758</td>\n      <td>0.836358</td>\n      <td>0.844605</td>\n      <td>0.492506</td>\n      <td>0.463483</td>\n      <td>NaN</td>\n      <td>NaN</td>\n      <td>...</td>\n      <td>NaN</td>\n      <td>NaN</td>\n      <td>NaN</td>\n      <td>NaN</td>\n      <td>NaN</td>\n      <td>NaN</td>\n      <td>NaN</td>\n      <td>NaN</td>\n      <td>NaN</td>\n      <td>NaN</td>\n    </tr>\n    <tr>\n      <th>현대</th>\n      <td>NaN</td>\n      <td>NaN</td>\n      <td>NaN</td>\n      <td>0.833385</td>\n      <td>0.783934</td>\n      <td>0.547971</td>\n      <td>0.794743</td>\n      <td>0.838528</td>\n      <td>0.828384</td>\n      <td>0.673733</td>\n      <td>...</td>\n      <td>NaN</td>\n      <td>NaN</td>\n      <td>NaN</td>\n      <td>NaN</td>\n      <td>NaN</td>\n      <td>NaN</td>\n      <td>NaN</td>\n      <td>NaN</td>\n      <td>NaN</td>\n      <td>NaN</td>\n    </tr>\n    <tr>\n      <th>히어로즈</th>\n      <td>NaN</td>\n      <td>NaN</td>\n      <td>NaN</td>\n      <td>NaN</td>\n      <td>NaN</td>\n      <td>NaN</td>\n      <td>NaN</td>\n      <td>NaN</td>\n      <td>NaN</td>\n      <td>NaN</td>\n      <td>...</td>\n      <td>0.598059</td>\n      <td>NaN</td>\n      <td>NaN</td>\n      <td>NaN</td>\n      <td>NaN</td>\n      <td>NaN</td>\n      <td>NaN</td>\n      <td>NaN</td>\n      <td>NaN</td>\n      <td>NaN</td>\n    </tr>\n  </tbody>\n</table>\n<p>16 rows × 26 columns</p>\n</div>"
     },
     "execution_count": 98,
     "metadata": {},
     "output_type": "execute_result"
    }
   ],
   "source": [
    "med_OPS_team"
   ],
   "metadata": {
    "collapsed": false,
    "pycharm": {
     "name": "#%%\n"
    }
   }
  },
  {
   "cell_type": "code",
   "execution_count": 99,
   "outputs": [
    {
     "data": {
      "text/plain": "team       KIA        LG        SK        두산        롯데        삼성        한화\nyear                                                                      \n1993       NaN       NaN       NaN       NaN       NaN       NaN       NaN\n1994       NaN  0.000000       NaN       NaN       NaN       NaN       NaN\n1995       NaN       NaN       NaN       NaN       NaN       NaN       NaN\n1996       NaN  0.476212       NaN       NaN       NaN       NaN  0.890260\n1997       NaN  0.679836       NaN       NaN       NaN       NaN  0.768116\n1998       NaN  0.509843       NaN       NaN       NaN       NaN  0.456915\n1999       NaN  0.637173       NaN  0.853830  1.124961  0.575549  0.512775\n2000       NaN  0.689250  0.000000  0.739755  0.453390  0.369048  0.478132\n2001  0.849337  0.698978  0.596491  0.695808  0.577847  0.830124  0.870676\n2002  0.829906  0.645345  0.393000  0.762809  0.577000  0.778831  0.741000\n2003  0.681098  0.674368  0.636000  0.643209  0.638655  0.428000  0.719601\n2004  0.710473  0.594543  0.494000  0.672643  0.662041  0.579137  0.677000\n2005  0.583333  0.657000  0.601000  0.699575  0.673000  0.741419  0.577151\n2006  0.717176  0.593128  0.682591  0.639750  0.586748  0.734067  0.624351\n2007  0.546944  0.661500  0.774000  0.656000  0.629000  0.602000  0.665602\n2008  0.644474  0.622015  0.693000  0.702000  0.725455  0.681104  0.562049\n2009  0.707000  0.704000  0.822977  0.701938  0.680000  0.694336  0.672000\n2010  0.725000  0.677000  0.689176  0.780000  0.653000  0.771000  0.628597\n2011  0.680963  0.626000  0.710000  0.733000  0.676715  0.677606  0.649190\n2012  0.615420  0.552501  0.666953  0.660000  0.581845  0.614071  0.583929\n2013  0.679763  0.653000  0.689636  0.781500  0.600000  0.721250  0.616000\n2014  0.751196  0.680809  0.751500  0.702330  0.689000  0.737000  0.703893\n2015  0.598500  0.678000  0.714000  0.760000  0.622000  0.742500  0.673000\n2016  0.777000  0.729000  0.798500  0.763000  0.704000  0.717500  0.653752\n2017  0.777000  0.703000  0.764796  0.685000  0.728000  0.684000  0.675500\n2018  0.732000  0.704000  0.768500  0.823000  0.710000  0.651500  0.691000",
      "text/html": "<div>\n<style scoped>\n    .dataframe tbody tr th:only-of-type {\n        vertical-align: middle;\n    }\n\n    .dataframe tbody tr th {\n        vertical-align: top;\n    }\n\n    .dataframe thead th {\n        text-align: right;\n    }\n</style>\n<table border=\"1\" class=\"dataframe\">\n  <thead>\n    <tr style=\"text-align: right;\">\n      <th>team</th>\n      <th>KIA</th>\n      <th>LG</th>\n      <th>SK</th>\n      <th>두산</th>\n      <th>롯데</th>\n      <th>삼성</th>\n      <th>한화</th>\n    </tr>\n    <tr>\n      <th>year</th>\n      <th></th>\n      <th></th>\n      <th></th>\n      <th></th>\n      <th></th>\n      <th></th>\n      <th></th>\n    </tr>\n  </thead>\n  <tbody>\n    <tr>\n      <th>1993</th>\n      <td>NaN</td>\n      <td>NaN</td>\n      <td>NaN</td>\n      <td>NaN</td>\n      <td>NaN</td>\n      <td>NaN</td>\n      <td>NaN</td>\n    </tr>\n    <tr>\n      <th>1994</th>\n      <td>NaN</td>\n      <td>0.000000</td>\n      <td>NaN</td>\n      <td>NaN</td>\n      <td>NaN</td>\n      <td>NaN</td>\n      <td>NaN</td>\n    </tr>\n    <tr>\n      <th>1995</th>\n      <td>NaN</td>\n      <td>NaN</td>\n      <td>NaN</td>\n      <td>NaN</td>\n      <td>NaN</td>\n      <td>NaN</td>\n      <td>NaN</td>\n    </tr>\n    <tr>\n      <th>1996</th>\n      <td>NaN</td>\n      <td>0.476212</td>\n      <td>NaN</td>\n      <td>NaN</td>\n      <td>NaN</td>\n      <td>NaN</td>\n      <td>0.890260</td>\n    </tr>\n    <tr>\n      <th>1997</th>\n      <td>NaN</td>\n      <td>0.679836</td>\n      <td>NaN</td>\n      <td>NaN</td>\n      <td>NaN</td>\n      <td>NaN</td>\n      <td>0.768116</td>\n    </tr>\n    <tr>\n      <th>1998</th>\n      <td>NaN</td>\n      <td>0.509843</td>\n      <td>NaN</td>\n      <td>NaN</td>\n      <td>NaN</td>\n      <td>NaN</td>\n      <td>0.456915</td>\n    </tr>\n    <tr>\n      <th>1999</th>\n      <td>NaN</td>\n      <td>0.637173</td>\n      <td>NaN</td>\n      <td>0.853830</td>\n      <td>1.124961</td>\n      <td>0.575549</td>\n      <td>0.512775</td>\n    </tr>\n    <tr>\n      <th>2000</th>\n      <td>NaN</td>\n      <td>0.689250</td>\n      <td>0.000000</td>\n      <td>0.739755</td>\n      <td>0.453390</td>\n      <td>0.369048</td>\n      <td>0.478132</td>\n    </tr>\n    <tr>\n      <th>2001</th>\n      <td>0.849337</td>\n      <td>0.698978</td>\n      <td>0.596491</td>\n      <td>0.695808</td>\n      <td>0.577847</td>\n      <td>0.830124</td>\n      <td>0.870676</td>\n    </tr>\n    <tr>\n      <th>2002</th>\n      <td>0.829906</td>\n      <td>0.645345</td>\n      <td>0.393000</td>\n      <td>0.762809</td>\n      <td>0.577000</td>\n      <td>0.778831</td>\n      <td>0.741000</td>\n    </tr>\n    <tr>\n      <th>2003</th>\n      <td>0.681098</td>\n      <td>0.674368</td>\n      <td>0.636000</td>\n      <td>0.643209</td>\n      <td>0.638655</td>\n      <td>0.428000</td>\n      <td>0.719601</td>\n    </tr>\n    <tr>\n      <th>2004</th>\n      <td>0.710473</td>\n      <td>0.594543</td>\n      <td>0.494000</td>\n      <td>0.672643</td>\n      <td>0.662041</td>\n      <td>0.579137</td>\n      <td>0.677000</td>\n    </tr>\n    <tr>\n      <th>2005</th>\n      <td>0.583333</td>\n      <td>0.657000</td>\n      <td>0.601000</td>\n      <td>0.699575</td>\n      <td>0.673000</td>\n      <td>0.741419</td>\n      <td>0.577151</td>\n    </tr>\n    <tr>\n      <th>2006</th>\n      <td>0.717176</td>\n      <td>0.593128</td>\n      <td>0.682591</td>\n      <td>0.639750</td>\n      <td>0.586748</td>\n      <td>0.734067</td>\n      <td>0.624351</td>\n    </tr>\n    <tr>\n      <th>2007</th>\n      <td>0.546944</td>\n      <td>0.661500</td>\n      <td>0.774000</td>\n      <td>0.656000</td>\n      <td>0.629000</td>\n      <td>0.602000</td>\n      <td>0.665602</td>\n    </tr>\n    <tr>\n      <th>2008</th>\n      <td>0.644474</td>\n      <td>0.622015</td>\n      <td>0.693000</td>\n      <td>0.702000</td>\n      <td>0.725455</td>\n      <td>0.681104</td>\n      <td>0.562049</td>\n    </tr>\n    <tr>\n      <th>2009</th>\n      <td>0.707000</td>\n      <td>0.704000</td>\n      <td>0.822977</td>\n      <td>0.701938</td>\n      <td>0.680000</td>\n      <td>0.694336</td>\n      <td>0.672000</td>\n    </tr>\n    <tr>\n      <th>2010</th>\n      <td>0.725000</td>\n      <td>0.677000</td>\n      <td>0.689176</td>\n      <td>0.780000</td>\n      <td>0.653000</td>\n      <td>0.771000</td>\n      <td>0.628597</td>\n    </tr>\n    <tr>\n      <th>2011</th>\n      <td>0.680963</td>\n      <td>0.626000</td>\n      <td>0.710000</td>\n      <td>0.733000</td>\n      <td>0.676715</td>\n      <td>0.677606</td>\n      <td>0.649190</td>\n    </tr>\n    <tr>\n      <th>2012</th>\n      <td>0.615420</td>\n      <td>0.552501</td>\n      <td>0.666953</td>\n      <td>0.660000</td>\n      <td>0.581845</td>\n      <td>0.614071</td>\n      <td>0.583929</td>\n    </tr>\n    <tr>\n      <th>2013</th>\n      <td>0.679763</td>\n      <td>0.653000</td>\n      <td>0.689636</td>\n      <td>0.781500</td>\n      <td>0.600000</td>\n      <td>0.721250</td>\n      <td>0.616000</td>\n    </tr>\n    <tr>\n      <th>2014</th>\n      <td>0.751196</td>\n      <td>0.680809</td>\n      <td>0.751500</td>\n      <td>0.702330</td>\n      <td>0.689000</td>\n      <td>0.737000</td>\n      <td>0.703893</td>\n    </tr>\n    <tr>\n      <th>2015</th>\n      <td>0.598500</td>\n      <td>0.678000</td>\n      <td>0.714000</td>\n      <td>0.760000</td>\n      <td>0.622000</td>\n      <td>0.742500</td>\n      <td>0.673000</td>\n    </tr>\n    <tr>\n      <th>2016</th>\n      <td>0.777000</td>\n      <td>0.729000</td>\n      <td>0.798500</td>\n      <td>0.763000</td>\n      <td>0.704000</td>\n      <td>0.717500</td>\n      <td>0.653752</td>\n    </tr>\n    <tr>\n      <th>2017</th>\n      <td>0.777000</td>\n      <td>0.703000</td>\n      <td>0.764796</td>\n      <td>0.685000</td>\n      <td>0.728000</td>\n      <td>0.684000</td>\n      <td>0.675500</td>\n    </tr>\n    <tr>\n      <th>2018</th>\n      <td>0.732000</td>\n      <td>0.704000</td>\n      <td>0.768500</td>\n      <td>0.823000</td>\n      <td>0.710000</td>\n      <td>0.651500</td>\n      <td>0.691000</td>\n    </tr>\n  </tbody>\n</table>\n</div>"
     },
     "execution_count": 99,
     "metadata": {},
     "output_type": "execute_result"
    }
   ],
   "source": [
    "team_index_df = med_OPS_team.loc[team_index].T\n",
    "team_index_df"
   ],
   "metadata": {
    "collapsed": false,
    "pycharm": {
     "name": "#%%\n"
    }
   }
  },
  {
   "cell_type": "code",
   "execution_count": 100,
   "outputs": [
    {
     "name": "stderr",
     "output_type": "stream",
     "text": [
      "C:\\Users\\user\\AppData\\Roaming\\Python\\Python39\\site-packages\\matplotlib\\backends\\backend_agg.py:238: RuntimeWarning: Glyph 46160 missing from current font.\n",
      "  font.set_text(s, 0.0, flags=flags)\n",
      "C:\\Users\\user\\AppData\\Roaming\\Python\\Python39\\site-packages\\matplotlib\\backends\\backend_agg.py:238: RuntimeWarning: Glyph 49328 missing from current font.\n",
      "  font.set_text(s, 0.0, flags=flags)\n",
      "C:\\Users\\user\\AppData\\Roaming\\Python\\Python39\\site-packages\\matplotlib\\backends\\backend_agg.py:238: RuntimeWarning: Glyph 47215 missing from current font.\n",
      "  font.set_text(s, 0.0, flags=flags)\n",
      "C:\\Users\\user\\AppData\\Roaming\\Python\\Python39\\site-packages\\matplotlib\\backends\\backend_agg.py:238: RuntimeWarning: Glyph 45936 missing from current font.\n",
      "  font.set_text(s, 0.0, flags=flags)\n",
      "C:\\Users\\user\\AppData\\Roaming\\Python\\Python39\\site-packages\\matplotlib\\backends\\backend_agg.py:238: RuntimeWarning: Glyph 49340 missing from current font.\n",
      "  font.set_text(s, 0.0, flags=flags)\n",
      "C:\\Users\\user\\AppData\\Roaming\\Python\\Python39\\site-packages\\matplotlib\\backends\\backend_agg.py:238: RuntimeWarning: Glyph 49457 missing from current font.\n",
      "  font.set_text(s, 0.0, flags=flags)\n",
      "C:\\Users\\user\\AppData\\Roaming\\Python\\Python39\\site-packages\\matplotlib\\backends\\backend_agg.py:238: RuntimeWarning: Glyph 54620 missing from current font.\n",
      "  font.set_text(s, 0.0, flags=flags)\n",
      "C:\\Users\\user\\AppData\\Roaming\\Python\\Python39\\site-packages\\matplotlib\\backends\\backend_agg.py:238: RuntimeWarning: Glyph 54868 missing from current font.\n",
      "  font.set_text(s, 0.0, flags=flags)\n",
      "C:\\Users\\user\\AppData\\Roaming\\Python\\Python39\\site-packages\\matplotlib\\backends\\backend_agg.py:201: RuntimeWarning: Glyph 46160 missing from current font.\n",
      "  font.set_text(s, 0, flags=flags)\n",
      "C:\\Users\\user\\AppData\\Roaming\\Python\\Python39\\site-packages\\matplotlib\\backends\\backend_agg.py:201: RuntimeWarning: Glyph 49328 missing from current font.\n",
      "  font.set_text(s, 0, flags=flags)\n",
      "C:\\Users\\user\\AppData\\Roaming\\Python\\Python39\\site-packages\\matplotlib\\backends\\backend_agg.py:201: RuntimeWarning: Glyph 47215 missing from current font.\n",
      "  font.set_text(s, 0, flags=flags)\n",
      "C:\\Users\\user\\AppData\\Roaming\\Python\\Python39\\site-packages\\matplotlib\\backends\\backend_agg.py:201: RuntimeWarning: Glyph 45936 missing from current font.\n",
      "  font.set_text(s, 0, flags=flags)\n",
      "C:\\Users\\user\\AppData\\Roaming\\Python\\Python39\\site-packages\\matplotlib\\backends\\backend_agg.py:201: RuntimeWarning: Glyph 49340 missing from current font.\n",
      "  font.set_text(s, 0, flags=flags)\n",
      "C:\\Users\\user\\AppData\\Roaming\\Python\\Python39\\site-packages\\matplotlib\\backends\\backend_agg.py:201: RuntimeWarning: Glyph 49457 missing from current font.\n",
      "  font.set_text(s, 0, flags=flags)\n",
      "C:\\Users\\user\\AppData\\Roaming\\Python\\Python39\\site-packages\\matplotlib\\backends\\backend_agg.py:201: RuntimeWarning: Glyph 54620 missing from current font.\n",
      "  font.set_text(s, 0, flags=flags)\n",
      "C:\\Users\\user\\AppData\\Roaming\\Python\\Python39\\site-packages\\matplotlib\\backends\\backend_agg.py:201: RuntimeWarning: Glyph 54868 missing from current font.\n",
      "  font.set_text(s, 0, flags=flags)\n"
     ]
    },
    {
     "data": {
      "text/plain": "<Figure size 432x288 with 1 Axes>",
      "image/png": "[encoded data removed]"
     },
     "metadata": {
      "needs_background": "light"
     },
     "output_type": "display_data"
    }
   ],
   "source": [
    "plt.plot(team_index_df.loc[2005:, :])\n",
    "plt.legend(team_index_df.loc[2005:, :].columns, loc='center left', bbox_to_anchor=(1, 0.5))\n",
    "plt.title('team performance')\n",
    "plt.show()"
   ],
   "metadata": {
    "collapsed": false,
    "pycharm": {
     "name": "#%%\n"
    }
   }
  },
  {
   "cell_type": "markdown",
   "source": [
    "# 키/몸무게 상관관계 파악하기"
   ],
   "metadata": {
    "collapsed": false
   }
  },
  {
   "cell_type": "code",
   "execution_count": 101,
   "outputs": [
    {
     "data": {
      "text/plain": "0       177cm/93kg\n1       180cm/72kg\n2       180cm/72kg\n3       180cm/72kg\n4       180cm/72kg\n           ...    \n2449    181cm/82kg\n2450    181cm/82kg\n2451    181cm/82kg\n2452    181cm/82kg\n2453    181cm/82kg\nName: height/weight, Length: 2454, dtype: object"
     },
     "execution_count": 101,
     "metadata": {},
     "output_type": "execute_result"
    }
   ],
   "source": [
    "height_weight = regular_season['height/weight']\n",
    "regular_season['height/weight']"
   ],
   "metadata": {
    "collapsed": false,
    "pycharm": {
     "name": "#%%\n"
    }
   }
  },
  {
   "cell_type": "code",
   "execution_count": 102,
   "outputs": [
    {
     "name": "stdout",
     "output_type": "stream",
     "text": [
      "{}\n",
      "177cm 93kg\n",
      "180cm 72kg\n",
      "180cm 72kg\n",
      "180cm 72kg\n",
      "180cm 72kg\n",
      "180cm 72kg\n",
      "180cm 72kg\n",
      "180cm 82kg\n",
      "180cm 82kg\n",
      "180cm 82kg\n",
      "180cm 82kg\n",
      "180cm 82kg\n",
      "176cm 80kg\n",
      "176cm 80kg\n",
      "176cm 80kg\n",
      "176cm 80kg\n",
      "185cm 100kg\n",
      "185cm 100kg\n",
      "185cm 100kg\n",
      "185cm 100kg\n",
      "185cm 100kg\n",
      "185cm 100kg\n",
      "185cm 100kg\n",
      "185cm 100kg\n",
      "185cm 100kg\n",
      "185cm 100kg\n",
      "185cm 100kg\n",
      "185cm 100kg\n",
      "185cm 100kg\n",
      "185cm 100kg\n",
      "185cm 100kg\n",
      "184cm 98kg\n",
      "172cm 64kg\n",
      "172cm 64kg\n",
      "179cm 77kg\n",
      "179cm 77kg\n",
      "179cm 77kg\n",
      "180cm 81kg\n",
      "180cm 81kg\n",
      "180cm 81kg\n",
      "181cm 66kg\n",
      "181cm 66kg\n",
      "181cm 66kg\n",
      "181cm 66kg\n",
      "181cm 66kg\n",
      "178cm 68kg\n",
      "184cm 83kg\n",
      "184cm 83kg\n",
      "184cm 83kg\n",
      "184cm 83kg\n",
      "184cm 83kg\n",
      "184cm 83kg\n",
      "189cm 75kg\n",
      "189cm 75kg\n",
      "189cm 75kg\n",
      "189cm 75kg\n",
      "180cm 94kg\n",
      "180cm 94kg\n",
      "180cm 94kg\n",
      "180cm 94kg\n",
      "180cm 94kg\n",
      "180cm 88kg\n",
      "180cm 88kg\n",
      "180cm 88kg\n",
      "177cm 85kg\n",
      "177cm 85kg\n",
      "177cm 85kg\n",
      "177cm 85kg\n",
      "177cm 85kg\n",
      "182cm 85kg\n",
      "182cm 85kg\n",
      "182cm 85kg\n",
      "182cm 85kg\n",
      "182cm 85kg\n",
      "182cm 85kg\n",
      "182cm 85kg\n",
      "182cm 85kg\n",
      "182cm 85kg\n",
      "182cm 85kg\n",
      "182cm 85kg\n",
      "182cm 85kg\n",
      "182cm 85kg\n",
      "182cm 85kg\n",
      "182cm 85kg\n",
      "182cm 85kg\n",
      "182cm 85kg\n",
      "188cm 85kg\n",
      "188cm 85kg\n",
      "184cm 80kg\n",
      "184cm 80kg\n",
      "184cm 80kg\n",
      "184cm 80kg\n",
      "184cm 80kg\n",
      "184cm 80kg\n",
      "184cm 80kg\n",
      "186cm 101kg\n",
      "186cm 101kg\n",
      "186cm 101kg\n",
      "183cm 89kg\n",
      "183cm 89kg\n",
      "183cm 89kg\n",
      "183cm 89kg\n",
      "183cm 89kg\n",
      "183cm 89kg\n",
      "183cm 89kg\n",
      "174cm 74kg\n",
      "174cm 74kg\n",
      "174cm 74kg\n",
      "174cm 74kg\n",
      "174cm 74kg\n",
      "180cm 80kg\n",
      "180cm 80kg\n",
      "185cm 102kg\n",
      "185cm 102kg\n",
      "185cm 102kg\n",
      "185cm 102kg\n",
      "185cm 102kg\n",
      "185cm 102kg\n",
      "185cm 102kg\n",
      "185cm 102kg\n",
      "185cm 102kg\n",
      "185cm 102kg\n",
      "185cm 102kg\n",
      "181cm 94kg\n",
      "181cm 94kg\n",
      "181cm 94kg\n",
      "181cm 94kg\n",
      "181cm 94kg\n",
      "181cm 94kg\n",
      "181cm 94kg\n",
      "181cm 94kg\n",
      "181cm 94kg\n",
      "181cm 94kg\n",
      "181cm 94kg\n",
      "181cm 94kg\n",
      "177cm 80kg\n",
      "177cm 80kg\n",
      "177cm 80kg\n",
      "180cm 80kg\n",
      "180cm 80kg\n",
      "180cm 80kg\n",
      "180cm 80kg\n",
      "181cm 80kg\n",
      "181cm 80kg\n",
      "181cm 80kg\n",
      "181cm 80kg\n",
      "181cm 80kg\n",
      "181cm 88kg\n",
      "181cm 88kg\n",
      "181cm 88kg\n",
      "181cm 88kg\n",
      "181cm 88kg\n",
      "173cm 89kg\n",
      "173cm 89kg\n",
      "173cm 89kg\n",
      "173cm 89kg\n",
      "173cm 89kg\n",
      "173cm 89kg\n",
      "175cm 68kg\n",
      "175cm 68kg\n",
      "175cm 68kg\n",
      "175cm 68kg\n",
      "175cm 68kg\n",
      "175cm 68kg\n",
      "175cm 68kg\n",
      "175cm 68kg\n",
      "175cm 68kg\n",
      "175cm 68kg\n",
      "181cm 87kg\n",
      "181cm 87kg\n",
      "181cm 87kg\n",
      "181cm 87kg\n",
      "165cm 77kg\n",
      "165cm 77kg\n",
      "165cm 77kg\n",
      "165cm 77kg\n",
      "165cm 77kg\n",
      "165cm 77kg\n",
      "165cm 77kg\n",
      "165cm 77kg\n",
      "165cm 77kg\n",
      "165cm 77kg\n",
      "181cm 83kg\n",
      "181cm 83kg\n",
      "181cm 83kg\n",
      "181cm 83kg\n",
      "181cm 83kg\n",
      "181cm 83kg\n",
      "172cm 72kg\n",
      "172cm 72kg\n",
      "172cm 72kg\n",
      "172cm 72kg\n",
      "172cm 72kg\n",
      "172cm 72kg\n",
      "172cm 72kg\n",
      "172cm 72kg\n",
      "172cm 72kg\n",
      "172cm 72kg\n",
      "172cm 72kg\n",
      "172cm 68kg\n",
      "172cm 68kg\n",
      "187cm 74kg\n",
      "187cm 74kg\n",
      "187cm 74kg\n",
      "187cm 74kg\n",
      "187cm 74kg\n",
      "187cm 74kg\n",
      "187cm 74kg\n",
      "187cm 74kg\n",
      "178cm 90kg\n",
      "178cm 90kg\n",
      "178cm 90kg\n",
      "178cm 78kg\n",
      "178cm 78kg\n",
      "178cm 78kg\n",
      "177cm 84kg\n",
      "177cm 84kg\n",
      "185cm 85kg\n",
      "186cm 90kg\n",
      "186cm 90kg\n",
      "186cm 90kg\n",
      "186cm 90kg\n",
      "186cm 90kg\n",
      "176cm 76kg\n",
      "176cm 76kg\n",
      "176cm 76kg\n",
      "176cm 76kg\n",
      "181cm 75kg\n",
      "181cm 75kg\n",
      "181cm 75kg\n",
      "181cm 75kg\n",
      "181cm 75kg\n",
      "181cm 75kg\n",
      "181cm 75kg\n",
      "181cm 75kg\n",
      "181cm 75kg\n",
      "181cm 75kg\n",
      "181cm 75kg\n",
      "181cm 75kg\n",
      "181cm 75kg\n",
      "183cm 90kg\n",
      "183cm 90kg\n",
      "183cm 90kg\n",
      "183cm 90kg\n",
      "183cm 90kg\n",
      "183cm 90kg\n",
      "183cm 90kg\n",
      "183cm 90kg\n",
      "172cm 83kg\n",
      "183cm 94kg\n",
      "183cm 94kg\n",
      "183cm 94kg\n",
      "183cm 94kg\n",
      "183cm 94kg\n",
      "183cm 94kg\n",
      "183cm 94kg\n",
      "183cm 94kg\n",
      "183cm 94kg\n",
      "183cm 94kg\n",
      "183cm 94kg\n",
      "183cm 94kg\n",
      "183cm 94kg\n",
      "183cm 94kg\n",
      "183cm 94kg\n",
      "183cm 94kg\n",
      "183cm 94kg\n",
      "186cm 108kg\n",
      "186cm 108kg\n",
      "186cm 108kg\n",
      "186cm 108kg\n",
      "186cm 108kg\n",
      "186cm 108kg\n",
      "186cm 108kg\n",
      "186cm 108kg\n",
      "186cm 108kg\n",
      "186cm 108kg\n",
      "186cm 108kg\n",
      "186cm 108kg\n",
      "186cm 108kg\n",
      "180cm 81kg\n",
      "180cm 81kg\n",
      "180cm 81kg\n",
      "180cm 81kg\n",
      "180cm 81kg\n",
      "180cm 81kg\n",
      "180cm 81kg\n",
      "180cm 81kg\n",
      "173cm 75kg\n",
      "173cm 75kg\n",
      "173cm 75kg\n",
      "173cm 75kg\n",
      "182cm 87kg\n",
      "185cm 110kg\n",
      "185cm 110kg\n",
      "185cm 110kg\n",
      "185cm 110kg\n",
      "185cm 110kg\n",
      "185cm 110kg\n",
      "185cm 110kg\n",
      "185cm 110kg\n",
      "185cm 110kg\n",
      "185cm 110kg\n",
      "185cm 110kg\n",
      "185cm 110kg\n",
      "185cm 110kg\n",
      "185cm 110kg\n",
      "185cm 110kg\n",
      "185cm 110kg\n",
      "178cm 99kg\n",
      "178cm 99kg\n",
      "189cm 105kg\n",
      "189cm 105kg\n",
      "189cm 105kg\n",
      "189cm 105kg\n",
      "189cm 105kg\n",
      "189cm 105kg\n",
      "189cm 105kg\n",
      "189cm 105kg\n",
      "189cm 105kg\n",
      "189cm 105kg\n",
      "189cm 105kg\n",
      "170cm 75kg\n",
      "170cm 75kg\n",
      "170cm 75kg\n",
      "175cm 76kg\n",
      "175cm 76kg\n",
      "175cm 76kg\n",
      "175cm 76kg\n",
      "175cm 76kg\n",
      "174cm 81kg\n",
      "174cm 81kg\n",
      "174cm 81kg\n",
      "174cm 81kg\n",
      "174cm 81kg\n",
      "174cm 81kg\n",
      "188cm 100kg\n",
      "188cm 100kg\n",
      "188cm 100kg\n",
      "188cm 100kg\n",
      "188cm 100kg\n",
      "188cm 100kg\n",
      "188cm 100kg\n",
      "188cm 100kg\n",
      "188cm 100kg\n",
      "188cm 100kg\n",
      "188cm 100kg\n",
      "187cm 98kg\n",
      "179cm 78kg\n",
      "179cm 78kg\n",
      "190cm 92kg\n",
      "190cm 92kg\n",
      "190cm 92kg\n",
      "190cm 92kg\n",
      "190cm 92kg\n",
      "190cm 92kg\n",
      "190cm 92kg\n",
      "190cm 92kg\n",
      "177cm 80kg\n",
      "177cm 80kg\n",
      "177cm 80kg\n",
      "183cm 100kg\n",
      "183cm 100kg\n",
      "183cm 100kg\n",
      "183cm 100kg\n",
      "183cm 100kg\n",
      "183cm 100kg\n",
      "183cm 93kg\n",
      "183cm 93kg\n",
      "185cm 99kg\n",
      "185cm 99kg\n",
      "180cm 84kg\n",
      "180cm 84kg\n",
      "180cm 84kg\n",
      "180cm 84kg\n",
      "180cm 84kg\n",
      "180cm 84kg\n",
      "180cm 84kg\n",
      "180cm 84kg\n",
      "180cm 84kg\n",
      "180cm 84kg\n",
      "180cm 84kg\n",
      "180cm 84kg\n",
      "180cm 84kg\n",
      "180cm 84kg\n",
      "182cm 105kg\n",
      "182cm 105kg\n",
      "182cm 105kg\n",
      "182cm 105kg\n",
      "182cm 105kg\n",
      "182cm 105kg\n",
      "182cm 105kg\n",
      "182cm 105kg\n",
      "182cm 105kg\n",
      "182cm 105kg\n",
      "182cm 105kg\n",
      "187cm 107kg\n",
      "187cm 107kg\n",
      "187cm 107kg\n",
      "180cm 80kg\n",
      "180cm 80kg\n",
      "180cm 80kg\n",
      "180cm 80kg\n",
      "180cm 80kg\n",
      "184cm 80kg\n",
      "184cm 80kg\n",
      "184cm 80kg\n",
      "184cm 80kg\n",
      "184cm 80kg\n",
      "184cm 85kg\n",
      "184cm 85kg\n",
      "184cm 85kg\n",
      "190cm 113kg\n",
      "190cm 113kg\n",
      "188cm 100kg\n",
      "188cm 100kg\n",
      "189cm 102kg\n",
      "189cm 102kg\n",
      "181cm 75kg\n",
      "181cm 75kg\n",
      "181cm 75kg\n",
      "181cm 75kg\n",
      "181cm 75kg\n",
      "188cm 89kg\n",
      "188cm 89kg\n",
      "188cm 89kg\n",
      "188cm 89kg\n",
      "188cm 89kg\n",
      "188cm 89kg\n",
      "188cm 89kg\n",
      "188cm 89kg\n",
      "188cm 89kg\n",
      "188cm 89kg\n",
      "185cm 92kg\n",
      "185cm 92kg\n",
      "185cm 92kg\n",
      "185cm 92kg\n",
      "185cm 92kg\n",
      "185cm 92kg\n",
      "185cm 92kg\n",
      "185cm 92kg\n",
      "185cm 92kg\n",
      "185cm 92kg\n",
      "185cm 92kg\n",
      "185cm 92kg\n",
      "185cm 92kg\n",
      "185cm 92kg\n",
      "178cm 87kg\n",
      "178cm 87kg\n",
      "178cm 87kg\n",
      "178cm 87kg\n",
      "178cm 87kg\n",
      "178cm 87kg\n",
      "178cm 87kg\n",
      "178cm 87kg\n",
      "178cm 87kg\n",
      "178cm 87kg\n",
      "178cm 87kg\n",
      "178cm 87kg\n",
      "184cm 80kg\n",
      "184cm 80kg\n",
      "184cm 80kg\n",
      "184cm 80kg\n",
      "184cm 80kg\n",
      "184cm 80kg\n",
      "184cm 80kg\n",
      "178cm 80kg\n",
      "178cm 80kg\n",
      "178cm 80kg\n",
      "178cm 80kg\n",
      "178cm 80kg\n",
      "178cm 80kg\n",
      "178cm 80kg\n",
      "178cm 80kg\n",
      "178cm 80kg\n",
      "178cm 80kg\n",
      "178cm 80kg\n",
      "178cm 80kg\n",
      "178cm 80kg\n",
      "178cm 80kg\n",
      "182cm 85kg\n",
      "182cm 85kg\n",
      "182cm 85kg\n",
      "182cm 85kg\n",
      "179cm 77kg\n",
      "179cm 77kg\n",
      "179cm 77kg\n",
      "179cm 77kg\n",
      "179cm 77kg\n",
      "179cm 77kg\n",
      "179cm 77kg\n",
      "179cm 77kg\n",
      "179cm 77kg\n",
      "179cm 77kg\n",
      "179cm 77kg\n",
      "179cm 77kg\n",
      "179cm 77kg\n",
      "179cm 77kg\n",
      "179cm 77kg\n",
      "179cm 77kg\n",
      "179cm 77kg\n",
      "179cm 92kg\n",
      "179cm 92kg\n",
      "179cm 92kg\n",
      "179cm 92kg\n",
      "179cm 92kg\n",
      "179cm 92kg\n",
      "179cm 92kg\n",
      "185cm 80kg\n",
      "185cm 80kg\n",
      "185cm 80kg\n",
      "185cm 80kg\n",
      "185cm 80kg\n",
      "185cm 80kg\n",
      "185cm 107kg\n",
      "185cm 107kg\n",
      "185cm 107kg\n",
      "185cm 107kg\n",
      "185cm 107kg\n",
      "185cm 107kg\n",
      "185cm 107kg\n",
      "185cm 107kg\n",
      "185cm 107kg\n",
      "185cm 107kg\n",
      "178cm 88kg\n",
      "178cm 88kg\n",
      "178cm 88kg\n",
      "178cm 88kg\n",
      "178cm 88kg\n",
      "178cm 88kg\n",
      "178cm 88kg\n",
      "178cm 88kg\n",
      "178cm 88kg\n",
      "178cm 88kg\n",
      "178cm 88kg\n",
      "178cm 88kg\n",
      "178cm 88kg\n",
      "181cm 86kg\n",
      "181cm 86kg\n",
      "181cm 86kg\n",
      "181cm 86kg\n",
      "181cm 86kg\n",
      "184cm 78kg\n",
      "184cm 78kg\n",
      "184cm 78kg\n",
      "184cm 78kg\n",
      "184cm 78kg\n",
      "185cm 90kg\n",
      "185cm 90kg\n",
      "185cm 90kg\n",
      "185cm 90kg\n",
      "185cm 90kg\n",
      "185cm 90kg\n",
      "185cm 90kg\n",
      "185cm 90kg\n",
      "185cm 90kg\n",
      "185cm 90kg\n",
      "185cm 90kg\n",
      "185cm 90kg\n",
      "185cm 90kg\n",
      "185cm 90kg\n",
      "185cm 90kg\n",
      "185cm 90kg\n",
      "185cm 90kg\n",
      "177cm 77kg\n",
      "187cm 96kg\n",
      "187cm 96kg\n",
      "187cm 96kg\n",
      "187cm 96kg\n",
      "187cm 96kg\n",
      "187cm 96kg\n",
      "187cm 96kg\n",
      "187cm 96kg\n",
      "187cm 96kg\n",
      "187cm 96kg\n",
      "187cm 96kg\n",
      "187cm 96kg\n",
      "187cm 96kg\n",
      "175cm 77kg\n",
      "175cm 77kg\n",
      "175cm 77kg\n",
      "176cm 76kg\n",
      "176cm 76kg\n",
      "176cm 76kg\n",
      "176cm 76kg\n",
      "176cm 76kg\n",
      "176cm 76kg\n",
      "176cm 76kg\n",
      "181cm 75kg\n",
      "181cm 75kg\n",
      "181cm 75kg\n",
      "183cm 80kg\n",
      "183cm 80kg\n",
      "185cm 75kg\n",
      "185cm 75kg\n",
      "185cm 75kg\n",
      "185cm 75kg\n",
      "182cm 91kg\n",
      "182cm 91kg\n",
      "182cm 91kg\n",
      "182cm 91kg\n",
      "182cm 91kg\n",
      "182cm 91kg\n",
      "182cm 91kg\n",
      "182cm 91kg\n",
      "182cm 91kg\n",
      "182cm 91kg\n",
      "182cm 91kg\n",
      "182cm 91kg\n",
      "182cm 91kg\n",
      "182cm 91kg\n",
      "182cm 91kg\n",
      "182cm 91kg\n",
      "182cm 91kg\n",
      "182cm 91kg\n",
      "180cm 75kg\n",
      "180cm 75kg\n",
      "180cm 75kg\n",
      "180cm 75kg\n",
      "180cm 75kg\n",
      "180cm 75kg\n",
      "178cm 102kg\n",
      "178cm 102kg\n",
      "178cm 102kg\n",
      "178cm 102kg\n",
      "178cm 102kg\n",
      "178cm 102kg\n",
      "178cm 102kg\n",
      "178cm 102kg\n",
      "178cm 78kg\n",
      "178cm 78kg\n",
      "178cm 78kg\n",
      "178cm 78kg\n",
      "178cm 78kg\n",
      "178cm 78kg\n",
      "178cm 78kg\n",
      "178cm 78kg\n",
      "185cm 80kg\n",
      "185cm 80kg\n",
      "185cm 80kg\n",
      "184cm 98kg\n",
      "184cm 98kg\n",
      "184cm 98kg\n",
      "184cm 98kg\n",
      "177cm 76kg\n",
      "177cm 76kg\n",
      "177cm 76kg\n",
      "177cm 76kg\n",
      "177cm 76kg\n",
      "177cm 76kg\n",
      "180cm 95kg\n",
      "180cm 95kg\n",
      "180cm 95kg\n",
      "180cm 95kg\n",
      "180cm 95kg\n",
      "180cm 95kg\n",
      "179cm 79kg\n",
      "179cm 79kg\n",
      "179cm 79kg\n",
      "179cm 79kg\n",
      "179cm 79kg\n",
      "179cm 79kg\n",
      "179cm 79kg\n",
      "188cm 95kg\n",
      "188cm 95kg\n",
      "188cm 93kg\n",
      "188cm 93kg\n",
      "193cm 105kg\n",
      "176cm 84kg\n",
      "176cm 84kg\n",
      "176cm 84kg\n",
      "176cm 84kg\n",
      "176cm 84kg\n",
      "176cm 84kg\n",
      "176cm 84kg\n",
      "176cm 84kg\n",
      "188cm 99kg\n",
      "188cm 99kg\n",
      "188cm 99kg\n",
      "188cm 99kg\n",
      "188cm 99kg\n",
      "188cm 99kg\n",
      "188cm 99kg\n",
      "188cm 99kg\n",
      "188cm 99kg\n",
      "188cm 99kg\n",
      "188cm 99kg\n",
      "188cm 99kg\n",
      "188cm 99kg\n",
      "188cm 99kg\n",
      "187cm 90kg\n",
      "187cm 90kg\n",
      "187cm 90kg\n",
      "187cm 90kg\n",
      "187cm 90kg\n",
      "172cm 73kg\n",
      "172cm 73kg\n",
      "172cm 73kg\n",
      "172cm 73kg\n",
      "172cm 73kg\n",
      "172cm 73kg\n",
      "172cm 73kg\n",
      "172cm 73kg\n",
      "172cm 73kg\n",
      "172cm 73kg\n",
      "172cm 73kg\n",
      "172cm 73kg\n",
      "172cm 73kg\n",
      "172cm 73kg\n",
      "174cm 84kg\n",
      "174cm 84kg\n",
      "174cm 84kg\n",
      "174cm 84kg\n",
      "174cm 84kg\n",
      "174cm 84kg\n",
      "174cm 84kg\n",
      "174cm 84kg\n",
      "174cm 84kg\n",
      "174cm 84kg\n",
      "174cm 84kg\n",
      "174cm 84kg\n",
      "179cm 82kg\n",
      "179cm 82kg\n",
      "179cm 82kg\n",
      "179cm 82kg\n",
      "179cm 82kg\n",
      "179cm 82kg\n",
      "179cm 82kg\n",
      "179cm 82kg\n",
      "179cm 82kg\n",
      "179cm 82kg\n",
      "179cm 82kg\n",
      "179cm 82kg\n",
      "179cm 82kg\n",
      "179cm 82kg\n",
      "184cm 90kg\n",
      "184cm 90kg\n",
      "184cm 90kg\n",
      "184cm 90kg\n",
      "184cm 90kg\n",
      "184cm 90kg\n",
      "184cm 90kg\n",
      "184cm 90kg\n",
      "184cm 90kg\n",
      "184cm 90kg\n",
      "184cm 90kg\n",
      "177cm 80kg\n",
      "177cm 80kg\n",
      "183cm 88kg\n",
      "183cm 88kg\n",
      "183cm 88kg\n",
      "183cm 98kg\n",
      "183cm 98kg\n",
      "177cm 83kg\n",
      "179cm 88kg\n",
      "179cm 88kg\n",
      "179cm 88kg\n",
      "179cm 88kg\n",
      "179cm 88kg\n",
      "179cm 88kg\n",
      "183cm 92kg\n",
      "183cm 92kg\n",
      "183cm 92kg\n",
      "183cm 92kg\n",
      "183cm 87kg\n",
      "183cm 87kg\n",
      "183cm 87kg\n",
      "183cm 87kg\n",
      "183cm 87kg\n",
      "183cm 87kg\n",
      "183cm 87kg\n",
      "183cm 87kg\n",
      "183cm 87kg\n",
      "183cm 87kg\n",
      "183cm 87kg\n",
      "183cm 75kg\n",
      "183cm 75kg\n",
      "183cm 75kg\n",
      "183cm 75kg\n",
      "176cm 70kg\n",
      "176cm 70kg\n",
      "176cm 70kg\n",
      "176cm 70kg\n",
      "175cm 87kg\n",
      "175cm 87kg\n",
      "175cm 87kg\n",
      "178cm 90kg\n",
      "178cm 90kg\n",
      "178cm 90kg\n",
      "178cm 90kg\n",
      "178cm 90kg\n",
      "178cm 90kg\n",
      "178cm 90kg\n",
      "178cm 90kg\n",
      "178cm 90kg\n",
      "185cm 90kg\n",
      "185cm 90kg\n",
      "185cm 90kg\n",
      "185cm 90kg\n",
      "174cm 84kg\n",
      "174cm 84kg\n",
      "174cm 84kg\n",
      "174cm 84kg\n",
      "174cm 84kg\n",
      "179cm 85kg\n",
      "179cm 85kg\n",
      "179cm 85kg\n",
      "179cm 85kg\n",
      "179cm 85kg\n",
      "179cm 85kg\n",
      "179cm 85kg\n",
      "179cm 85kg\n",
      "179cm 85kg\n",
      "179cm 85kg\n",
      "181cm 81kg\n",
      "181cm 81kg\n",
      "181cm 81kg\n",
      "181cm 81kg\n",
      "181cm 81kg\n",
      "181cm 81kg\n",
      "181cm 81kg\n",
      "181cm 81kg\n",
      "183cm 85kg\n",
      "183cm 85kg\n",
      "178cm 80kg\n",
      "178cm 80kg\n",
      "178cm 80kg\n",
      "178cm 80kg\n",
      "178cm 80kg\n",
      "178cm 80kg\n",
      "178cm 80kg\n",
      "178cm 80kg\n",
      "178cm 80kg\n",
      "185cm 75kg\n",
      "185cm 75kg\n",
      "185cm 75kg\n",
      "185cm 75kg\n",
      "185cm 75kg\n",
      "185cm 75kg\n",
      "185cm 75kg\n",
      "185cm 75kg\n",
      "185cm 75kg\n",
      "185cm 75kg\n",
      "185cm 75kg\n",
      "185cm 75kg\n",
      "187cm 95kg\n",
      "187cm 95kg\n",
      "187cm 95kg\n",
      "187cm 95kg\n",
      "187cm 95kg\n",
      "187cm 95kg\n",
      "187cm 95kg\n",
      "187cm 95kg\n",
      "187cm 95kg\n",
      "187cm 95kg\n",
      "187cm 95kg\n",
      "177cm 75kg\n",
      "177cm 75kg\n",
      "177cm 75kg\n",
      "177cm 75kg\n",
      "177cm 75kg\n",
      "177cm 75kg\n",
      "177cm 75kg\n",
      "177cm 75kg\n",
      "186cm 80kg\n",
      "186cm 80kg\n",
      "186cm 80kg\n",
      "186cm 80kg\n",
      "186cm 80kg\n",
      "186cm 80kg\n",
      "186cm 80kg\n",
      "186cm 80kg\n",
      "186cm 80kg\n",
      "186cm 80kg\n",
      "186cm 88kg\n",
      "186cm 88kg\n",
      "186cm 88kg\n",
      "186cm 88kg\n",
      "186cm 88kg\n",
      "186cm 88kg\n",
      "182cm 88kg\n",
      "182cm 88kg\n",
      "182cm 88kg\n",
      "182cm 88kg\n",
      "182cm 88kg\n",
      "182cm 88kg\n",
      "186cm 95kg\n",
      "186cm 95kg\n",
      "186cm 95kg\n",
      "186cm 95kg\n",
      "179cm 70kg\n",
      "179cm 70kg\n",
      "179cm 70kg\n",
      "179cm 70kg\n",
      "179cm 70kg\n",
      "179cm 70kg\n",
      "179cm 70kg\n",
      "179cm 70kg\n",
      "179cm 70kg\n",
      "186cm 97kg\n",
      "186cm 97kg\n",
      "186cm 97kg\n",
      "186cm 97kg\n",
      "186cm 97kg\n",
      "186cm 97kg\n",
      "186cm 97kg\n",
      "186cm 97kg\n",
      "186cm 97kg\n",
      "186cm 97kg\n",
      "186cm 97kg\n",
      "186cm 97kg\n",
      "181cm 78kg\n",
      "181cm 78kg\n",
      "181cm 78kg\n",
      "181cm 78kg\n",
      "180cm 88kg\n",
      "180cm 88kg\n",
      "180cm 88kg\n",
      "180cm 88kg\n",
      "180cm 88kg\n",
      "180cm 88kg\n",
      "180cm 88kg\n",
      "180cm 88kg\n",
      "180cm 88kg\n",
      "180cm 88kg\n",
      "180cm 88kg\n",
      "180cm 88kg\n",
      "181cm 96kg\n",
      "181cm 96kg\n",
      "181cm 96kg\n",
      "188cm 91kg\n",
      "188cm 91kg\n",
      "188cm 91kg\n",
      "188cm 91kg\n",
      "178cm 78kg\n",
      "178cm 78kg\n",
      "178cm 78kg\n",
      "178cm 78kg\n",
      "178cm 78kg\n",
      "178cm 78kg\n",
      "178cm 78kg\n",
      "178cm 78kg\n",
      "175cm 75kg\n",
      "175cm 75kg\n",
      "175cm 75kg\n",
      "175cm 75kg\n",
      "175cm 75kg\n",
      "175cm 75kg\n",
      "175cm 75kg\n",
      "175cm 75kg\n",
      "175cm 75kg\n",
      "175cm 75kg\n",
      "175cm 75kg\n",
      "175cm 75kg\n",
      "175cm 75kg\n",
      "175cm 75kg\n",
      "175cm 75kg\n",
      "175cm 75kg\n",
      "175cm 75kg\n",
      "184cm 78kg\n",
      "184cm 78kg\n",
      "184cm 78kg\n",
      "184cm 78kg\n",
      "184cm 78kg\n",
      "184cm 78kg\n",
      "184cm 78kg\n",
      "184cm 78kg\n",
      "184cm 78kg\n",
      "184cm 78kg\n",
      "184cm 78kg\n",
      "184cm 78kg\n",
      "184cm 78kg\n",
      "184cm 78kg\n",
      "184cm 78kg\n",
      "184cm 78kg\n",
      "194cm 130kg\n",
      "194cm 130kg\n",
      "194cm 130kg\n",
      "194cm 130kg\n",
      "194cm 130kg\n",
      "194cm 130kg\n",
      "194cm 130kg\n",
      "194cm 130kg\n",
      "194cm 130kg\n",
      "194cm 130kg\n",
      "194cm 130kg\n",
      "194cm 130kg\n",
      "194cm 130kg\n",
      "178cm 72kg\n",
      "178cm 72kg\n",
      "178cm 72kg\n",
      "183cm 80kg\n",
      "183cm 80kg\n",
      "183cm 80kg\n",
      "183cm 80kg\n",
      "183cm 80kg\n",
      "183cm 80kg\n",
      "183cm 80kg\n",
      "183cm 80kg\n",
      "183cm 80kg\n",
      "183cm 96kg\n",
      "183cm 96kg\n",
      "183cm 96kg\n",
      "183cm 96kg\n",
      "183cm 96kg\n",
      "183cm 96kg\n",
      "183cm 96kg\n",
      "183cm 96kg\n",
      "183cm 96kg\n",
      "183cm 96kg\n",
      "183cm 96kg\n",
      "183cm 96kg\n",
      "183cm 96kg\n",
      "183cm 96kg\n",
      "183cm 96kg\n",
      "183cm 96kg\n",
      "183cm 96kg\n",
      "183cm 96kg\n",
      "175cm 68kg\n",
      "180cm 82kg\n",
      "180cm 82kg\n",
      "180cm 82kg\n",
      "180cm 82kg\n",
      "180cm 82kg\n",
      "186cm 93kg\n",
      "186cm 93kg\n",
      "186cm 93kg\n",
      "185cm 102kg\n",
      "185cm 102kg\n",
      "185cm 102kg\n",
      "185cm 102kg\n",
      "185cm 102kg\n",
      "185cm 102kg\n",
      "185cm 102kg\n",
      "185cm 102kg\n",
      "185cm 102kg\n",
      "185cm 102kg\n",
      "185cm 102kg\n",
      "185cm 102kg\n",
      "185cm 102kg\n",
      "185cm 102kg\n",
      "185cm 102kg\n",
      "180cm 91kg\n",
      "180cm 91kg\n",
      "180cm 91kg\n",
      "180cm 91kg\n",
      "180cm 91kg\n",
      "180cm 91kg\n",
      "180cm 91kg\n",
      "180cm 91kg\n",
      "180cm 91kg\n",
      "180cm 91kg\n",
      "180cm 91kg\n",
      "180cm 80kg\n",
      "180cm 80kg\n",
      "180cm 80kg\n",
      "180cm 80kg\n",
      "180cm 80kg\n",
      "180cm 80kg\n",
      "180cm 80kg\n",
      "180cm 80kg\n",
      "180cm 80kg\n",
      "180cm 80kg\n",
      "180cm 80kg\n",
      "180cm 80kg\n",
      "180cm 80kg\n",
      "180cm 80kg\n",
      "180cm 80kg\n",
      "180cm 80kg\n",
      "180cm 85kg\n",
      "180cm 85kg\n",
      "180cm 85kg\n",
      "180cm 85kg\n",
      "180cm 85kg\n",
      "180cm 85kg\n",
      "180cm 85kg\n",
      "180cm 85kg\n",
      "180cm 85kg\n",
      "175cm 70kg\n",
      "175cm 70kg\n",
      "175cm 70kg\n",
      "175cm 70kg\n",
      "175cm 70kg\n",
      "175cm 70kg\n",
      "175cm 70kg\n",
      "175cm 70kg\n",
      "175cm 70kg\n",
      "175cm 70kg\n",
      "175cm 70kg\n",
      "175cm 70kg\n",
      "175cm 70kg\n",
      "175cm 70kg\n",
      "175cm 70kg\n",
      "182cm 95kg\n",
      "182cm 95kg\n",
      "182cm 95kg\n",
      "182cm 82kg\n",
      "182cm 82kg\n",
      "182cm 82kg\n",
      "182cm 82kg\n",
      "182cm 82kg\n",
      "182cm 82kg\n",
      "182cm 82kg\n",
      "182cm 82kg\n",
      "182cm 82kg\n",
      "182cm 82kg\n",
      "182cm 82kg\n",
      "182cm 82kg\n",
      "182cm 82kg\n",
      "186cm 86kg\n",
      "186cm 86kg\n",
      "185cm 92kg\n",
      "185cm 92kg\n",
      "185cm 92kg\n",
      "185cm 98kg\n",
      "185cm 98kg\n",
      "185cm 98kg\n",
      "185cm 98kg\n",
      "185cm 98kg\n",
      "185cm 98kg\n",
      "185cm 98kg\n",
      "185cm 98kg\n",
      "185cm 98kg\n",
      "185cm 98kg\n",
      "185cm 98kg\n",
      "185cm 98kg\n",
      "185cm 75kg\n",
      "185cm 75kg\n",
      "185cm 75kg\n",
      "185cm 78kg\n",
      "185cm 78kg\n",
      "176cm 78kg\n",
      "176cm 78kg\n",
      "176cm 78kg\n",
      "176cm 78kg\n",
      "176cm 78kg\n",
      "176cm 78kg\n",
      "176cm 78kg\n",
      "176cm 78kg\n",
      "176cm 78kg\n",
      "176cm 78kg\n",
      "176cm 78kg\n",
      "176cm 78kg\n",
      "176cm 78kg\n",
      "176cm 80kg\n",
      "176cm 80kg\n",
      "176cm 80kg\n",
      "176cm 80kg\n",
      "183cm 89kg\n",
      "183cm 89kg\n",
      "183cm 89kg\n",
      "178cm 83kg\n",
      "178cm 83kg\n",
      "178cm 83kg\n",
      "178cm 83kg\n",
      "178cm 83kg\n",
      "178cm 83kg\n",
      "178cm 83kg\n",
      "178cm 83kg\n",
      "185cm 90kg\n",
      "185cm 90kg\n",
      "185cm 90kg\n",
      "185cm 90kg\n",
      "185cm 90kg\n",
      "185cm 90kg\n",
      "185cm 90kg\n",
      "185cm 90kg\n",
      "185cm 90kg\n",
      "185cm 90kg\n",
      "185cm 90kg\n",
      "185cm 90kg\n",
      "185cm 90kg\n",
      "185cm 90kg\n",
      "185cm 90kg\n",
      "185cm 90kg\n",
      "185cm 90kg\n",
      "185cm 90kg\n",
      "185cm 90kg\n",
      "185cm 90kg\n",
      "175cm 80kg\n",
      "175cm 80kg\n",
      "175cm 80kg\n",
      "182cm 85kg\n",
      "182cm 85kg\n",
      "182cm 85kg\n",
      "182cm 85kg\n",
      "182cm 85kg\n",
      "183cm 89kg\n",
      "183cm 89kg\n",
      "183cm 89kg\n",
      "183cm 89kg\n",
      "183cm 89kg\n",
      "183cm 89kg\n",
      "183cm 89kg\n",
      "183cm 89kg\n",
      "183cm 89kg\n",
      "183cm 89kg\n",
      "183cm 89kg\n",
      "183cm 89kg\n",
      "183cm 89kg\n",
      "183cm 89kg\n",
      "183cm 89kg\n",
      "183cm 89kg\n",
      "184cm 85kg\n",
      "184cm 85kg\n",
      "184cm 85kg\n",
      "184cm 85kg\n",
      "184cm 85kg\n",
      "183cm 83kg\n",
      "183cm 80kg\n",
      "183cm 80kg\n",
      "183cm 80kg\n",
      "188cm 84kg\n",
      "188cm 84kg\n",
      "188cm 84kg\n",
      "188cm 84kg\n",
      "188cm 84kg\n",
      "188cm 84kg\n",
      "188cm 84kg\n",
      "188cm 84kg\n",
      "188cm 84kg\n",
      "183cm 90kg\n",
      "183cm 90kg\n",
      "183cm 90kg\n",
      "183cm 90kg\n",
      "185cm 84kg\n",
      "185cm 84kg\n",
      "185cm 84kg\n",
      "185cm 84kg\n",
      "177cm 77kg\n",
      "177cm 77kg\n",
      "186cm 86kg\n",
      "186cm 86kg\n",
      "186cm 86kg\n",
      "186cm 86kg\n",
      "186cm 86kg\n",
      "186cm 86kg\n",
      "186cm 86kg\n",
      "186cm 86kg\n",
      "186cm 86kg\n",
      "186cm 86kg\n",
      "180cm 73kg\n",
      "180cm 73kg\n",
      "180cm 73kg\n",
      "180cm 73kg\n",
      "180cm 73kg\n",
      "180cm 73kg\n",
      "180cm 73kg\n",
      "180cm 73kg\n",
      "180cm 73kg\n",
      "180cm 73kg\n",
      "187cm 100kg\n",
      "187cm 100kg\n",
      "187cm 100kg\n",
      "187cm 100kg\n",
      "187cm 100kg\n",
      "187cm 100kg\n",
      "187cm 100kg\n",
      "184cm 86kg\n",
      "183cm 75kg\n",
      "183cm 75kg\n",
      "183cm 75kg\n",
      "186cm 95kg\n",
      "186cm 95kg\n",
      "186cm 95kg\n",
      "186cm 95kg\n",
      "186cm 95kg\n",
      "186cm 95kg\n",
      "186cm 95kg\n",
      "186cm 95kg\n",
      "183cm 77kg\n",
      "183cm 77kg\n",
      "183cm 77kg\n",
      "184cm 83kg\n",
      "181cm 73kg\n",
      "182cm 90kg\n",
      "184cm 97kg\n",
      "184cm 97kg\n",
      "184cm 97kg\n",
      "184cm 97kg\n",
      "184cm 97kg\n",
      "184cm 97kg\n",
      "184cm 97kg\n",
      "184cm 97kg\n",
      "184cm 97kg\n",
      "184cm 97kg\n",
      "179cm 76kg\n",
      "179cm 76kg\n",
      "172cm 80kg\n",
      "172cm 80kg\n",
      "172cm 80kg\n",
      "172cm 80kg\n",
      "172cm 80kg\n",
      "172cm 80kg\n",
      "172cm 80kg\n",
      "172cm 80kg\n",
      "172cm 80kg\n",
      "172cm 80kg\n",
      "172cm 80kg\n",
      "172cm 80kg\n",
      "172cm 80kg\n",
      "172cm 80kg\n",
      "184cm 94kg\n",
      "184cm 94kg\n",
      "184cm 94kg\n",
      "184cm 94kg\n",
      "184cm 94kg\n",
      "184cm 94kg\n",
      "184cm 94kg\n",
      "184cm 94kg\n",
      "184cm 94kg\n",
      "184cm 94kg\n",
      "176cm 72kg\n",
      "176cm 72kg\n",
      "176cm 72kg\n",
      "176cm 72kg\n",
      "187cm 100kg\n",
      "187cm 100kg\n",
      "187cm 100kg\n",
      "187cm 100kg\n",
      "187cm 100kg\n",
      "187cm 100kg\n",
      "187cm 100kg\n",
      "187cm 100kg\n",
      "187cm 100kg\n",
      "187cm 100kg\n",
      "187cm 100kg\n",
      "187cm 100kg\n",
      "187cm 100kg\n",
      "187cm 100kg\n",
      "187cm 100kg\n",
      "182cm 83kg\n",
      "182cm 83kg\n",
      "182cm 83kg\n",
      "182cm 83kg\n",
      "182cm 83kg\n",
      "182cm 83kg\n",
      "182cm 83kg\n",
      "182cm 83kg\n",
      "182cm 83kg\n",
      "182cm 83kg\n",
      "182cm 83kg\n",
      "182cm 83kg\n",
      "182cm 83kg\n",
      "182cm 83kg\n",
      "182cm 83kg\n",
      "182cm 83kg\n",
      "182cm 83kg\n",
      "182cm 83kg\n",
      "182cm 83kg\n",
      "182cm 83kg\n",
      "175cm 75kg\n",
      "175cm 75kg\n",
      "175cm 75kg\n",
      "175cm 75kg\n",
      "175cm 75kg\n",
      "175cm 75kg\n",
      "175cm 75kg\n",
      "175cm 75kg\n",
      "175cm 75kg\n",
      "177cm 78kg\n",
      "185cm 90kg\n",
      "185cm 90kg\n",
      "185cm 90kg\n",
      "185cm 90kg\n",
      "185cm 90kg\n",
      "185cm 90kg\n",
      "185cm 90kg\n",
      "185cm 90kg\n",
      "185cm 90kg\n",
      "185cm 90kg\n",
      "185cm 90kg\n",
      "185cm 90kg\n",
      "176cm 76kg\n",
      "176cm 76kg\n",
      "176cm 76kg\n",
      "176cm 76kg\n",
      "176cm 76kg\n",
      "176cm 76kg\n",
      "176cm 76kg\n",
      "176cm 76kg\n",
      "180cm 67kg\n",
      "180cm 67kg\n",
      "185cm 92kg\n",
      "185cm 92kg\n",
      "185cm 92kg\n",
      "185cm 92kg\n",
      "185cm 92kg\n",
      "185cm 78kg\n",
      "185cm 78kg\n",
      "185cm 78kg\n",
      "185cm 78kg\n",
      "185cm 78kg\n",
      "185cm 78kg\n",
      "181cm 80kg\n",
      "181cm 80kg\n",
      "181cm 80kg\n",
      "181cm 80kg\n",
      "180cm 85kg\n",
      "180cm 85kg\n",
      "180cm 85kg\n",
      "180cm 85kg\n",
      "180cm 85kg\n",
      "180cm 85kg\n",
      "180cm 85kg\n",
      "180cm 85kg\n",
      "180cm 85kg\n",
      "175cm 74kg\n",
      "175cm 74kg\n",
      "175cm 74kg\n",
      "175cm 74kg\n",
      "175cm 74kg\n",
      "175cm 74kg\n",
      "175cm 74kg\n",
      "175cm 74kg\n",
      "175cm 74kg\n",
      "175cm 74kg\n",
      "175cm 74kg\n",
      "175cm 74kg\n",
      "175cm 74kg\n",
      "175cm 74kg\n",
      "178cm 73kg\n",
      "178cm 73kg\n",
      "178cm 73kg\n",
      "185cm 95kg\n",
      "185cm 95kg\n",
      "185cm 95kg\n",
      "185cm 95kg\n",
      "185cm 95kg\n",
      "185cm 95kg\n",
      "175cm 78kg\n",
      "175cm 78kg\n",
      "175cm 78kg\n",
      "175cm 78kg\n",
      "182cm 85kg\n",
      "182cm 85kg\n",
      "182cm 85kg\n",
      "181cm 74kg\n",
      "181cm 74kg\n",
      "181cm 74kg\n",
      "181cm 74kg\n",
      "181cm 74kg\n",
      "181cm 74kg\n",
      "181cm 74kg\n",
      "181cm 74kg\n",
      "181cm 74kg\n",
      "181cm 74kg\n",
      "181cm 74kg\n",
      "181cm 74kg\n",
      "181cm 74kg\n",
      "180cm 92kg\n",
      "180cm 92kg\n",
      "180cm 92kg\n",
      "186cm 92kg\n",
      "186cm 92kg\n",
      "186cm 92kg\n",
      "186cm 92kg\n",
      "186cm 92kg\n",
      "187cm 94kg\n",
      "187cm 94kg\n",
      "187cm 94kg\n",
      "187cm 94kg\n",
      "187cm 94kg\n",
      "187cm 94kg\n",
      "187cm 94kg\n",
      "187cm 94kg\n",
      "187cm 94kg\n",
      "187cm 94kg\n",
      "187cm 94kg\n",
      "187cm 94kg\n",
      "183cm 98kg\n",
      "183cm 98kg\n",
      "188cm 88kg\n",
      "188cm 88kg\n",
      "188cm 88kg\n",
      "188cm 88kg\n",
      "188cm 88kg\n",
      "188cm 88kg\n",
      "188cm 88kg\n",
      "188cm 88kg\n",
      "185cm 87kg\n",
      "185cm 87kg\n",
      "185cm 87kg\n",
      "185cm 87kg\n",
      "185cm 87kg\n",
      "185cm 87kg\n",
      "183cm 95kg\n",
      "183cm 95kg\n",
      "183cm 95kg\n",
      "183cm 95kg\n",
      "178cm 85kg\n",
      "178cm 85kg\n",
      "178cm 85kg\n",
      "175cm 75kg\n",
      "175cm 75kg\n",
      "175cm 75kg\n",
      "175cm 75kg\n",
      "175cm 75kg\n",
      "175cm 75kg\n",
      "175cm 75kg\n",
      "178cm 76kg\n",
      "178cm 76kg\n",
      "178cm 76kg\n",
      "178cm 76kg\n",
      "178cm 76kg\n",
      "178cm 76kg\n",
      "178cm 76kg\n",
      "178cm 76kg\n",
      "180cm 90kg\n",
      "180cm 90kg\n",
      "180cm 90kg\n",
      "180cm 90kg\n",
      "180cm 90kg\n",
      "180cm 90kg\n",
      "180cm 90kg\n",
      "180cm 90kg\n",
      "180cm 90kg\n",
      "180cm 90kg\n",
      "180cm 90kg\n",
      "180cm 90kg\n",
      "180cm 90kg\n",
      "180cm 90kg\n",
      "177cm 75kg\n",
      "177cm 75kg\n",
      "177cm 75kg\n",
      "177cm 75kg\n",
      "177cm 75kg\n",
      "178cm 73kg\n",
      "178cm 73kg\n",
      "178cm 73kg\n",
      "178cm 73kg\n",
      "178cm 73kg\n",
      "178cm 73kg\n",
      "178cm 73kg\n",
      "178cm 73kg\n",
      "178cm 73kg\n",
      "178cm 73kg\n",
      "178cm 73kg\n",
      "187cm 130kg\n",
      "187cm 130kg\n",
      "187cm 130kg\n",
      "187cm 130kg\n",
      "187cm 130kg\n",
      "187cm 130kg\n",
      "187cm 130kg\n",
      "187cm 130kg\n",
      "187cm 130kg\n",
      "187cm 130kg\n",
      "187cm 130kg\n",
      "187cm 130kg\n",
      "187cm 130kg\n",
      "187cm 130kg\n",
      "187cm 130kg\n",
      "187cm 130kg\n",
      "188cm 100kg\n",
      "188cm 100kg\n",
      "188cm 100kg\n",
      "188cm 100kg\n",
      "188cm 100kg\n",
      "188cm 100kg\n",
      "188cm 100kg\n",
      "188cm 100kg\n",
      "188cm 100kg\n",
      "188cm 100kg\n",
      "188cm 100kg\n",
      "188cm 100kg\n",
      "188cm 100kg\n",
      "183cm 88kg\n",
      "183cm 88kg\n",
      "180cm 106kg\n",
      "180cm 106kg\n",
      "180cm 106kg\n",
      "180cm 106kg\n",
      "180cm 106kg\n",
      "180cm 106kg\n",
      "180cm 106kg\n",
      "180cm 106kg\n",
      "180cm 106kg\n",
      "180cm 106kg\n",
      "180cm 106kg\n",
      "180cm 106kg\n",
      "180cm 106kg\n",
      "184cm 84kg\n",
      "184cm 84kg\n",
      "184cm 84kg\n",
      "184cm 84kg\n",
      "184cm 84kg\n",
      "184cm 84kg\n",
      "174cm 78kg\n",
      "174cm 78kg\n",
      "174cm 78kg\n",
      "174cm 78kg\n",
      "174cm 78kg\n",
      "174cm 78kg\n",
      "190cm 95kg\n",
      "190cm 95kg\n",
      "190cm 95kg\n",
      "190cm 95kg\n",
      "190cm 95kg\n",
      "190cm 95kg\n",
      "181cm 99kg\n",
      "174cm 83kg\n",
      "174cm 83kg\n",
      "174cm 83kg\n",
      "174cm 83kg\n",
      "176cm 69kg\n",
      "176cm 69kg\n",
      "176cm 69kg\n",
      "176cm 69kg\n",
      "176cm 69kg\n",
      "176cm 69kg\n",
      "176cm 69kg\n",
      "176cm 87kg\n",
      "176cm 87kg\n",
      "176cm 87kg\n",
      "176cm 87kg\n",
      "176cm 87kg\n",
      "176cm 87kg\n",
      "176cm 87kg\n",
      "176cm 87kg\n",
      "176cm 87kg\n",
      "190cm 92kg\n",
      "180cm 79kg\n",
      "180cm 79kg\n",
      "180cm 79kg\n",
      "180cm 79kg\n",
      "180cm 79kg\n",
      "180cm 79kg\n",
      "180cm 79kg\n",
      "189cm 94kg\n",
      "189cm 94kg\n",
      "177cm 78kg\n",
      "177cm 78kg\n",
      "177cm 78kg\n",
      "177cm 78kg\n",
      "183cm 96kg\n",
      "183cm 96kg\n",
      "183cm 96kg\n",
      "183cm 96kg\n",
      "183cm 96kg\n",
      "183cm 96kg\n",
      "183cm 96kg\n",
      "183cm 96kg\n",
      "183cm 96kg\n",
      "183cm 96kg\n",
      "183cm 96kg\n",
      "181cm 82kg\n",
      "181cm 82kg\n",
      "181cm 82kg\n",
      "181cm 82kg\n",
      "181cm 82kg\n",
      "181cm 82kg\n",
      "181cm 82kg\n"
     ]
    }
   ],
   "source": [
    "import math\n",
    "\n",
    "weight = []\n",
    "height = []\n",
    "\n",
    "DictList = {}\n",
    "print(DictList)\n",
    "for index in height_weight.index:\n",
    "    #print(type(h_w_np[index]))\n",
    "    if str == type(height_weight[index]):\n",
    "        value = height_weight[index].split('/')\n",
    "        print(value[0], value[1])\n",
    "        weight_notKg = value[1].split('k')[0]\n",
    "        height_notCm = value[0].split('c')[0]\n",
    "        weight.append(float(weight_notKg))\n",
    "        height.append(float(height_notCm))\n",
    "\n",
    "    elif math.isnan(height_weight[index]):\n",
    "        weight.append(height_weight[index])\n",
    "        height.append(height_weight[index])\n",
    "\n",
    "regular_season['weight'] = weight\n",
    "regular_season['height'] = height\n",
    "regular_season['weight_per_height'] = regular_season['weight'].astype(float) / regular_season['height'].astype(float)"
   ],
   "metadata": {
    "collapsed": false,
    "pycharm": {
     "name": "#%%\n"
    }
   }
  },
  {
   "cell_type": "code",
   "execution_count": 103,
   "outputs": [
    {
     "data": {
      "text/plain": "     height/weight  height  weight  weight_per_height\n0       177cm/93kg   177.0    93.0           0.525424\n1       180cm/72kg   180.0    72.0           0.400000\n2       180cm/72kg   180.0    72.0           0.400000\n3       180cm/72kg   180.0    72.0           0.400000\n4       180cm/72kg   180.0    72.0           0.400000\n...            ...     ...     ...                ...\n2449    181cm/82kg   181.0    82.0           0.453039\n2450    181cm/82kg   181.0    82.0           0.453039\n2451    181cm/82kg   181.0    82.0           0.453039\n2452    181cm/82kg   181.0    82.0           0.453039\n2453    181cm/82kg   181.0    82.0           0.453039\n\n[2454 rows x 4 columns]",
      "text/html": "<div>\n<style scoped>\n    .dataframe tbody tr th:only-of-type {\n        vertical-align: middle;\n    }\n\n    .dataframe tbody tr th {\n        vertical-align: top;\n    }\n\n    .dataframe thead th {\n        text-align: right;\n    }\n</style>\n<table border=\"1\" class=\"dataframe\">\n  <thead>\n    <tr style=\"text-align: right;\">\n      <th></th>\n      <th>height/weight</th>\n      <th>height</th>\n      <th>weight</th>\n      <th>weight_per_height</th>\n    </tr>\n  </thead>\n  <tbody>\n    <tr>\n      <th>0</th>\n      <td>177cm/93kg</td>\n      <td>177.0</td>\n      <td>93.0</td>\n      <td>0.525424</td>\n    </tr>\n    <tr>\n      <th>1</th>\n      <td>180cm/72kg</td>\n      <td>180.0</td>\n      <td>72.0</td>\n      <td>0.400000</td>\n    </tr>\n    <tr>\n      <th>2</th>\n      <td>180cm/72kg</td>\n      <td>180.0</td>\n      <td>72.0</td>\n      <td>0.400000</td>\n    </tr>\n    <tr>\n      <th>3</th>\n      <td>180cm/72kg</td>\n      <td>180.0</td>\n      <td>72.0</td>\n      <td>0.400000</td>\n    </tr>\n    <tr>\n      <th>4</th>\n      <td>180cm/72kg</td>\n      <td>180.0</td>\n      <td>72.0</td>\n      <td>0.400000</td>\n    </tr>\n    <tr>\n      <th>...</th>\n      <td>...</td>\n      <td>...</td>\n      <td>...</td>\n      <td>...</td>\n    </tr>\n    <tr>\n      <th>2449</th>\n      <td>181cm/82kg</td>\n      <td>181.0</td>\n      <td>82.0</td>\n      <td>0.453039</td>\n    </tr>\n    <tr>\n      <th>2450</th>\n      <td>181cm/82kg</td>\n      <td>181.0</td>\n      <td>82.0</td>\n      <td>0.453039</td>\n    </tr>\n    <tr>\n      <th>2451</th>\n      <td>181cm/82kg</td>\n      <td>181.0</td>\n      <td>82.0</td>\n      <td>0.453039</td>\n    </tr>\n    <tr>\n      <th>2452</th>\n      <td>181cm/82kg</td>\n      <td>181.0</td>\n      <td>82.0</td>\n      <td>0.453039</td>\n    </tr>\n    <tr>\n      <th>2453</th>\n      <td>181cm/82kg</td>\n      <td>181.0</td>\n      <td>82.0</td>\n      <td>0.453039</td>\n    </tr>\n  </tbody>\n</table>\n<p>2454 rows × 4 columns</p>\n</div>"
     },
     "execution_count": 103,
     "metadata": {},
     "output_type": "execute_result"
    }
   ],
   "source": [
    "regular_season.loc[:,['height/weight', 'height', 'weight', 'weight_per_height']]"
   ],
   "metadata": {
    "collapsed": false,
    "pycharm": {
     "name": "#%%\n"
    }
   }
  },
  {
   "cell_type": "code",
   "execution_count": 104,
   "outputs": [
    {
     "name": "stderr",
     "output_type": "stream",
     "text": [
      "c:\\users\\user\\appdata\\local\\programs\\python\\python39\\lib\\site-packages\\seaborn\\_decorators.py:36: FutureWarning: Pass the following variables as keyword args: x, y. From version 0.12, the only valid positional argument will be `data`, and passing other arguments without an explicit keyword will result in an error or misinterpretation.\n",
      "  warnings.warn(\n",
      "c:\\users\\user\\appdata\\local\\programs\\python\\python39\\lib\\site-packages\\seaborn\\_decorators.py:36: FutureWarning: Pass the following variables as keyword args: x, y. From version 0.12, the only valid positional argument will be `data`, and passing other arguments without an explicit keyword will result in an error or misinterpretation.\n",
      "  warnings.warn(\n"
     ]
    },
    {
     "data": {
      "text/plain": "<Figure size 1080x360 with 2 Axes>",
      "image/png": "[encoded data removed]"
     },
     "metadata": {
      "needs_background": "light"
     },
     "output_type": "display_data"
    }
   ],
   "source": [
    "plt.figure(figsize=(15,5))\n",
    "plt.subplot(1,2,1)\n",
    "corr = regular_season['weight_per_height'].corr(regular_season['OBP'])\n",
    "sns.scatterplot(regular_season['weight_per_height'], regular_season['OBP'])\n",
    "\n",
    "plt.title(\"corr : \" + str(np.round(corr, 2)), fontsize=15)\n",
    "plt.ylabel('regular OBP', fontsize= 12)\n",
    "plt.xlabel('weight/height', fontsize= 12)\n",
    "\n",
    "plt.subplot(1,2,2)\n",
    "corr = regular_season['weight_per_height'].corr(regular_season['SLG'])\n",
    "sns.scatterplot(regular_season['weight_per_height'], regular_season['SLG'])\n",
    "plt.title(\"corr : \" + str(np.round(corr, 2)), fontsize=15)\n",
    "plt.ylabel('regular SLG', fontsize= 12)\n",
    "plt.xlabel('weight/height', fontsize= 12)\n",
    "\n",
    "plt.show()"
   ],
   "metadata": {
    "collapsed": false,
    "pycharm": {
     "name": "#%%\n"
    }
   }
  },
  {
   "cell_type": "markdown",
   "source": [
    "# 포지션, 타석 방법 나누기"
   ],
   "metadata": {
    "collapsed": false
   }
  },
  {
   "cell_type": "code",
   "execution_count": 105,
   "outputs": [
    {
     "data": {
      "text/plain": "내야수(우투우타)    643\n외야수(우투우타)    230\n외야수(좌투좌타)    201\n포수(우투우타)     189\n외야수(우투좌타)    184\n내야수(우투좌타)    141\n내야수(좌투좌타)     36\n포수(우투좌타)      14\n외야수(우투양타)      7\n내야수(우투양타)      7\nName: position, dtype: int64"
     },
     "execution_count": 105,
     "metadata": {},
     "output_type": "execute_result"
    }
   ],
   "source": [
    "regular_season['position'].value_counts()"
   ],
   "metadata": {
    "collapsed": false,
    "pycharm": {
     "name": "#%%\n"
    }
   }
  },
  {
   "cell_type": "code",
   "execution_count": 106,
   "outputs": [
    {
     "data": {
      "text/plain": "(2454, 34)"
     },
     "execution_count": 106,
     "metadata": {},
     "output_type": "execute_result"
    }
   ],
   "source": [
    "position = regular_season['position']\n",
    "\n",
    "hit = []\n",
    "pos = []\n",
    "\n",
    "for index in position.index:\n",
    "    if str == type(position[index]):\n",
    "        value = position[index].split('(')\n",
    "        hit.append(value[1][2:4])\n",
    "        pos.append(value[0])\n",
    "\n",
    "\n",
    "    elif math.isnan(position[index]):\n",
    "        hit.append(position[index])\n",
    "        pos.append(position[index])\n",
    "regular_season['hit_way'] = hit\n",
    "regular_season['pos'] = pos\n",
    "regular_season.shape\n",
    "\n"
   ],
   "metadata": {
    "collapsed": false,
    "pycharm": {
     "name": "#%%\n"
    }
   }
  },
  {
   "cell_type": "code",
   "execution_count": 107,
   "outputs": [
    {
     "data": {
      "text/plain": "      batter_id batter_name  year team    avg    G   AB   R   H  2B  ...  \\\n0             0        가르시아  2018   LG  0.339   50  183  27  62   9  ...   \n1             1         강경학  2011   한화  0.000    2    1   0   0   0  ...   \n2             1         강경학  2014   한화  0.221   41   86  11  19   2  ...   \n3             1         강경학  2015   한화  0.257  120  311  50  80   7  ...   \n4             1         강경학  2016   한화  0.158   46  101  16  16   3  ...   \n...         ...         ...   ...  ...    ...  ...  ...  ..  ..  ..  ...   \n2449        344         황진수  2014   롯데  0.000    5    5   0   0   0  ...   \n2450        344         황진수  2015   롯데  0.000    2    2   0   0   0  ...   \n2451        344         황진수  2016   롯데  0.000   11   10   2   0   0  ...   \n2452        344         황진수  2017   롯데  0.291   60  117  18  34   6  ...   \n2453        344         황진수  2018   롯데  0.167   18   24   6   4   1  ...   \n\n          year_born   position                                  career  \\\n0     1985년 04월 12일  내야수(우투우타)  쿠바 Ciego de Avila Maximo Gomez Baez(대)   \n1     1992년 08월 11일  내야수(우투좌타)                       광주대성초-광주동성중-광주동성고   \n2     1992년 08월 11일  내야수(우투좌타)                       광주대성초-광주동성중-광주동성고   \n3     1992년 08월 11일  내야수(우투좌타)                       광주대성초-광주동성중-광주동성고   \n4     1992년 08월 11일  내야수(우투좌타)                       광주대성초-광주동성중-광주동성고   \n...             ...        ...                                     ...   \n2449  1989년 02월 15일  내야수(우투양타)                             석천초-대헌중-공주고   \n2450  1989년 02월 15일  내야수(우투양타)                             석천초-대헌중-공주고   \n2451  1989년 02월 15일  내야수(우투양타)                             석천초-대헌중-공주고   \n2452  1989년 02월 15일  내야수(우투양타)                             석천초-대헌중-공주고   \n2453  1989년 02월 15일  내야수(우투양타)                             석천초-대헌중-공주고   \n\n      starting_salary    OPS  weight  height  weight_per_height  hit_way  pos  \n0                 NaN  0.902    93.0   177.0           0.525424       우타  내야수  \n1             10000만원  0.000    72.0   180.0           0.400000       좌타  내야수  \n2             10000만원  0.686    72.0   180.0           0.400000       좌타  내야수  \n3             10000만원  0.673    72.0   180.0           0.400000       좌타  내야수  \n4             10000만원  0.489    72.0   180.0           0.400000       좌타  내야수  \n...               ...    ...     ...     ...                ...      ...  ...  \n2449           4000만원  0.000    82.0   181.0           0.453039       양타  내야수  \n2450           4000만원  0.000    82.0   181.0           0.453039       양타  내야수  \n2451           4000만원  0.000    82.0   181.0           0.453039       양타  내야수  \n2452           4000만원  0.761    82.0   181.0           0.453039       양타  내야수  \n2453           4000만원  0.564    82.0   181.0           0.453039       양타  내야수  \n\n[2454 rows x 34 columns]",
      "text/html": "<div>\n<style scoped>\n    .dataframe tbody tr th:only-of-type {\n        vertical-align: middle;\n    }\n\n    .dataframe tbody tr th {\n        vertical-align: top;\n    }\n\n    .dataframe thead th {\n        text-align: right;\n    }\n</style>\n<table border=\"1\" class=\"dataframe\">\n  <thead>\n    <tr style=\"text-align: right;\">\n      <th></th>\n      <th>batter_id</th>\n      <th>batter_name</th>\n      <th>year</th>\n      <th>team</th>\n      <th>avg</th>\n      <th>G</th>\n      <th>AB</th>\n      <th>R</th>\n      <th>H</th>\n      <th>2B</th>\n      <th>...</th>\n      <th>year_born</th>\n      <th>position</th>\n      <th>career</th>\n      <th>starting_salary</th>\n      <th>OPS</th>\n      <th>weight</th>\n      <th>height</th>\n      <th>weight_per_height</th>\n      <th>hit_way</th>\n      <th>pos</th>\n    </tr>\n  </thead>\n  <tbody>\n    <tr>\n      <th>0</th>\n      <td>0</td>\n      <td>가르시아</td>\n      <td>2018</td>\n      <td>LG</td>\n      <td>0.339</td>\n      <td>50</td>\n      <td>183</td>\n      <td>27</td>\n      <td>62</td>\n      <td>9</td>\n      <td>...</td>\n      <td>1985년 04월 12일</td>\n      <td>내야수(우투우타)</td>\n      <td>쿠바 Ciego de Avila Maximo Gomez Baez(대)</td>\n      <td>NaN</td>\n      <td>0.902</td>\n      <td>93.0</td>\n      <td>177.0</td>\n      <td>0.525424</td>\n      <td>우타</td>\n      <td>내야수</td>\n    </tr>\n    <tr>\n      <th>1</th>\n      <td>1</td>\n      <td>강경학</td>\n      <td>2011</td>\n      <td>한화</td>\n      <td>0.000</td>\n      <td>2</td>\n      <td>1</td>\n      <td>0</td>\n      <td>0</td>\n      <td>0</td>\n      <td>...</td>\n      <td>1992년 08월 11일</td>\n      <td>내야수(우투좌타)</td>\n      <td>광주대성초-광주동성중-광주동성고</td>\n      <td>10000만원</td>\n      <td>0.000</td>\n      <td>72.0</td>\n      <td>180.0</td>\n      <td>0.400000</td>\n      <td>좌타</td>\n      <td>내야수</td>\n    </tr>\n    <tr>\n      <th>2</th>\n      <td>1</td>\n      <td>강경학</td>\n      <td>2014</td>\n      <td>한화</td>\n      <td>0.221</td>\n      <td>41</td>\n      <td>86</td>\n      <td>11</td>\n      <td>19</td>\n      <td>2</td>\n      <td>...</td>\n      <td>1992년 08월 11일</td>\n      <td>내야수(우투좌타)</td>\n      <td>광주대성초-광주동성중-광주동성고</td>\n      <td>10000만원</td>\n      <td>0.686</td>\n      <td>72.0</td>\n      <td>180.0</td>\n      <td>0.400000</td>\n      <td>좌타</td>\n      <td>내야수</td>\n    </tr>\n    <tr>\n      <th>3</th>\n      <td>1</td>\n      <td>강경학</td>\n      <td>2015</td>\n      <td>한화</td>\n      <td>0.257</td>\n      <td>120</td>\n      <td>311</td>\n      <td>50</td>\n      <td>80</td>\n      <td>7</td>\n      <td>...</td>\n      <td>1992년 08월 11일</td>\n      <td>내야수(우투좌타)</td>\n      <td>광주대성초-광주동성중-광주동성고</td>\n      <td>10000만원</td>\n      <td>0.673</td>\n      <td>72.0</td>\n      <td>180.0</td>\n      <td>0.400000</td>\n      <td>좌타</td>\n      <td>내야수</td>\n    </tr>\n    <tr>\n      <th>4</th>\n      <td>1</td>\n      <td>강경학</td>\n      <td>2016</td>\n      <td>한화</td>\n      <td>0.158</td>\n      <td>46</td>\n      <td>101</td>\n      <td>16</td>\n      <td>16</td>\n      <td>3</td>\n      <td>...</td>\n      <td>1992년 08월 11일</td>\n      <td>내야수(우투좌타)</td>\n      <td>광주대성초-광주동성중-광주동성고</td>\n      <td>10000만원</td>\n      <td>0.489</td>\n      <td>72.0</td>\n      <td>180.0</td>\n      <td>0.400000</td>\n      <td>좌타</td>\n      <td>내야수</td>\n    </tr>\n    <tr>\n      <th>...</th>\n      <td>...</td>\n      <td>...</td>\n      <td>...</td>\n      <td>...</td>\n      <td>...</td>\n      <td>...</td>\n      <td>...</td>\n      <td>...</td>\n      <td>...</td>\n      <td>...</td>\n      <td>...</td>\n      <td>...</td>\n      <td>...</td>\n      <td>...</td>\n      <td>...</td>\n      <td>...</td>\n      <td>...</td>\n      <td>...</td>\n      <td>...</td>\n      <td>...</td>\n      <td>...</td>\n    </tr>\n    <tr>\n      <th>2449</th>\n      <td>344</td>\n      <td>황진수</td>\n      <td>2014</td>\n      <td>롯데</td>\n      <td>0.000</td>\n      <td>5</td>\n      <td>5</td>\n      <td>0</td>\n      <td>0</td>\n      <td>0</td>\n      <td>...</td>\n      <td>1989년 02월 15일</td>\n      <td>내야수(우투양타)</td>\n      <td>석천초-대헌중-공주고</td>\n      <td>4000만원</td>\n      <td>0.000</td>\n      <td>82.0</td>\n      <td>181.0</td>\n      <td>0.453039</td>\n      <td>양타</td>\n      <td>내야수</td>\n    </tr>\n    <tr>\n      <th>2450</th>\n      <td>344</td>\n      <td>황진수</td>\n      <td>2015</td>\n      <td>롯데</td>\n      <td>0.000</td>\n      <td>2</td>\n      <td>2</td>\n      <td>0</td>\n      <td>0</td>\n      <td>0</td>\n      <td>...</td>\n      <td>1989년 02월 15일</td>\n      <td>내야수(우투양타)</td>\n      <td>석천초-대헌중-공주고</td>\n      <td>4000만원</td>\n      <td>0.000</td>\n      <td>82.0</td>\n      <td>181.0</td>\n      <td>0.453039</td>\n      <td>양타</td>\n      <td>내야수</td>\n    </tr>\n    <tr>\n      <th>2451</th>\n      <td>344</td>\n      <td>황진수</td>\n      <td>2016</td>\n      <td>롯데</td>\n      <td>0.000</td>\n      <td>11</td>\n      <td>10</td>\n      <td>2</td>\n      <td>0</td>\n      <td>0</td>\n      <td>...</td>\n      <td>1989년 02월 15일</td>\n      <td>내야수(우투양타)</td>\n      <td>석천초-대헌중-공주고</td>\n      <td>4000만원</td>\n      <td>0.000</td>\n      <td>82.0</td>\n      <td>181.0</td>\n      <td>0.453039</td>\n      <td>양타</td>\n      <td>내야수</td>\n    </tr>\n    <tr>\n      <th>2452</th>\n      <td>344</td>\n      <td>황진수</td>\n      <td>2017</td>\n      <td>롯데</td>\n      <td>0.291</td>\n      <td>60</td>\n      <td>117</td>\n      <td>18</td>\n      <td>34</td>\n      <td>6</td>\n      <td>...</td>\n      <td>1989년 02월 15일</td>\n      <td>내야수(우투양타)</td>\n      <td>석천초-대헌중-공주고</td>\n      <td>4000만원</td>\n      <td>0.761</td>\n      <td>82.0</td>\n      <td>181.0</td>\n      <td>0.453039</td>\n      <td>양타</td>\n      <td>내야수</td>\n    </tr>\n    <tr>\n      <th>2453</th>\n      <td>344</td>\n      <td>황진수</td>\n      <td>2018</td>\n      <td>롯데</td>\n      <td>0.167</td>\n      <td>18</td>\n      <td>24</td>\n      <td>6</td>\n      <td>4</td>\n      <td>1</td>\n      <td>...</td>\n      <td>1989년 02월 15일</td>\n      <td>내야수(우투양타)</td>\n      <td>석천초-대헌중-공주고</td>\n      <td>4000만원</td>\n      <td>0.564</td>\n      <td>82.0</td>\n      <td>181.0</td>\n      <td>0.453039</td>\n      <td>양타</td>\n      <td>내야수</td>\n    </tr>\n  </tbody>\n</table>\n<p>2454 rows × 34 columns</p>\n</div>"
     },
     "execution_count": 107,
     "metadata": {},
     "output_type": "execute_result"
    }
   ],
   "source": [
    "regular_season"
   ],
   "metadata": {
    "collapsed": false,
    "pycharm": {
     "name": "#%%\n"
    }
   }
  },
  {
   "cell_type": "code",
   "execution_count": 108,
   "outputs": [
    {
     "name": "stdout",
     "output_type": "stream",
     "text": [
      "pos 수 : {'내야수': 827, '외야수': 622, '포수': 203}, pos중앙값: {'내야수': 0.706, '외야수': 0.7190000000000001, '포수': 0.639}\n",
      "hit_way 수 : {'우타': 1062, '좌타': 576, '양타': 14}, hit_way 중앙값: {'양타': 0.63, '우타': 0.7, '좌타': 0.7130000000000001}\n"
     ]
    },
    {
     "name": "stderr",
     "output_type": "stream",
     "text": [
      "C:\\Users\\user\\AppData\\Roaming\\Python\\Python39\\site-packages\\matplotlib\\backends\\backend_agg.py:238: RuntimeWarning: Glyph 45236 missing from current font.\n",
      "  font.set_text(s, 0.0, flags=flags)\n",
      "C:\\Users\\user\\AppData\\Roaming\\Python\\Python39\\site-packages\\matplotlib\\backends\\backend_agg.py:238: RuntimeWarning: Glyph 50556 missing from current font.\n",
      "  font.set_text(s, 0.0, flags=flags)\n",
      "C:\\Users\\user\\AppData\\Roaming\\Python\\Python39\\site-packages\\matplotlib\\backends\\backend_agg.py:238: RuntimeWarning: Glyph 49688 missing from current font.\n",
      "  font.set_text(s, 0.0, flags=flags)\n",
      "C:\\Users\\user\\AppData\\Roaming\\Python\\Python39\\site-packages\\matplotlib\\backends\\backend_agg.py:238: RuntimeWarning: Glyph 50808 missing from current font.\n",
      "  font.set_text(s, 0.0, flags=flags)\n",
      "C:\\Users\\user\\AppData\\Roaming\\Python\\Python39\\site-packages\\matplotlib\\backends\\backend_agg.py:238: RuntimeWarning: Glyph 54252 missing from current font.\n",
      "  font.set_text(s, 0.0, flags=flags)\n",
      "C:\\Users\\user\\AppData\\Roaming\\Python\\Python39\\site-packages\\matplotlib\\backends\\backend_agg.py:238: RuntimeWarning: Glyph 50864 missing from current font.\n",
      "  font.set_text(s, 0.0, flags=flags)\n",
      "C:\\Users\\user\\AppData\\Roaming\\Python\\Python39\\site-packages\\matplotlib\\backends\\backend_agg.py:238: RuntimeWarning: Glyph 53440 missing from current font.\n",
      "  font.set_text(s, 0.0, flags=flags)\n",
      "C:\\Users\\user\\AppData\\Roaming\\Python\\Python39\\site-packages\\matplotlib\\backends\\backend_agg.py:238: RuntimeWarning: Glyph 51340 missing from current font.\n",
      "  font.set_text(s, 0.0, flags=flags)\n",
      "C:\\Users\\user\\AppData\\Roaming\\Python\\Python39\\site-packages\\matplotlib\\backends\\backend_agg.py:238: RuntimeWarning: Glyph 50577 missing from current font.\n",
      "  font.set_text(s, 0.0, flags=flags)\n",
      "C:\\Users\\user\\AppData\\Roaming\\Python\\Python39\\site-packages\\matplotlib\\backends\\backend_agg.py:201: RuntimeWarning: Glyph 45236 missing from current font.\n",
      "  font.set_text(s, 0, flags=flags)\n",
      "C:\\Users\\user\\AppData\\Roaming\\Python\\Python39\\site-packages\\matplotlib\\backends\\backend_agg.py:201: RuntimeWarning: Glyph 50556 missing from current font.\n",
      "  font.set_text(s, 0, flags=flags)\n",
      "C:\\Users\\user\\AppData\\Roaming\\Python\\Python39\\site-packages\\matplotlib\\backends\\backend_agg.py:201: RuntimeWarning: Glyph 49688 missing from current font.\n",
      "  font.set_text(s, 0, flags=flags)\n",
      "C:\\Users\\user\\AppData\\Roaming\\Python\\Python39\\site-packages\\matplotlib\\backends\\backend_agg.py:201: RuntimeWarning: Glyph 50808 missing from current font.\n",
      "  font.set_text(s, 0, flags=flags)\n",
      "C:\\Users\\user\\AppData\\Roaming\\Python\\Python39\\site-packages\\matplotlib\\backends\\backend_agg.py:201: RuntimeWarning: Glyph 54252 missing from current font.\n",
      "  font.set_text(s, 0, flags=flags)\n",
      "C:\\Users\\user\\AppData\\Roaming\\Python\\Python39\\site-packages\\matplotlib\\backends\\backend_agg.py:201: RuntimeWarning: Glyph 50864 missing from current font.\n",
      "  font.set_text(s, 0, flags=flags)\n",
      "C:\\Users\\user\\AppData\\Roaming\\Python\\Python39\\site-packages\\matplotlib\\backends\\backend_agg.py:201: RuntimeWarning: Glyph 53440 missing from current font.\n",
      "  font.set_text(s, 0, flags=flags)\n",
      "C:\\Users\\user\\AppData\\Roaming\\Python\\Python39\\site-packages\\matplotlib\\backends\\backend_agg.py:201: RuntimeWarning: Glyph 51340 missing from current font.\n",
      "  font.set_text(s, 0, flags=flags)\n",
      "C:\\Users\\user\\AppData\\Roaming\\Python\\Python39\\site-packages\\matplotlib\\backends\\backend_agg.py:201: RuntimeWarning: Glyph 50577 missing from current font.\n",
      "  font.set_text(s, 0, flags=flags)\n"
     ]
    },
    {
     "data": {
      "text/plain": "<Figure size 1080x360 with 2 Axes>",
      "image/png": "[encoded data removed]"
     },
     "metadata": {
      "needs_background": "light"
     },
     "output_type": "display_data"
    }
   ],
   "source": [
    "plt.figure(figsize=(15,5))\n",
    "plt.subplot(1,2,1)\n",
    "\n",
    "ax = sns.boxplot(x=\"pos\", y=\"OPS\", data=regular_season, showfliers=False)\n",
    "\n",
    "#position 별 OPS 중앙값\n",
    "medians = regular_season.groupby('pos')['OPS'].median().to_dict()\n",
    "nobs = regular_season['pos'].value_counts().to_dict()\n",
    "\n",
    "print(f\"pos 수 : {nobs}, pos중앙값: {medians}\")\n",
    "\n",
    "ax.set_title('position OPS')\n",
    "\n",
    "plt.subplot(1,2,2)\n",
    "\n",
    "ax = sns.boxplot(x='hit_way', y='OPS', data=regular_season, showfliers=False)\n",
    "\n",
    "#타자 방향별 OPS 중앙값\n",
    "medians = regular_season.groupby(['hit_way'])['OPS'].median().to_dict()\n",
    "nobs = regular_season['hit_way'].value_counts().to_dict()\n",
    "\n",
    "print(f\"hit_way 수 : {nobs}, hit_way 중앙값: {medians}\")"
   ],
   "metadata": {
    "collapsed": false,
    "pycharm": {
     "name": "#%%\n"
    }
   }
  },
  {
   "cell_type": "code",
   "execution_count": 109,
   "outputs": [],
   "source": [
    "#null 체크를 하는 방법 직접!!\n",
    "#regular_season.isnull().sum(axis=0)\n",
    "\n",
    "#null 체크\n",
    "#regular_season[regular_season['career'].isnull()]"
   ],
   "metadata": {
    "collapsed": false,
    "pycharm": {
     "name": "#%%\n"
    }
   }
  },
  {
   "cell_type": "code",
   "execution_count": 110,
   "outputs": [],
   "source": [
    "test = regular_season['career'][0].split('-')\n",
    "career = regular_season['career']\n",
    "\n",
    "\n",
    "country = []\n",
    "for index in career.index:\n",
    "    if str == type(career[index]):\n",
    "        splits = career[index].split('중')\n",
    "        if len(splits) > 1:\n",
    "            country.append('korea')\n",
    "        else:\n",
    "            country.append('foreign')\n",
    "    else:\n",
    "        country.append(career[index])\n",
    "\n",
    "len(country)\n",
    "\n",
    "regular_season['country'] = country\n",
    "# for index in h_w_np.index:\n",
    "#     #print(type(h_w_np[index]))\n",
    "#     if str == type(h_w_np[index]):\n",
    "#         value = h_w_np[index].split('/')\n",
    "#         print(value[0], value[1])\n",
    "#         weight_notKg = value[1].split('k')[0]\n",
    "#         height_notCm = value[0].split('c')[0]\n",
    "#         weight.append(float(weight_notKg))\n",
    "#         height.append(float(height_notCm))\n",
    "#\n",
    "#     elif math.isnan(h_w_np[index]):\n",
    "#         weight.append(h_w_np[index])\n",
    "#         height.append(h_w_np[index])\n",
    "\n"
   ],
   "metadata": {
    "collapsed": false,
    "pycharm": {
     "name": "#%%\n"
    }
   }
  },
  {
   "cell_type": "code",
   "execution_count": 111,
   "outputs": [
    {
     "name": "stdout",
     "output_type": "stream",
     "text": [
      "중앙값 : {'foreign': 0.9086557775003468, 'korea': 0.685}, 한국/외국 : {'korea': 2420, 'foreign': 34}\n"
     ]
    },
    {
     "data": {
      "text/plain": "<Figure size 1080x360 with 1 Axes>",
      "image/png": "[encoded data removed]"
     },
     "metadata": {
      "needs_background": "light"
     },
     "output_type": "display_data"
    }
   ],
   "source": [
    "plt.figure(figsize=(15,5))\n",
    "ax = sns.boxplot(x='country', y = 'OPS', data=regular_season, showfliers=False)\n",
    "\n",
    "medians = regular_season.groupby('country')['OPS'].median().to_dict()\n",
    "nobs = regular_season['country'].value_counts().to_dict()\n",
    "print(f\"중앙값 : {medians}, 한국/외국 : {nobs}\")"
   ],
   "metadata": {
    "collapsed": false,
    "pycharm": {
     "name": "#%%\n"
    }
   }
  },
  {
   "cell_type": "code",
   "execution_count": 112,
   "outputs": [
    {
     "data": {
      "text/plain": "10000만원     177\n6000만원      117\n3000만원      105\n9000만원       97\n5000만원       91\n8000만원       89\n30000만원      74\n4000만원       62\n12000만원      62\n18000만원      54\n7000만원       53\n11000만원      49\n13000만원      48\n20000만원      46\n25000만원      45\n15000만원      41\n16000만원      28\n14000만원      26\n28000만원      20\n43000만원      17\n45000만원      16\n27000만원      15\n21000만원      13\n23000만원      12\n33000만원      10\n6500만원       10\n100000달러      4\n300000달러      3\n50000달러       2\n17000만원       1\nName: starting_salary, dtype: int64"
     },
     "execution_count": 112,
     "metadata": {},
     "output_type": "execute_result"
    }
   ],
   "source": [
    "regular_season['starting_salary'].value_counts()"
   ],
   "metadata": {
    "collapsed": false,
    "pycharm": {
     "name": "#%%\n"
    }
   }
  },
  {
   "cell_type": "code",
   "execution_count": 113,
   "outputs": [],
   "source": [
    "from numpy import nan as NA\n",
    "\n",
    "starting_salary = regular_season['starting_salary']\n",
    "\n",
    "starting_salary_list = []\n",
    "for index in starting_salary.index:\n",
    "    if type(starting_salary[index]) == str:\n",
    "        temp = starting_salary[index].split('만원')\n",
    "        if len(temp) > 1:\n",
    "            starting_salary_list.append(temp[0])\n",
    "        else:\n",
    "            starting_salary_list.append(NA)\n",
    "            continue\n",
    "    else:\n",
    "        starting_salary_list.append(NA)\n",
    "\n",
    "regular_season['starting_salary_list'] = starting_salary_list"
   ],
   "metadata": {
    "collapsed": false,
    "pycharm": {
     "name": "#%%\n"
    }
   }
  },
  {
   "cell_type": "code",
   "execution_count": 114,
   "outputs": [
    {
     "name": "stderr",
     "output_type": "stream",
     "text": [
      "c:\\users\\user\\appdata\\local\\programs\\python\\python39\\lib\\site-packages\\seaborn\\distributions.py:2619: FutureWarning: `distplot` is a deprecated function and will be removed in a future version. Please adapt your code to use either `displot` (a figure-level function with similar flexibility) or `histplot` (an axes-level function for histograms).\n",
      "  warnings.warn(msg, FutureWarning)\n",
      "c:\\users\\user\\appdata\\local\\programs\\python\\python39\\lib\\site-packages\\seaborn\\_decorators.py:36: FutureWarning: Pass the following variables as keyword args: x, y. From version 0.12, the only valid positional argument will be `data`, and passing other arguments without an explicit keyword will result in an error or misinterpretation.\n",
      "  warnings.warn(\n"
     ]
    },
    {
     "data": {
      "text/plain": "<Figure size 1080x360 with 2 Axes>",
      "image/png": "[encoded data removed]"
     },
     "metadata": {
      "needs_background": "light"
     },
     "output_type": "display_data"
    }
   ],
   "source": [
    "plt.figure(figsize=(15,5))\n",
    "plt.subplot(1,2,1)\n",
    "\n",
    "# b= sns.distplot(starting_salary_list, hist=True)\n",
    "b= sns.distplot(regular_season['starting_salary_list'].loc[regular_season['starting_salary_list'].notnull()], hist=True)\n",
    "b.set_xlabel('starting salary', fontsize=12)\n",
    "b.set_title('Distribution', fontsize=12)\n",
    "\n",
    "corr = regular_season['starting_salary_list'].astype(float).corr(regular_season['OPS'])\n",
    "\n",
    "plt.subplot(1,2,2)\n",
    "b= sns.scatterplot(regular_season['starting_salary_list'], regular_season['OPS'])\n",
    "b.axes.set_title('corr : '+ str(np.round(corr,2)), fontsize=20)\n",
    "b.set_xlabel('starting_salary')\n",
    "b.set_ylabel('regular_season OPS')\n",
    "plt.show()\n"
   ],
   "metadata": {
    "collapsed": false,
    "pycharm": {
     "name": "#%%\n"
    }
   }
  },
  {
   "cell_type": "code",
   "execution_count": 115,
   "outputs": [
    {
     "data": {
      "text/plain": "10000    177\n6000     117\n3000     105\n9000      97\n5000      91\n8000      89\n30000     74\n4000      62\n12000     62\n18000     54\n7000      53\n11000     49\n13000     48\n20000     46\n25000     45\n15000     41\n16000     28\n14000     26\n28000     20\n43000     17\n45000     16\n27000     15\n21000     13\n23000     12\n33000     10\n6500      10\n17000      1\nName: starting_salary_list, dtype: int64"
     },
     "execution_count": 115,
     "metadata": {},
     "output_type": "execute_result"
    }
   ],
   "source": [
    "regular_season['starting_salary_list'].value_counts()"
   ],
   "metadata": {
    "collapsed": false,
    "pycharm": {
     "name": "#%%\n"
    }
   }
  },
  {
   "cell_type": "code",
   "execution_count": 116,
   "outputs": [
    {
     "data": {
      "text/plain": "<AxesSubplot:>"
     },
     "execution_count": 116,
     "metadata": {},
     "output_type": "execute_result"
    },
    {
     "data": {
      "text/plain": "<Figure size 432x288 with 2 Axes>",
      "image/png": "[encoded data removed]"
     },
     "metadata": {
      "needs_background": "light"
     },
     "output_type": "display_data"
    }
   ],
   "source": [
    "regular_season.corr()\n",
    "\n",
    "sns.heatmap(regular_season.corr())"
   ],
   "metadata": {
    "collapsed": false,
    "pycharm": {
     "name": "#%%\n"
    }
   }
  },
  {
   "cell_type": "code",
   "execution_count": 116,
   "outputs": [],
   "source": [],
   "metadata": {
    "collapsed": false,
    "pycharm": {
     "name": "#%%\n"
    }
   }
  }
 ],
 "metadata": {
  "kernelspec": {
   "display_name": "Python 3",
   "language": "python",
   "name": "python3"
  },
  "language_info": {
   "codemirror_mode": {
    "name": "ipython",
    "version": 2
   },
   "file_extension": ".py",
   "mimetype": "text/x-python",
   "name": "python",
   "nbconvert_exporter": "python",
   "pygments_lexer": "ipython2",
   "version": "2.7.6"
  }
 },
 "nbformat": 4,
 "nbformat_minor": 0
}